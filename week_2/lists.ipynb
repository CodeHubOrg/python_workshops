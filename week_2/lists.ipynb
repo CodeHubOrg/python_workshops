{
 "cells": [
  {
   "cell_type": "markdown",
   "metadata": {},
   "source": [
    "# Lists"
   ]
  },
  {
   "cell_type": "markdown",
   "metadata": {},
   "source": [
    "### Practise creating a list and then accessing the elements"
   ]
  },
  {
   "cell_type": "markdown",
   "metadata": {},
   "source": [
    "##### Creating a list is easy - see the following"
   ]
  },
  {
   "cell_type": "code",
   "execution_count": null,
   "metadata": {},
   "outputs": [],
   "source": [
    "pizza = ['cheese', 'mushroom', 'meat']\n",
    "print('My first list', pizza)"
   ]
  },
  {
   "cell_type": "markdown",
   "metadata": {},
   "source": [
    "#####  What about accessing items within a list.  Think about what you would expect the following to produce - then see if you are right"
   ]
  },
  {
   "cell_type": "code",
   "execution_count": null,
   "metadata": {},
   "outputs": [],
   "source": [
    "things = [17, 123, \"code\", 34.96, 66, 8398.0, \"Hi\"]\n",
    "print(things[2])\n",
    "print(things[1])\n",
    "print(things[9-8])\n",
    "print(things[-2])"
   ]
  },
  {
   "cell_type": "markdown",
   "metadata": {},
   "source": [
    "##### The len function is used a lot in code, and data science in particular.  When you are given some data, one of the first things you will want to do is see how many items you have."
   ]
  },
  {
   "cell_type": "code",
   "execution_count": null,
   "metadata": {},
   "outputs": [],
   "source": [
    "fruit = \"Apple\"\n",
    "print(len(fruit))"
   ]
  },
  {
   "cell_type": "code",
   "execution_count": null,
   "metadata": {},
   "outputs": [],
   "source": [
    "veg = \"Cauliflower\"\n",
    "sz = len(veg)\n",
    "last = veg[sz]       \n",
    "print(last)"
   ]
  },
  {
   "cell_type": "markdown",
   "metadata": {},
   "source": [
    "##### oops - did you predict this.  What went wrong - can you correct it?"
   ]
  },
  {
   "cell_type": "markdown",
   "metadata": {},
   "source": [
    "##### What about this:"
   ]
  },
  {
   "cell_type": "code",
   "execution_count": null,
   "metadata": {},
   "outputs": [],
   "source": [
    "alist =  [\"hiya\", 5.0, 11]\n",
    "print(len(alist))\n",
    "print(len(alist[0]))"
   ]
  },
  {
   "cell_type": "markdown",
   "metadata": {},
   "source": [
    "### Modifying Lists"
   ]
  },
  {
   "cell_type": "markdown",
   "metadata": {},
   "source": [
    "#### Once you have some data you'll probably want to make some changes, eg removing errors, maybe adding some extra data - ie, you will need to modify what you have been given"
   ]
  },
  {
   "cell_type": "code",
   "execution_count": null,
   "metadata": {},
   "outputs": [],
   "source": [
    "bikes = ['Raleigh', 'Giant', 'PlanetX']\n",
    "print('The first list is', bikes)\n",
    "\n",
    "# Replace 'Raleigh' with 'Trek'\n",
    "bikes[0] = 'Trek'\n",
    "print('I have now replaced the first item so the new list is', bikes)\n",
    "\n",
    "# Now I want to add a new bike to the end of the list\n",
    "bikes.append('Orbea')\n",
    "print('Now the list is longer, and it is', bikes)"
   ]
  },
  {
   "cell_type": "markdown",
   "metadata": {},
   "source": [
    "##### Now it's your turn to practise; First create new cell below and create an empty list (refer to the top of this notebook if you've forgotten how) - call it whatever your like.  Now add three elements to the list using the append() method.  "
   ]
  },
  {
   "cell_type": "markdown",
   "metadata": {},
   "source": [
    "##### Great - you have now found a second way of creating a list.  What if we want to remove something?  It's quite easy - use the del statement."
   ]
  },
  {
   "cell_type": "code",
   "execution_count": null,
   "metadata": {},
   "outputs": [],
   "source": [
    "bikes = ['Raleigh', 'Giant', 'PlanetX']\n",
    "del bikes[2]\n",
    "print('The list when an element has been removed is', bikes)"
   ]
  },
  {
   "cell_type": "markdown",
   "metadata": {},
   "source": [
    "#### Phew! Well done - once you've done these then you've mastered the basics of lists!! If you don't feel confident, then set yourself a few more examples - it's all good coding practice!"
   ]
  },
  {
   "cell_type": "code",
   "execution_count": null,
   "metadata": {},
   "outputs": [],
   "source": []
  }
 ],
 "metadata": {
  "kernelspec": {
   "display_name": "Python 3",
   "language": "python",
   "name": "python3"
  },
  "language_info": {
   "codemirror_mode": {
    "name": "ipython",
    "version": 3
   },
   "file_extension": ".py",
   "mimetype": "text/x-python",
   "name": "python",
   "nbconvert_exporter": "python",
   "pygments_lexer": "ipython3",
   "version": "3.7.4"
  }
 },
 "nbformat": 4,
 "nbformat_minor": 2
}
