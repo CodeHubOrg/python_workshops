{
 "cells": [
  {
   "cell_type": "markdown",
   "metadata": {},
   "source": [
    "# Data Types (mostly carried forward from week 1 notebook)"
   ]
  },
  {
   "cell_type": "markdown",
   "metadata": {},
   "source": [
    "##### Operators and types\n",
    "##### We have already used Operators, ie special tokens that represent computations like addition, multiplication and division. The values the operator works on are called operands.\n",
    "##### 'Integer' is a whole number which is expressed without any decimal places, eg 1, 6, 23, etc.  'Floating point' number has numbers after the decimal point - even zero counts, eg 1.3, 6.278, 23.0 etc\n",
    "##### In Python 3 the division operator / produces a floating point result (even if the result is an integer; 4/2 is 2.0). If you want truncated division, which ignores the remainder, you can use the // operator (for example, 5//2 is 2).   "
   ]
  },
  {
   "cell_type": "markdown",
   "metadata": {},
   "source": [
    "##### What do you expect the following to produce - try before you run it?"
   ]
  },
  {
   "cell_type": "code",
   "execution_count": null,
   "metadata": {},
   "outputs": [],
   "source": [
    "print(9 / 5)\n",
    "print(5 / 9)\n",
    "print(9 // 5)"
   ]
  },
  {
   "cell_type": "markdown",
   "metadata": {},
   "source": [
    "##### The truncated division operator, //, also works on floating point numbers. It truncates to the nearest integer, but still produces a floating point result. Thus 7.0 // 3.0 is 2.0.  What do you expect the following to produce - try before you run it?"
   ]
  },
  {
   "cell_type": "code",
   "execution_count": null,
   "metadata": {},
   "outputs": [],
   "source": [
    "print(7.0 / 3.0)\n",
    "print(7.0 // 3.0)\n"
   ]
  },
  {
   "cell_type": "markdown",
   "metadata": {},
   "source": [
    "##### The modulus operator, sometimes also called the remainder operator or integer remainder operator works on integers and yields the remainder when the first operand is divided by the second. In Python, the modulus operator is a percent sign (%). What will the following produce?"
   ]
  },
  {
   "cell_type": "code",
   "execution_count": null,
   "metadata": {},
   "outputs": [],
   "source": [
    "print(7 % 3)  "
   ]
  },
  {
   "cell_type": "markdown",
   "metadata": {},
   "source": [
    "##### What do you think the following will produce:\n",
    "- print(18 / 4)\n",
    "- print(18.0 // 4)\n",
    "- print(18 % 4)\n",
    "\n",
    "##### Now check your answers by writing some Python code"
   ]
  },
  {
   "cell_type": "markdown",
   "metadata": {},
   "source": [
    "#### Variable names cannot start with a number - not a particularly helpful error message in this case!.  Similarly, they cannot contain spaces - try printing out a variable name containing a space to demonstrate it."
   ]
  },
  {
   "cell_type": "code",
   "execution_count": null,
   "metadata": {},
   "outputs": [],
   "source": []
  }
 ],
 "metadata": {
  "kernelspec": {
   "display_name": "Python 3",
   "language": "python",
   "name": "python3"
  },
  "language_info": {
   "codemirror_mode": {
    "name": "ipython",
    "version": 3
   },
   "file_extension": ".py",
   "mimetype": "text/x-python",
   "name": "python",
   "nbconvert_exporter": "python",
   "pygments_lexer": "ipython3",
   "version": "3.7.4"
  }
 },
 "nbformat": 4,
 "nbformat_minor": 2
}
