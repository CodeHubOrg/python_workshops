{
 "cells": [
  {
   "cell_type": "markdown",
   "metadata": {},
   "source": [
    "# A selection of exercises which use one or more of the topics presented - plus a few extra bits of useful functionality"
   ]
  },
  {
   "cell_type": "markdown",
   "metadata": {},
   "source": [
    "### Data types"
   ]
  },
  {
   "cell_type": "markdown",
   "metadata": {},
   "source": [
    "##### 'Integers' and 'floats' are both 'Data Types' in Python. Another common one is 'string', ie a sequence of letters. You (and the interpreter) can identify strings because they are enclosed in quotation marks. For example, 'Hello World' is a String. The Data Type of a value determines how Python stores and uses that variable and, sometimes, it is often useful to know what Data Type a variable is - confusion on this point is a common source of programing errors.¶"
   ]
  },
  {
   "cell_type": "markdown",
   "metadata": {},
   "source": [
    "##### Python has a function called type which can tell you the Data Type of a variable. For example:"
   ]
  },
  {
   "cell_type": "code",
   "execution_count": null,
   "metadata": {},
   "outputs": [],
   "source": [
    "a = 12.0\n",
    "type_a = type(a)\n",
    "print('a is',a ,'and the type of a is', type_a)\n",
    "\n",
    "b = int(a)\n",
    "type_b = type(b)\n",
    "print('b is',b ,'and the type of b is', type_b)"
   ]
  },
  {
   "cell_type": "markdown",
   "metadata": {},
   "source": [
    "##### Can you predict what the following cell will produce, before running it?"
   ]
  },
  {
   "cell_type": "code",
   "execution_count": null,
   "metadata": {},
   "outputs": [],
   "source": [
    "print(type(\"Hello, World!\"))\n",
    "print(type(17))\n",
    "print(\"Hello, World\")\n",
    "print(type(3.2))"
   ]
  },
  {
   "cell_type": "markdown",
   "metadata": {},
   "source": [
    "##### What about the following cell - they look like numbers, but they are in quotation marks like strings.:"
   ]
  },
  {
   "cell_type": "code",
   "execution_count": null,
   "metadata": {},
   "outputs": [],
   "source": [
    "print(type(\"17\"))\n",
    "print(type(\"3.2\"))"
   ]
  },
  {
   "cell_type": "markdown",
   "metadata": {},
   "source": [
    "##### They’re strings!\n",
    "##### Strings in Python can be enclosed in either single quotes (') or double quotes (\"), or three of each (''' or \"\"\")"
   ]
  },
  {
   "cell_type": "markdown",
   "metadata": {},
   "source": [
    "##### If a variable is assigned to a number or string, then the type function will also work on the variable, eg"
   ]
  },
  {
   "cell_type": "code",
   "execution_count": null,
   "metadata": {},
   "outputs": [],
   "source": [
    "message = \"What's up, Doc?\"\n",
    "n = 17\n",
    "pi = 3.14159\n",
    "\n",
    "print(type(message))\n",
    "print(type(n))\n",
    "print(type(pi))"
   ]
  },
  {
   "cell_type": "markdown",
   "metadata": {},
   "source": [
    "##### Some variable names will cause errors. Try the following"
   ]
  },
  {
   "cell_type": "code",
   "execution_count": null,
   "metadata": {},
   "outputs": [],
   "source": [
    "message_1 = \"Hello World\"\n",
    "print(\"message_1 is\", message_1)\n",
    "\n",
    "1_message = \"Hello World\"\n",
    "print(\"1_message is\", 1_message)"
   ]
  },
  {
   "cell_type": "markdown",
   "metadata": {},
   "source": [
    "##### Variable names cannot start with a number - not a particularly helpful error message in this case!. Similarly, they cannot contain spaces - try printing out a variable name containing a space to demonstrate it."
   ]
  },
  {
   "cell_type": "markdown",
   "metadata": {},
   "source": [
    "### Playing with lists and dicts (and a few other useful tricks)"
   ]
  },
  {
   "cell_type": "markdown",
   "metadata": {},
   "source": [
    "##### Look at the following code and try to determine what is happening"
   ]
  },
  {
   "cell_type": "code",
   "execution_count": 7,
   "metadata": {},
   "outputs": [
    {
     "name": "stdout",
     "output_type": "stream",
     "text": [
      "Ada Lovelace\n"
     ]
    }
   ],
   "source": [
    "name_ada = \"ada lovelace\"\n",
    "print(name_ada.title())"
   ]
  },
  {
   "cell_type": "markdown",
   "metadata": {},
   "source": [
    "##### What do you think the following will produce - try it an see if you are right:"
   ]
  },
  {
   "cell_type": "code",
   "execution_count": 8,
   "metadata": {},
   "outputs": [
    {
     "name": "stdout",
     "output_type": "stream",
     "text": [
      "MARIE CURIE\n",
      "marie curie\n"
     ]
    }
   ],
   "source": [
    "name_marie = \"Marie Curie\"\n",
    "print(name_marie.upper())\n",
    "print(name_marie.lower())\n"
   ]
  },
  {
   "cell_type": "markdown",
   "metadata": {},
   "source": [
    "##### If you now print out name_marie, what do you think you will get?  Try it and check your answer."
   ]
  },
  {
   "cell_type": "markdown",
   "metadata": {},
   "source": [
    "##### What is the output from the following - predict before trying"
   ]
  },
  {
   "cell_type": "code",
   "execution_count": 9,
   "metadata": {},
   "outputs": [
    {
     "name": "stdout",
     "output_type": "stream",
     "text": [
      "tptptptptp\n"
     ]
    }
   ],
   "source": [
    "let_t = \"t\"\n",
    "let_p = \"p\"\n",
    "c = let_t + let_p\n",
    "m = c*5\n",
    "print(m)"
   ]
  },
  {
   "cell_type": "markdown",
   "metadata": {},
   "source": [
    "### Lists and dictionaries"
   ]
  },
  {
   "cell_type": "markdown",
   "metadata": {},
   "source": [
    "##### In a new cell, create a list of people you might like to invite to supper at the weekend - call the list supper"
   ]
  },
  {
   "cell_type": "markdown",
   "metadata": {},
   "source": [
    "##### One of them can't come - can you remove him or her?  Maybe you want to invite someone else instead - could you add them to the list"
   ]
  },
  {
   "cell_type": "markdown",
   "metadata": {},
   "source": [
    "##### Now you are deciding what to make - maybe a record of your invitees' favourite foods would be helpful.   Now make a dictionary of those you are going to invite where the key is the name and the value is their favourite food.  \n",
    "##### Print out just the foods, so you can easily look at them and decide what to make"
   ]
  },
  {
   "cell_type": "markdown",
   "metadata": {},
   "source": [
    "#####  mmmm - it's proving a bit difficult to find something that covers all the favourite foods.  Maybe it would be better to have a few of the favourite foods for each person so you have more flexibility in what to make.\n",
    "##### Change the values in the dictionary to be a list of the favourite foods for each person.  As many, or as few, items in each list as you like!"
   ]
  },
  {
   "cell_type": "markdown",
   "metadata": {},
   "source": [
    "##### Now print all the foods out again - it should give a better choice of what to make!"
   ]
  },
  {
   "cell_type": "markdown",
   "metadata": {},
   "source": [
    "##### Now - can you create a new dictionary where the keys are the names of the people above, and the values are the number of favourite foods for each person.  You should be able to do it on one line (it may be a bit 'clumsy' and we will see neater ways of doing it in subsequent weeks)."
   ]
  },
  {
   "cell_type": "code",
   "execution_count": null,
   "metadata": {},
   "outputs": [],
   "source": []
  }
 ],
 "metadata": {
  "kernelspec": {
   "display_name": "Python 3",
   "language": "python",
   "name": "python3"
  },
  "language_info": {
   "codemirror_mode": {
    "name": "ipython",
    "version": 3
   },
   "file_extension": ".py",
   "mimetype": "text/x-python",
   "name": "python",
   "nbconvert_exporter": "python",
   "pygments_lexer": "ipython3",
   "version": "3.7.4"
  }
 },
 "nbformat": 4,
 "nbformat_minor": 2
}
