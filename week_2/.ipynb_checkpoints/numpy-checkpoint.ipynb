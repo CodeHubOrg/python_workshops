{
 "cells": [
  {
   "cell_type": "markdown",
   "metadata": {},
   "source": [
    "# Numpy"
   ]
  },
  {
   "cell_type": "markdown",
   "metadata": {},
   "source": [
    "#### In the following cells we've included 'import numpy as np' at the start of each cell - this means that each cell can be used to run numpy without having to run a previous cell first.  However, in many cases it may be unnecessary."
   ]
  },
  {
   "cell_type": "markdown",
   "metadata": {},
   "source": [
    "##### Let's start with some practice to build familiarity with arrays - size and shape."
   ]
  },
  {
   "cell_type": "code",
   "execution_count": null,
   "metadata": {},
   "outputs": [],
   "source": [
    "import numpy as np\n",
    "\n",
    "z = np.array([5, 20, 3])\n",
    "\n",
    "#if we were given an array but didn't know its contents, we'd want to examine it first:\n",
    "\n",
    "print(type(z))            \n",
    "print(z.shape)\n",
    "print(z)\n",
    "print(z[0])   \n",
    "z[0] = 12   \n",
    "print(z)  "
   ]
  },
  {
   "cell_type": "markdown",
   "metadata": {},
   "source": [
    "##### The array above is rank 1.  The cell below defines an array of rank 2.  Can you repeat the exercise above to find its type and shape and then change one of its elements?"
   ]
  },
  {
   "cell_type": "code",
   "execution_count": null,
   "metadata": {},
   "outputs": [],
   "source": [
    "import numpy as np\n",
    "\n",
    "y = np.array([[1,2,3],[11,12,13]])   \n",
    "\n",
    "# Insert your code below"
   ]
  },
  {
   "cell_type": "markdown",
   "metadata": {},
   "source": [
    "##### There are numerous ways to create arrays - the one which is most appropriate will depend on the case in hand.  One of the most common is creating an array full of zeros:"
   ]
  },
  {
   "cell_type": "code",
   "execution_count": null,
   "metadata": {},
   "outputs": [],
   "source": [
    "import numpy as np\n",
    "\n",
    "x = np.zeros((3,2))   \n",
    "print(x)   "
   ]
  },
  {
   "cell_type": "markdown",
   "metadata": {},
   "source": [
    "##### Here are some more common methods of creating arrays - see if you can predict what they will produce before running the cell below."
   ]
  },
  {
   "cell_type": "code",
   "execution_count": null,
   "metadata": {},
   "outputs": [],
   "source": [
    "import numpy as np\n",
    "\n",
    "w = np.ones((2,3)) \n",
    "print(w)\n",
    "\n",
    "v = np.eye(4) \n",
    "print(v)              \n",
    "            \n",
    "t = np.random.random((2,4))  \n",
    "print(t)                     \n",
    "                           "
   ]
  },
  {
   "cell_type": "markdown",
   "metadata": {},
   "source": [
    "#### Manipulating arrays"
   ]
  },
  {
   "cell_type": "markdown",
   "metadata": {},
   "source": [
    "##### A typical requirement is to have a numpy array, and you want to work with just a subset of it, eg you have a 4 x 4 array but the bit that you are interested in is contained within just 2x2 elements.  We need to make use of slicing and indexing.  Work through the following cell and see if you can understand how the output is created."
   ]
  },
  {
   "cell_type": "code",
   "execution_count": null,
   "metadata": {},
   "outputs": [],
   "source": [
    "import numpy as np\n",
    "\n",
    "a = np.array([1,2,3,4])\n",
    "print(a)\n",
    "\n",
    "print(a[1:3])  # a[1:3] is the 1 -> 3 element, exlusive of the last element\n",
    "\n",
    "print(a[:2])  # It is not necessary to put '0' before the colon; it is assumed"
   ]
  },
  {
   "cell_type": "code",
   "execution_count": null,
   "metadata": {},
   "outputs": [],
   "source": [
    "import numpy as np\n",
    "\n",
    "b = np.array([[1,2,3,4], [5,6,7,8], [9,10,11,12], [13,14,15,16]])\n",
    "print(b)\n",
    "\n",
    "# Use slicing to pull out the subarray consisting of the first 2 rows\n",
    "# and first two columns\n",
    " \n",
    "c = b[:2, :2]\n",
    "print(c)"
   ]
  },
  {
   "cell_type": "markdown",
   "metadata": {},
   "source": [
    "##### Now create your own array - say 3 x 5.  Can you print out the 2x2 square of cells from the bottom right hand corner.  Once you've done this, try printing a 2x3 rectangular of cells from somewhere else in the array of your own choosing."
   ]
  },
  {
   "cell_type": "markdown",
   "metadata": {},
   "source": [
    "#### If you haven't used them before, arrays can take a bit of getting used to - but they can be invaluable for manipulating data.  If you eventually do some AI and 'deep learning' then you are likely to become very familiar with them!  The use guide in the official documentation is good - it can be found here: "
   ]
  }
 ],
 "metadata": {
  "kernelspec": {
   "display_name": "Python 3",
   "language": "python",
   "name": "python3"
  },
  "language_info": {
   "codemirror_mode": {
    "name": "ipython",
    "version": 3
   },
   "file_extension": ".py",
   "mimetype": "text/x-python",
   "name": "python",
   "nbconvert_exporter": "python",
   "pygments_lexer": "ipython3",
   "version": "3.7.4"
  }
 },
 "nbformat": 4,
 "nbformat_minor": 2
}
