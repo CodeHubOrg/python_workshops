{
 "cells": [
  {
   "cell_type": "markdown",
   "metadata": {},
   "source": [
    "#### Password checker: The rules for the password for a particular website are:\n",
    " - Must be at least 8 characters long\n",
    " - Contains a mix of upper case, lower case and numbers\n",
    " - Does not contain any other types of character\n",
    "##### Can you write a function which takes a string as input, and checks whether it fulfils the above rules.  Make your responses as helpful as possible so that the user knows where they have gone wrong. \n",
    "##### Add in a prompt which askes the user to input the password."
   ]
  },
  {
   "cell_type": "code",
   "execution_count": null,
   "metadata": {},
   "outputs": [],
   "source": [
    "# Your code here:\n"
   ]
  },
  {
   "cell_type": "markdown",
   "metadata": {},
   "source": [
    "##### Write a code which prompts the user for a whole number, and then uses a function to convert that number into Roman Numerals, and finally presents the result to the user.\n",
    "##### Then write another function which does the reverse, ie converts Roman Numerals into a number.\n",
    "##### Add some checks on the input, so that the appropriate function is selected, irrespective of whether Roman Numeral or 'ordinary' number is input.\n",
    "See the following website for background information, also for an example of the type of functionality you are aiming to provide: https://www.mathsisfun.com/roman-numerals.html"
   ]
  },
  {
   "cell_type": "code",
   "execution_count": null,
   "metadata": {},
   "outputs": [],
   "source": [
    "# Your code here:\n"
   ]
  },
  {
   "cell_type": "markdown",
   "metadata": {},
   "source": [
    "##### All Hail Caesar: The Caesar algorithm is one which replaces each letter in a message with another letter [x] letters later on, where [x] can be any number.  For example, if x = 1, then the cypher for 'python' would be 'qzuipo'.  If x = 2 then the cypher fo 'python' would be 'ravjqp'.\n",
    "##### Write a function which will take a string as input together with a value fo x and returns the cypher.  Don't forget to think about matters such as spaces, question marks and other parts of speech.\n"
   ]
  }
 ],
 "metadata": {
  "kernelspec": {
   "display_name": "Python 3",
   "language": "python",
   "name": "python3"
  },
  "language_info": {
   "codemirror_mode": {
    "name": "ipython",
    "version": 3
   },
   "file_extension": ".py",
   "mimetype": "text/x-python",
   "name": "python",
   "nbconvert_exporter": "python",
   "pygments_lexer": "ipython3",
   "version": "3.7.4"
  }
 },
 "nbformat": 4,
 "nbformat_minor": 2
}
