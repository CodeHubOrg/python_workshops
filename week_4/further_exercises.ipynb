{
 "cells": [
  {
   "cell_type": "markdown",
   "metadata": {},
   "source": [
    "### Password checker"
   ]
  },
  {
   "cell_type": "markdown",
   "metadata": {},
   "source": [
    " The rules for the password for a particular website are:\n",
    " - Must be at least 8 characters long\n",
    " - Contains a mix of upper case, lower case and numbers\n",
    " - Does not contain any other type of characters"
   ]
  },
  {
   "cell_type": "markdown",
   "metadata": {},
   "source": [
    "Can you write a function which takes a string as input, and checks whether it fulfils the above rules?  Make your responses as helpful as possible so that the user knows where they have gone wrong. \n",
    "Add a prompt which asks the user to input the password."
   ]
  },
  {
   "cell_type": "code",
   "execution_count": null,
   "metadata": {},
   "outputs": [],
   "source": [
    "# Your code here:\n"
   ]
  },
  {
   "cell_type": "markdown",
   "metadata": {},
   "source": [
    "### Roman numerals"
   ]
  },
  {
   "cell_type": "markdown",
   "metadata": {},
   "source": [
    "Write a code which prompts the user for a whole number, and then uses a function to convert that number into Roman numerals, and finally presents the result to the user."
   ]
  },
  {
   "cell_type": "markdown",
   "metadata": {},
   "source": [
    "Write another function which does the reverse, i.e., converts Roman numerals into a number."
   ]
  },
  {
   "cell_type": "markdown",
   "metadata": {},
   "source": [
    "Add some checks on the input so that the appropriate function is selected irrespective of whether a Roman numeral or an ordinary number is input."
   ]
  },
  {
   "cell_type": "markdown",
   "metadata": {},
   "source": [
    "See the following website for background information, also for an example of the type of functionality you are aiming to provide: https://www.mathsisfun.com/roman-numerals.html"
   ]
  },
  {
   "cell_type": "code",
   "execution_count": null,
   "metadata": {},
   "outputs": [],
   "source": [
    "# Your code here:\n"
   ]
  },
  {
   "cell_type": "markdown",
   "metadata": {},
   "source": [
    "### All Hail Caesar"
   ]
  },
  {
   "cell_type": "markdown",
   "metadata": {},
   "source": [
    "The Caesar algorithm  replaces each letter in a message with another letter [x], where [x] can be any number.  For example, if x = 1, then the cypher for 'python' would be 'qzuipo'.  If x = 2 then the cypher fo 'python' would be 'ravjqp'."
   ]
  },
  {
   "cell_type": "markdown",
   "metadata": {},
   "source": [
    "Write a function which will take a string and a value for x as input and returns the cypher. Don't forget to think about matters such as spaces, question marks and other parts of speech."
   ]
  },
  {
   "cell_type": "code",
   "execution_count": null,
   "metadata": {},
   "outputs": [],
   "source": [
    "# Your code here:\n"
   ]
  }
 ],
 "metadata": {
  "kernelspec": {
   "display_name": "Python 3",
   "language": "python",
   "name": "python3"
  },
  "language_info": {
   "codemirror_mode": {
    "name": "ipython",
    "version": 3
   },
   "file_extension": ".py",
   "mimetype": "text/x-python",
   "name": "python",
   "nbconvert_exporter": "python",
   "pygments_lexer": "ipython3",
   "version": "3.7.4"
  }
 },
 "nbformat": 4,
 "nbformat_minor": 2
}
