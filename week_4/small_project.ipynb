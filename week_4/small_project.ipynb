{
 "cells": [
  {
   "cell_type": "markdown",
   "metadata": {},
   "source": [
    "## Extra: read input from user and write it to file"
   ]
  },
  {
   "cell_type": "markdown",
   "metadata": {},
   "source": [
    "Imagine you are given an assignment where you are supposed to keep track of customer sign-ins. \n",
    "<br>\n",
    "<br>\n",
    "When a customer signs in for the first time in the system, his/her data will be added to the file of customers. The data is saved into a .txt file. \n",
    "<br>\n",
    "<br>\n",
    "**Important**: if a customer signs in a 2nd, 3rd etc. time, this should be detected and the system entries should not not modified.\n",
    "<br>\n",
    "<br>\n",
    "The information asked from the customer is the **name**, **email** and **local address**. \n",
    "<br>\n",
    "<br>\n",
    "The information from each customer should be inserted into a new line at the end of the .txt file. You are asked to organize the information inside the .txt file such that it looks 'tidy' when it is printed, effectively arranging it in a 'column' format:\n",
    "- the 'column width', i.e., the text plus white space for the name, should be 30 characters long; \n",
    "- the 'column width' for the email address should also be 30 characters long; \n",
    "- the 'column width' for the address should be 100 characters long.  "
   ]
  },
  {
   "cell_type": "markdown",
   "metadata": {},
   "source": [
    "**Note**: you will have to think about how to manage people who try to input longer information!\n",
    "<br>\n",
    "<br>\n",
    "**Second note**: each time a new line is added, sort the entire entries in the .txt file according to alphabetic order of the first name. For example:\n",
    "<br>\n",
    "<br>\n",
    "John Smith &emsp;&emsp;&emsp; john.smith@gmail.com &emsp;&emsp;&emsp; 10 Down Road, Bristol BS01SB, UK\n",
    "<br>\n",
    "William Taylor &emsp;&ensp;&nbsp;  william.taylor@gmail.com &emsp;&ensp;&ensp; 3 Bristol Road, Bristol, UK"
   ]
  },
  {
   "cell_type": "code",
   "execution_count": null,
   "metadata": {},
   "outputs": [],
   "source": [
    "# Your code here\n"
   ]
  }
 ],
 "metadata": {
  "kernelspec": {
   "display_name": "Python 3",
   "language": "python",
   "name": "python3"
  },
  "language_info": {
   "codemirror_mode": {
    "name": "ipython",
    "version": 3
   },
   "file_extension": ".py",
   "mimetype": "text/x-python",
   "name": "python",
   "nbconvert_exporter": "python",
   "pygments_lexer": "ipython3",
   "version": "3.7.4"
  }
 },
 "nbformat": 4,
 "nbformat_minor": 2
}
