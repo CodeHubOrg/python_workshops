{
 "cells": [
  {
   "cell_type": "markdown",
   "metadata": {},
   "source": [
    "__IMPORTANT INFO__\n",
    "<br>\n",
    "Note that you can find all the workshop materials under the following link, each session being marked as \"week_x\":\n",
    "<br>\n",
    "<br>\n",
    "&nbsp;&nbsp;&nbsp;&nbsp;&nbsp;&nbsp;&nbsp;&nbsp;&nbsp;&nbsp;&nbsp;&nbsp;[https://github.com/CodeHubOrg/python_workshops](https://github.com/CodeHubOrg/python_workshops)\n",
    "<br>\n",
    "<br>\n",
    "Download the data files by clicking on the 'Clone or download' green button, choose 'Download ZIP', then unzip from your downloads folder. We will update the material before each session."
   ]
  },
  {
   "cell_type": "markdown",
   "metadata": {},
   "source": [
    "## Topics in week 4:\n",
    "- User input\n",
    "- Functions\n",
    "- Reading from files"
   ]
  },
  {
   "cell_type": "markdown",
   "metadata": {},
   "source": [
    "### User input"
   ]
  },
  {
   "cell_type": "markdown",
   "metadata": {},
   "source": [
    "A frequent requirement is to take some input from the user, eg age, name, etc  This is done via the input() function"
   ]
  },
  {
   "cell_type": "code",
   "execution_count": null,
   "metadata": {},
   "outputs": [],
   "source": [
    "name = input(\"What is your name: \")\n",
    "print('Hello ', name)"
   ]
  },
  {
   "cell_type": "code",
   "execution_count": null,
   "metadata": {},
   "outputs": [],
   "source": [
    "house = input(\"What is the number of your house: \")\n",
    "print('The number of my house is ', house)\n",
    "print('The type of \"house\" is', type(house))"
   ]
  },
  {
   "cell_type": "markdown",
   "metadata": {},
   "source": [
    "##### The input() function always returns a string.  If you want to use it as a number - either integer or float - then it will need to be converted."
   ]
  },
  {
   "cell_type": "code",
   "execution_count": null,
   "metadata": {},
   "outputs": [],
   "source": [
    "house = int(input(\"What is the number of your house: \")) #Note: the int() function could have been put in other places\n",
    "print('The number of my house is ', house)\n",
    "print('The type of \"house\" is', type(house))"
   ]
  },
  {
   "cell_type": "markdown",
   "metadata": {},
   "source": [
    "##### User input often determines what a program does, for example (more in exercises):"
   ]
  },
  {
   "cell_type": "code",
   "execution_count": null,
   "metadata": {},
   "outputs": [],
   "source": [
    "age = int(input(\"Please enter your age in years:\"))\n",
    "\n",
    "if age >= 18:\n",
    "    print('Thank you; welcome to our shop.')\n",
    "else:\n",
    "    print(\"I'm sorry, but you are too young.  Please try again in a few years time.\")"
   ]
  },
  {
   "cell_type": "markdown",
   "metadata": {},
   "source": [
    "##### Note: above code is not 'robust' - there are lots of possible inputs that could cause an error.  The art of good coding is to catch as many of these as possible & never assume the user will insert what they are asked!"
   ]
  },
  {
   "cell_type": "markdown",
   "metadata": {},
   "source": [
    "### Functions"
   ]
  },
  {
   "cell_type": "markdown",
   "metadata": {},
   "source": [
    "##### Functions are blocks of code which carry out a defined action.  They are widely used as they provide for modularity, re-usability (including by other people) and easier testing. We've already come across some python 'built-in' functions, eg int(), type() and we will now look at 'user-defined' functions.\n",
    "##### General construction of functions:"
   ]
  },
  {
   "cell_type": "code",
   "execution_count": null,
   "metadata": {},
   "outputs": [],
   "source": [
    "# General syntax\n",
    "\n",
    "def new_function(parameters):  # start with def, then name of function, parentheses, possible parameters, colon\n",
    "    print('Normally this will do something with parameters') # the code carried out in the function is indented\n",
    "    print('and it can be quite long')\n",
    "    return # new_function may pass a result back to main program; if so, it will follow return\n",
    "\n",
    "new_function('test') # call the function by using its name.  "
   ]
  },
  {
   "cell_type": "markdown",
   "metadata": {},
   "source": [
    "##### It can be easier to see what all this means via examples:"
   ]
  },
  {
   "cell_type": "code",
   "execution_count": null,
   "metadata": {},
   "outputs": [],
   "source": [
    "# A simple example which simply takes input and prints it:\n",
    "\n",
    "def print_fn(stuff):\n",
    "    print('There is only one parameter, namely: ', stuff)\n",
    "    return # return is not required, but clearly marks the end of the function\n",
    "\n",
    "#print_fn('First time') # We can change what is passed to the function\n",
    "#print_fn('Next time') # and we can call it as many times as we like"
   ]
  },
  {
   "cell_type": "code",
   "execution_count": null,
   "metadata": {},
   "outputs": [],
   "source": [
    "# Now where the function carries out a calculation\n",
    "\n",
    "def squares(x):\n",
    "    squared = x * x\n",
    "    return squared\n",
    "\n",
    "no_to_square = 3\n",
    "result = squares(no_to_square)\n",
    "print('The function will return the square of the number sent to the function, ie ', result) # print(squares(no_to_square) would be neater"
   ]
  },
  {
   "cell_type": "markdown",
   "metadata": {},
   "source": [
    "##### Note that errors will be returned if the wrong sort of parameters are passed, eg wrong type, not the right number etc"
   ]
  },
  {
   "cell_type": "code",
   "execution_count": null,
   "metadata": {},
   "outputs": [],
   "source": [
    "# Now with 2 parameters\n",
    "\n",
    "def multiply(y, z):\n",
    "    mult = y * z\n",
    "    return mult # it would have been neater to leave out mult, and just write return y * z\n",
    "\n",
    "a, b = 5, 4\n",
    "\n",
    "print('Multiplying a and b gives ', multiply (a, b))\n",
    "\n",
    "#but it won't work if y and z aren't ints or floats...\n"
   ]
  },
  {
   "cell_type": "code",
   "execution_count": null,
   "metadata": {},
   "outputs": [],
   "source": [
    "# Any number (or type) of return values can be used\n",
    "\n",
    "def sum_diff(i, j):\n",
    "    sm = i + j\n",
    "    diff = i - j\n",
    "    return sm, diff\n",
    "\n",
    "k, l = 6, 7\n",
    "\n",
    "sum1, diff1 = sum_diff(k, l)\n",
    "\n",
    "print('The sum and difference of k and l are ', sum1, 'and', diff1, 'respectively')"
   ]
  },
  {
   "cell_type": "code",
   "execution_count": null,
   "metadata": {},
   "outputs": [],
   "source": [
    "# Let's look at returning a different type\n",
    "\n",
    "def list_return(a, b, c):\n",
    "    new_list = [a, b, c]\n",
    "    return new_list\n",
    "\n",
    "print(list_return('cats', 'dogs', 'rain'), type(list_return('cats', 'dogs', 'rain')))"
   ]
  },
  {
   "cell_type": "markdown",
   "metadata": {},
   "source": [
    "##### PARAMETERS ARE ONLY DEFINED WITHIN THE FUNCTION - COMMON SOURCE OF ERROR"
   ]
  },
  {
   "cell_type": "code",
   "execution_count": null,
   "metadata": {},
   "outputs": [],
   "source": [
    "# Let's demonstrate based on the previous example:\n",
    "\n",
    "def multiply(y, z):\n",
    "    mult = y * z\n",
    "    return mult # it would have been neater to leave out mult, and just write return y * z\n",
    "\n",
    "y, z = 5, 4\n",
    "\n",
    "print('Multiplying y and z gives ', multiply (y, z))\n"
   ]
  },
  {
   "cell_type": "code",
   "execution_count": null,
   "metadata": {},
   "outputs": [],
   "source": [
    "# so far so good, but what happens with a slight change:\n",
    "\n",
    "def multiply(y, z):\n",
    "    y = y * z\n",
    "    return y # it would have been neater to leave out mult, and just write return y * z\n",
    "\n",
    "y, z = 5, 4\n",
    "\n",
    "#print('Multiplying y and z gives ', multiply (y, z))\n",
    "#print('The value of y is ', y)"
   ]
  },
  {
   "cell_type": "markdown",
   "metadata": {},
   "source": [
    "##### Different types of parameters:\n",
    "- Required arguments\n",
    "- Default arguments\n",
    "- Keyword arguments\n",
    "- Variable-length arguments"
   ]
  },
  {
   "cell_type": "code",
   "execution_count": null,
   "metadata": {},
   "outputs": [],
   "source": [
    "# Required (ie aka positional) arguments - no default provided\n",
    "\n",
    "def req_arg(o, p, q):\n",
    "    str = o + p + q\n",
    "    return str\n",
    "\n",
    "print('All parameters are ', req_arg('req', 'uir', 'ed'))\n",
    "print('and the order', req_arg('ma', 'tt', 'ers'))\n",
    "\n",
    "# try with one missing"
   ]
  },
  {
   "cell_type": "code",
   "execution_count": null,
   "metadata": {},
   "outputs": [],
   "source": [
    "# Default arguments - uses default if not specified\n",
    "\n",
    "def def_args(r, t='ember'):\n",
    "    str1 = r + t\n",
    "    return str1\n",
    "\n",
    "print('This month is', def_args('Febr', 'uary'))\n",
    "\n",
    "print('The last month in the year is', def_args('Dec'))      "
   ]
  },
  {
   "cell_type": "markdown",
   "metadata": {},
   "source": [
    "##### Note: default parameters must come after any positional arguments in the function definition"
   ]
  },
  {
   "cell_type": "code",
   "execution_count": null,
   "metadata": {},
   "outputs": [],
   "source": [
    "# Keyword arguments - position doesn't matter\n",
    "\n",
    "def req_arg(o, p, q):\n",
    "    str = o + p + q\n",
    "    return str\n",
    "\n",
    "print('All parameters are ', req_arg(q = 'ed', o ='req', p = 'uir'))\n",
    "print('and the order does not', req_arg('ma', 'tt', 'er'))\n",
    "\n",
    "# try with one missing\n"
   ]
  },
  {
   "cell_type": "code",
   "execution_count": null,
   "metadata": {},
   "outputs": [],
   "source": [
    "# Variable-length arguments - not sure how many arguments will be passed\n",
    "\n",
    "def attendees(a, b, *names):\n",
    "    list_names = [a, b]\n",
    "    for name in names:\n",
    "        list_names.append(name)\n",
    "    return list_names\n",
    "\n",
    "workshop_attendees = attendees('Alex', 'Kathryn', 'Chris', 'Carol') # works with any number of names\n",
    "print(workshop_attendees)"
   ]
  },
  {
   "cell_type": "markdown",
   "metadata": {},
   "source": [
    "### A few notes about importing modules and functions\n",
    "##### Soon, you will want to use additional Python libraries outside those already installed.  You can 'import' a module, ie some pre-made code, which will offer additional functionality, eg\n",
    "import math as mt  \n",
    "##### This makes available all the math functionality, and allows it to be referenced by a shorthand 'mt'\n",
    "##### It is also possible to import just one specific function from a module if that is all you needed- could be quicker and use less memory. eg\n",
    "\n",
    "from math import factorial\n",
    "##### We'll see examples of these in practice over the coming weeks"
   ]
  },
  {
   "cell_type": "markdown",
   "metadata": {},
   "source": [
    "### Reading from Files"
   ]
  },
  {
   "cell_type": "markdown",
   "metadata": {},
   "source": [
    "##### So far, we have used input either provided within the code or input by the user.  In practice when working with data, it is likely that you will be working with data in files.  There are a variety of ways in which the data could be structured and stored - we will introduce the basics as most other approaches will use similar methods and functions.  The general approach is:\n",
    " - open a file (ie create a pointer to the file)\n",
    " - read the contents of the file, ie load it into memory to 'do' something with it\n",
    " - close the file"
   ]
  },
  {
   "cell_type": "markdown",
   "metadata": {},
   "source": [
    "##### Very often, data comes as text files - a basic but widely used format.  "
   ]
  },
  {
   "cell_type": "code",
   "execution_count": 1,
   "metadata": {},
   "outputs": [
    {
     "name": "stdout",
     "output_type": "stream",
     "text": [
      "They can really make you mad\n",
      "Other things just make you swear and curse\n",
      "When you're chewing on life's gristle\n",
      "Don't grumble, give a whistle\n",
      "And this'll help things turn out for the best\n",
      "And always look on the bright side of life\n",
      "Always look on the light side of life\n"
     ]
    }
   ],
   "source": [
    "# Let's have a look at a data file that I prepared earlier.....\n",
    "\n",
    "with open('datafiles/bright.txt') as filepath: # ie the file is stored in a subdirectory called datafiles\n",
    "    file_data = filepath.read()  # all the file is read \n",
    "print(file_data)\n"
   ]
  },
  {
   "cell_type": "markdown",
   "metadata": {},
   "source": [
    "##### The file above is located in a 'relative path' to the working directory.  If your file is somewhere else completely then may need to use 'absolute path', ie the full path of the file to tell Python where to look.  "
   ]
  },
  {
   "cell_type": "markdown",
   "metadata": {},
   "source": [
    "\n",
    "##### Also note that the following code would produce the same result - where possible, use the 'with' construct as you don't need to remember to close the file. "
   ]
  },
  {
   "cell_type": "code",
   "execution_count": 3,
   "metadata": {},
   "outputs": [
    {
     "name": "stdout",
     "output_type": "stream",
     "text": [
      "They can really make you mad\n",
      "Other things just make you swear and curse\n",
      "When you're chewing on life's gristle\n",
      "Don't grumble, give a whistle\n",
      "And this'll help things turn out for the best\n",
      "And always look on the bright side of life\n",
      "Always look on the light side of life\n"
     ]
    }
   ],
   "source": [
    "filename = open('datafiles/bright.txt')\n",
    "file_data_v2 = filename.read()\n",
    "print(file_data_v2)\n",
    "filename.close()"
   ]
  },
  {
   "cell_type": "markdown",
   "metadata": {},
   "source": [
    "##### There are a few other methods for reading in data from a text file that are worth being aware of:\n",
    "- read(): as above; read and return in the whole file as a single string\n",
    "- read(n): Read and return a string of n characters\n",
    "- readline(): Read and return the next line of the file\n",
    "- readlines(): Read and return a list of strings, each representing a single line in a file.  \n",
    "Let's look at the last one"
   ]
  },
  {
   "cell_type": "code",
   "execution_count": 5,
   "metadata": {},
   "outputs": [
    {
     "name": "stdout",
     "output_type": "stream",
     "text": [
      "['They can really make you mad\\n', 'Other things just make you swear and curse\\n', \"When you're chewing on life's gristle\\n\", \"Don't grumble, give a whistle\\n\", \"And this'll help things turn out for the best\\n\", 'And always look on the bright side of life\\n', 'Always look on the light side of life'] <class 'list'>\n"
     ]
    }
   ],
   "source": [
    "with open('datafiles/bright.txt') as filepath2: \n",
    "    file_data2 = filepath2.readlines()  \n",
    "print(file_data2, type(file_data2))"
   ]
  },
  {
   "cell_type": "markdown",
   "metadata": {},
   "source": [
    "##### OK - a list, but doesn't look very friendly.  Let's print line by line"
   ]
  },
  {
   "cell_type": "code",
   "execution_count": 8,
   "metadata": {},
   "outputs": [
    {
     "name": "stdout",
     "output_type": "stream",
     "text": [
      "They can really make you mad\n",
      "\n",
      "Other things just make you swear and curse\n",
      "\n",
      "When you're chewing on life's gristle\n",
      "\n",
      "Don't grumble, give a whistle\n",
      "\n",
      "And this'll help things turn out for the best\n",
      "\n",
      "And always look on the bright side of life\n",
      "\n",
      "Always look on the light side of life\n"
     ]
    }
   ],
   "source": [
    "with open('datafiles/bright.txt') as filepath2: \n",
    "    lines = filepath2.readlines()  \n",
    "\n",
    "for line in lines:\n",
    "    print(line)\n",
    "    #print(line.rstrip())"
   ]
  },
  {
   "cell_type": "markdown",
   "metadata": {},
   "source": [
    "##### We'll do some further practice with reading files in the exercises and in future weeks"
   ]
  }
 ],
 "metadata": {
  "kernelspec": {
   "display_name": "Python 3",
   "language": "python",
   "name": "python3"
  },
  "language_info": {
   "codemirror_mode": {
    "name": "ipython",
    "version": 3
   },
   "file_extension": ".py",
   "mimetype": "text/x-python",
   "name": "python",
   "nbconvert_exporter": "python",
   "pygments_lexer": "ipython3",
   "version": "3.7.4"
  }
 },
 "nbformat": 4,
 "nbformat_minor": 2
}
