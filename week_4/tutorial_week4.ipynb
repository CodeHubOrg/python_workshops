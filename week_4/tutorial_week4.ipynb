{
 "cells": [
  {
   "cell_type": "markdown",
   "metadata": {},
   "source": [
    "__IMPORTANT INFO__\n",
    "<br>\n",
    "Note that you can find all the workshop materials under the following link, each session being marked as \"week_x\":\n",
    "<br>\n",
    "<br>\n",
    "&nbsp;&nbsp;&nbsp;&nbsp;&nbsp;&nbsp;&nbsp;&nbsp;&nbsp;&nbsp;&nbsp;&nbsp;[https://github.com/CodeHubOrg/python_workshops](https://github.com/CodeHubOrg/python_workshops)\n",
    "<br>\n",
    "<br>\n",
    "Download the data files by clicking on the 'Clone or download' green button, choose 'Download ZIP', then unzip from your downloads folder. We will update the material before each session."
   ]
  },
  {
   "cell_type": "markdown",
   "metadata": {},
   "source": [
    "### Topics in week 4:\n",
    "- User input\n",
    "- Functions\n",
    "- Reading from files"
   ]
  },
  {
   "cell_type": "markdown",
   "metadata": {},
   "source": [
    "### User input"
   ]
  },
  {
   "cell_type": "markdown",
   "metadata": {},
   "source": [
    "A frequent requirement is to take some input from the user, eg age, name, etc  This is done via the input() function"
   ]
  },
  {
   "cell_type": "code",
   "execution_count": null,
   "metadata": {},
   "outputs": [],
   "source": [
    "name = input(\"What is your name: \")\n",
    "print('Hello ', name)"
   ]
  },
  {
   "cell_type": "code",
   "execution_count": null,
   "metadata": {},
   "outputs": [],
   "source": [
    "house = input(\"What is the number of your house: \")\n",
    "print('The number of my house is ', house)\n",
    "print('The type of \"house\" is', type(house))"
   ]
  },
  {
   "cell_type": "markdown",
   "metadata": {},
   "source": [
    "##### The input() function always returns a string.  If you want to use it as a number - either integer or float - then it will need to be converted."
   ]
  },
  {
   "cell_type": "code",
   "execution_count": null,
   "metadata": {},
   "outputs": [],
   "source": [
    "house = int(input(\"What is the number of your house: \")) #Note: the int() function could have been put in other places\n",
    "print('The number of my house is ', house)\n",
    "print('The type of \"house\" is', type(house))"
   ]
  },
  {
   "cell_type": "markdown",
   "metadata": {},
   "source": [
    "##### User input often determines what a program does, for example (more in exercises):"
   ]
  },
  {
   "cell_type": "code",
   "execution_count": null,
   "metadata": {},
   "outputs": [],
   "source": [
    "age = int(input(\"Please enter your age in years:\"))\n",
    "\n",
    "if age >= 18:\n",
    "    print('Thank you; welcome to our shop.')\n",
    "else:\n",
    "    print(\"I'm sorry, but you are too young.  Please try again in a few years time.\")"
   ]
  },
  {
   "cell_type": "markdown",
   "metadata": {},
   "source": [
    "##### Note: above code is not 'robust' - there are lots of possible inputs that could cause an error.  The art of good coding is to catch as many of these as possible & never assume the user will insert what they are asked!"
   ]
  },
  {
   "cell_type": "markdown",
   "metadata": {},
   "source": [
    "### Functions"
   ]
  },
  {
   "cell_type": "markdown",
   "metadata": {},
   "source": [
    "##### Functions are blocks of code which carry out a defined action.  They are widely used as they provide for modularity, re-usability (including by other people) and easier testing. We've already come across some python 'built-in' functions, eg int(), type() and we will now look at 'user-defined' functions.\n",
    "##### General construction of functions:"
   ]
  },
  {
   "cell_type": "code",
   "execution_count": 3,
   "metadata": {},
   "outputs": [
    {
     "name": "stdout",
     "output_type": "stream",
     "text": [
      "Normally this will do something with parameters\n",
      "and it can be quite long\n"
     ]
    }
   ],
   "source": [
    "# General syntax\n",
    "\n",
    "def new_function(parameters):  # start with def, then name of function, parentheses, possible parameters, colon\n",
    "    print('Normally this will do something with parameters') # the code carried out in the function is indented\n",
    "    print('and it can be quite long')\n",
    "    return # new_function may pass a result back to main program; if so, it will follow return\n",
    "\n",
    "new_function('test') # call the function by using its name.  "
   ]
  },
  {
   "cell_type": "markdown",
   "metadata": {},
   "source": [
    "##### It can be easier to see what all this means via examples:"
   ]
  },
  {
   "cell_type": "code",
   "execution_count": 8,
   "metadata": {},
   "outputs": [
    {
     "name": "stdout",
     "output_type": "stream",
     "text": [
      "There is only one parameter, namely:  This is my first test\n",
      "There is only one parameter, namely:  This is the second time the function is called\n"
     ]
    }
   ],
   "source": [
    "# A simple example which simply takes input and prints it:\n",
    "\n",
    "def print_fn(stuff):\n",
    "    print('There is only one parameter, namely: ', stuff)\n",
    "    return # return is not required, but clearly marks the end of the function\n",
    "\n",
    "print_fn('This is my first test') # We can change what is passed to the function\n",
    "print_fn('This is the second time the function is called') # and we can call it as many times as we like"
   ]
  },
  {
   "cell_type": "code",
   "execution_count": 10,
   "metadata": {},
   "outputs": [
    {
     "name": "stdout",
     "output_type": "stream",
     "text": [
      "The function will return the square of the number sent to the function, ie  9\n"
     ]
    }
   ],
   "source": [
    "# Now where the function carries out a calculation\n",
    "\n",
    "def squares(x):\n",
    "    squared = x * x\n",
    "    return squared\n",
    "\n",
    "no_to_square = 3\n",
    "result = squares(no_to_square)\n",
    "print('The function will return the square of the number sent to the function, ie ', result) # print(squares(no_to_square) would be neater"
   ]
  },
  {
   "cell_type": "markdown",
   "metadata": {},
   "source": [
    "##### Note that errors will be returned if the wrong sort of parameters are passed, eg wrong type, not the right number etc"
   ]
  },
  {
   "cell_type": "code",
   "execution_count": 11,
   "metadata": {},
   "outputs": [
    {
     "name": "stdout",
     "output_type": "stream",
     "text": [
      "Multiplying a and b gives  20\n"
     ]
    }
   ],
   "source": [
    "# Now with 2 parameters\n",
    "\n",
    "def multiply(y, z):\n",
    "    mult = y * z\n",
    "    return mult # it would have been neater to leave out mult, and just write return y * z\n",
    "\n",
    "a, b = 5, 4\n",
    "\n",
    "print('Multiplying a and b gives ', multiply (a, b))\n"
   ]
  },
  {
   "cell_type": "code",
   "execution_count": 16,
   "metadata": {},
   "outputs": [
    {
     "name": "stdout",
     "output_type": "stream",
     "text": [
      "The sum and difference of k and l are  13 and -1 respectively\n"
     ]
    }
   ],
   "source": [
    "# Any number (or type) of return values can be used\n",
    "\n",
    "def sum_diff(i, j):\n",
    "    sm = i + j\n",
    "    diff = i - j\n",
    "    return sm, diff\n",
    "\n",
    "k, l = 6, 7\n",
    "\n",
    "sum1, diff1 = sum_diff(k, l)\n",
    "\n",
    "print('The sum and difference of k and l are ', sum1, 'and', diff1, 'respectively')"
   ]
  },
  {
   "cell_type": "markdown",
   "metadata": {},
   "source": [
    "##### PARAMETERS ARE ONLY DEFINED WITHIN THE FUNCTION - COMMON SOURCE OF ERROR"
   ]
  },
  {
   "cell_type": "code",
   "execution_count": 13,
   "metadata": {},
   "outputs": [
    {
     "name": "stdout",
     "output_type": "stream",
     "text": [
      "Multiplying y and z gives  20\n"
     ]
    }
   ],
   "source": [
    "# Let's demonstrate based on the previous example:\n",
    "\n",
    "def multiply(y, z):\n",
    "    mult = y * z\n",
    "    return mult # it would have been neater to leave out mult, and just write return y * z\n",
    "\n",
    "y, z = 5, 4\n",
    "\n",
    "print('Multiplying y and z gives ', multiply (y, z))\n"
   ]
  },
  {
   "cell_type": "code",
   "execution_count": 14,
   "metadata": {},
   "outputs": [
    {
     "name": "stdout",
     "output_type": "stream",
     "text": [
      "Multiplying y and z gives  20\n",
      "The value of y is  5\n"
     ]
    }
   ],
   "source": [
    "# so far so good, but what happens with a slight change:\n",
    "\n",
    "def multiply(y, z):\n",
    "    y = y * z\n",
    "    return y # it would have been neater to leave out mult, and just write return y * z\n",
    "\n",
    "y, z = 5, 4\n",
    "\n",
    "#print('Multiplying y and z gives ', multiply (y, z))\n",
    "#print('The value of y is ', y)"
   ]
  },
  {
   "cell_type": "markdown",
   "metadata": {},
   "source": [
    "##### Different types of parameters:\n",
    "- Required arguments\n",
    "- Keyword arguments\n",
    "- Default arguments\n",
    "- Variable-length arguments"
   ]
  },
  {
   "cell_type": "code",
   "execution_count": null,
   "metadata": {},
   "outputs": [],
   "source": [
    "# Required arguments\n",
    "\n",
    "\n"
   ]
  }
 ],
 "metadata": {
  "kernelspec": {
   "display_name": "Python 3",
   "language": "python",
   "name": "python3"
  },
  "language_info": {
   "codemirror_mode": {
    "name": "ipython",
    "version": 3
   },
   "file_extension": ".py",
   "mimetype": "text/x-python",
   "name": "python",
   "nbconvert_exporter": "python",
   "pygments_lexer": "ipython3",
   "version": "3.7.4"
  }
 },
 "nbformat": 4,
 "nbformat_minor": 2
}
