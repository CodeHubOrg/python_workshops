{
 "cells": [
  {
   "cell_type": "markdown",
   "metadata": {},
   "source": [
    "__IMPORTANT INFO__\n",
    "<br>\n",
    "Note that you can find all the workshop materials under the following link, each session being marked as \"week_x\":\n",
    "<br>\n",
    "<br>\n",
    "&nbsp;&nbsp;&nbsp;&nbsp;&nbsp;&nbsp;&nbsp;&nbsp;&nbsp;&nbsp;&nbsp;&nbsp;[https://github.com/CodeHubOrg/python_workshops](https://github.com/CodeHubOrg/python_workshops)\n",
    "<br>\n",
    "<br>\n",
    "Download the data files by clicking on the 'Clone or download' green button, choose 'Download ZIP', then unzip from your downloads folder. We will update the material before each session."
   ]
  },
  {
   "cell_type": "markdown",
   "metadata": {},
   "source": [
    "## Topics in week 4:\n",
    "- User input\n",
    "- Functions\n",
    "- Reading from files"
   ]
  },
  {
   "cell_type": "markdown",
   "metadata": {},
   "source": [
    "## User input"
   ]
  },
  {
   "cell_type": "markdown",
   "metadata": {},
   "source": [
    "A frequent requirement is to take some input from the user, e.g., age, name, etc.  This is done via the input() function. After typing in the desired input, run the cell with *Shift+Enter*. If stuck, click on *Kernel* and then *Restart & Run All*."
   ]
  },
  {
   "cell_type": "code",
   "execution_count": 1,
   "metadata": {},
   "outputs": [
    {
     "name": "stdout",
     "output_type": "stream",
     "text": [
      "Your first name is: Alex\n"
     ]
    }
   ],
   "source": [
    "first_name = input('Your first name is: ')"
   ]
  },
  {
   "cell_type": "code",
   "execution_count": 2,
   "metadata": {
    "scrolled": false
   },
   "outputs": [
    {
     "name": "stdout",
     "output_type": "stream",
     "text": [
      "Your family name is: Craciun\n"
     ]
    }
   ],
   "source": [
    "family_name = input('Your family name is: ')"
   ]
  },
  {
   "cell_type": "code",
   "execution_count": 3,
   "metadata": {},
   "outputs": [
    {
     "name": "stdout",
     "output_type": "stream",
     "text": [
      "Hello, Alex !\n"
     ]
    }
   ],
   "source": [
    "print('Hello,', first_name, '!')"
   ]
  },
  {
   "cell_type": "code",
   "execution_count": 4,
   "metadata": {},
   "outputs": [
    {
     "name": "stdout",
     "output_type": "stream",
     "text": [
      "Hello, Alex Craciun !\n"
     ]
    }
   ],
   "source": [
    "print('Hello,', first_name, family_name, '!')"
   ]
  },
  {
   "cell_type": "markdown",
   "metadata": {},
   "source": [
    "Let's now look into a nicer way to print out a message, where we have full control over every character/space in the message. "
   ]
  },
  {
   "cell_type": "code",
   "execution_count": 5,
   "metadata": {},
   "outputs": [
    {
     "name": "stdout",
     "output_type": "stream",
     "text": [
      "Hello, Alex!\n"
     ]
    }
   ],
   "source": [
    "print('Hello, {}!'.format(first_name))"
   ]
  },
  {
   "cell_type": "code",
   "execution_count": 6,
   "metadata": {},
   "outputs": [
    {
     "name": "stdout",
     "output_type": "stream",
     "text": [
      "Hello, Alex Craciun!\n"
     ]
    }
   ],
   "source": [
    "print('Hello, {} {}!'.format(first_name, family_name))"
   ]
  },
  {
   "cell_type": "markdown",
   "metadata": {},
   "source": [
    "Let's now look into another example, where you need to give a number instead of a string as input. "
   ]
  },
  {
   "cell_type": "code",
   "execution_count": 7,
   "metadata": {},
   "outputs": [
    {
     "name": "stdout",
     "output_type": "stream",
     "text": [
      "Your house number is: 10\n"
     ]
    }
   ],
   "source": [
    "house = input('Your house number is: ')"
   ]
  },
  {
   "cell_type": "code",
   "execution_count": 8,
   "metadata": {},
   "outputs": [
    {
     "name": "stdout",
     "output_type": "stream",
     "text": [
      "The number of your house is 10.\n",
      "The type of \"house\" is <class 'str'>.\n"
     ]
    }
   ],
   "source": [
    "print('The number of your house is {}.'.format(house))\n",
    "print('The type of \"house\" is {}.'.format(type(house)))"
   ]
  },
  {
   "cell_type": "markdown",
   "metadata": {},
   "source": [
    "##### Observation: the input() function always returns a string!  If you want to use it as a number - either integer or float - then you need to convert it into the right type."
   ]
  },
  {
   "cell_type": "code",
   "execution_count": 9,
   "metadata": {},
   "outputs": [
    {
     "name": "stdout",
     "output_type": "stream",
     "text": [
      "Your house number is: 11\n"
     ]
    }
   ],
   "source": [
    "house = int(input('Your house number is: ')) \n",
    "# Note: the int() function could have been put in other places!"
   ]
  },
  {
   "cell_type": "code",
   "execution_count": 10,
   "metadata": {},
   "outputs": [
    {
     "name": "stdout",
     "output_type": "stream",
     "text": [
      "The number of my house is 11.\n",
      "The type of \"house\" is <class 'int'>.\n"
     ]
    }
   ],
   "source": [
    "print('The number of my house is {}.'.format(house))\n",
    "print('The type of \"house\" is {}.'.format(type(house)))"
   ]
  },
  {
   "cell_type": "markdown",
   "metadata": {},
   "source": [
    "The user input often determines what a program does, for example:"
   ]
  },
  {
   "cell_type": "code",
   "execution_count": 11,
   "metadata": {},
   "outputs": [
    {
     "name": "stdout",
     "output_type": "stream",
     "text": [
      "Please enter your age in years:12\n",
      "I'm sorry, but you are too young. Please try again in a few years time.\n"
     ]
    }
   ],
   "source": [
    "age = int(input('Please enter your age in years: '))\n",
    "\n",
    "if age >= 18:\n",
    "    print('Thank you! Welcome to our shop.')\n",
    "else:\n",
    "    print(\"I'm sorry, but you are too young. Please try again in a few years time.\")"
   ]
  },
  {
   "cell_type": "markdown",
   "metadata": {},
   "source": [
    "##### Note: above code is not 'robust' - there are lots of possible inputs that can cause an error.  The art of good coding is to catch as many of these as possible & never assume the user will insert what they are asked!"
   ]
  },
  {
   "cell_type": "markdown",
   "metadata": {},
   "source": [
    "## Functions"
   ]
  },
  {
   "cell_type": "markdown",
   "metadata": {},
   "source": [
    "Functions are blocks of code which carry out a defined action.  They are widely used as they provide modularity, re-usability (including by other people) and easier testing. We've already come across some Python 'built-in' functions, e.g., int(), type() and we will now look at 'user-defined' functions."
   ]
  },
  {
   "cell_type": "markdown",
   "metadata": {},
   "source": [
    "Below is a general construction of a function:"
   ]
  },
  {
   "cell_type": "code",
   "execution_count": 14,
   "metadata": {},
   "outputs": [
    {
     "name": "stdout",
     "output_type": "stream",
     "text": [
      "Normally this will do something with the input parameter a...\n",
      "...and parameter b...\n",
      "...and it can be quite long!\n"
     ]
    }
   ],
   "source": [
    "# General syntax\n",
    "\n",
    "def new_function(parameter0, parameter1):  # start with def, then name of function, parentheses, possible parameters, colon\n",
    "    print('Normally this will do something with the input parameter {}...'.format(parameter0))  # the code inside the function needs to be indented!\n",
    "    print('...and parameter {}...'. format(parameter1))\n",
    "    print('...and it can be quite long!')\n",
    "    return  # new_function may pass a result back to main program; if so, it will follow return\n",
    "\n",
    "new_function('a', 'b') # call the function by using its name.  "
   ]
  },
  {
   "cell_type": "markdown",
   "metadata": {},
   "source": [
    "It can be easier to see what all this means via examples. "
   ]
  },
  {
   "cell_type": "code",
   "execution_count": 17,
   "metadata": {},
   "outputs": [
    {
     "name": "stdout",
     "output_type": "stream",
     "text": [
      "There is only one parameter, namely: a.\n",
      "There is only one parameter, namely: b.\n"
     ]
    }
   ],
   "source": [
    "# A simple example which simply takes one input and prints it:\n",
    "\n",
    "def print_fun(stuff):\n",
    "    print('There is only one parameter, namely: {}.'.format(stuff))\n",
    "    return # return is not required, but clearly marks the end of the function\n",
    "\n",
    "print_fun('a') # We can change what is passed to the function\n",
    "print_fun('b') # and we can call it as many times as we like"
   ]
  },
  {
   "cell_type": "code",
   "execution_count": 19,
   "metadata": {},
   "outputs": [
    {
     "name": "stdout",
     "output_type": "stream",
     "text": [
      "The function will return the square of the number sent to the function, i.e., 9.\n",
      "The function will return the square of the number sent to the function, i.e., 9.\n"
     ]
    }
   ],
   "source": [
    "# Another example, where the function is used to compute a formula.\n",
    "\n",
    "def squares(x):\n",
    "    squared = x * x\n",
    "    return squared\n",
    "\n",
    "no_to_square = 3\n",
    "result = squares(no_to_square)\n",
    "print('The function will return the square of the number sent to the function, i.e., {}.'.format(result))\n",
    "print('The function will return the square of the number sent to the function, i.e., {}.'.format(squares(no_to_square)))"
   ]
  },
  {
   "cell_type": "markdown",
   "metadata": {},
   "source": [
    "##### Note: errors will be returned if the wrong parameters are passed as input, e.g., wrong type, not the right number etc."
   ]
  },
  {
   "cell_type": "code",
   "execution_count": 24,
   "metadata": {},
   "outputs": [
    {
     "name": "stdout",
     "output_type": "stream",
     "text": [
      "Multiplying 5 and 4 gives 20.\n"
     ]
    }
   ],
   "source": [
    "# An example with two input parameters.\n",
    "\n",
    "def multiply(y, z):\n",
    "    product = y * z\n",
    "    return product  # it would have been cleaner to leave out product and directly return y * z\n",
    "\n",
    "a, b = 5, 4\n",
    "\n",
    "print('Multiplying {} and {} gives {}.'.format(a, b, multiply(a, b)))\n",
    "\n",
    "# Note: it won't work if y and z are not integers or floats!"
   ]
  },
  {
   "cell_type": "code",
   "execution_count": 27,
   "metadata": {},
   "outputs": [
    {
     "name": "stdout",
     "output_type": "stream",
     "text": [
      "The sum and difference of 6 and 7 are: 13, -1 respectively.\n"
     ]
    }
   ],
   "source": [
    "# Any number (or type) of return values can be used\n",
    "\n",
    "def sum_diff(i, j):\n",
    "    sum = i + j\n",
    "    diff = i - j\n",
    "    return sum, diff\n",
    "\n",
    "a, b = 6, 7\n",
    "\n",
    "sum_, diff_ = sum_diff(a, b)\n",
    "\n",
    "print('The sum and difference of {} and {} are: {}, {} respectively.'.format(a, b, sum_, diff_))"
   ]
  },
  {
   "cell_type": "code",
   "execution_count": 28,
   "metadata": {},
   "outputs": [
    {
     "name": "stdout",
     "output_type": "stream",
     "text": [
      "['cats', 'dogs', 'rain'] <class 'list'>\n"
     ]
    }
   ],
   "source": [
    "# Let's look at returning a different type\n",
    "\n",
    "def list_return(a, b, c):\n",
    "    new_list = [a, b, c]\n",
    "    return new_list\n",
    "\n",
    "print(list_return('cats', 'dogs', 'rain'), type(list_return('cats', 'dogs', 'rain')))"
   ]
  },
  {
   "cell_type": "markdown",
   "metadata": {},
   "source": [
    "##### Observation: parameter names are only defined within the function! Outside the function, they don't exist. This is a COMMON source of errors!"
   ]
  },
  {
   "cell_type": "code",
   "execution_count": 29,
   "metadata": {},
   "outputs": [
    {
     "name": "stdout",
     "output_type": "stream",
     "text": [
      "Multiplying 5 and 4 gives 20.\n"
     ]
    }
   ],
   "source": [
    "# Let's demonstrate this based on the previous example:\n",
    "\n",
    "def multiply(y, z):\n",
    "    product = y * z\n",
    "    return product \n",
    "\n",
    "y, z = 5, 4\n",
    "\n",
    "print('Multiplying {} and {} gives {}.'. format(y, z, multiply (y, z)))"
   ]
  },
  {
   "cell_type": "code",
   "execution_count": 32,
   "metadata": {
    "scrolled": true
   },
   "outputs": [
    {
     "name": "stdout",
     "output_type": "stream",
     "text": [
      "Multiplying 5 and 4 gives 20.\n",
      "The value of y is 5.\n"
     ]
    }
   ],
   "source": [
    "# So far, so good, but what happens with a slight change?\n",
    "\n",
    "def multiply(y, z):\n",
    "    y = y * z\n",
    "    return y\n",
    "\n",
    "y, z = 5, 4\n",
    "\n",
    "print('Multiplying {} and {} gives {}.'.format(y, z, multiply (y, z)))\n",
    "print('The value of y is {}.'.format(y))"
   ]
  },
  {
   "cell_type": "markdown",
   "metadata": {},
   "source": [
    "## Function inputs"
   ]
  },
  {
   "cell_type": "markdown",
   "metadata": {},
   "source": [
    "##### Different types of input parameters for functions:\n",
    "- Required arguments\n",
    "- Default arguments\n",
    "- Keyword arguments\n",
    "- Arbitrary arguments"
   ]
  },
  {
   "cell_type": "markdown",
   "metadata": {},
   "source": [
    "### Required arguments"
   ]
  },
  {
   "cell_type": "code",
   "execution_count": 34,
   "metadata": {},
   "outputs": [
    {
     "name": "stdout",
     "output_type": "stream",
     "text": [
      "All parameters are required...\n",
      "...and the order matters!\n"
     ]
    }
   ],
   "source": [
    "# Required (aka \"positional\") arguments - no default value for the parameters provided.\n",
    "\n",
    "def fun_with_req_arg(o, p, q):\n",
    "    out = o + p + q\n",
    "    return out\n",
    "\n",
    "print('All parameters are {}...'.format(fun_with_req_arg('req', 'uir', 'ed')))\n",
    "print('...and the order {}!'.format(fun_with_req_arg('ma', 'tt', 'ers')))"
   ]
  },
  {
   "cell_type": "code",
   "execution_count": 35,
   "metadata": {
    "scrolled": true
   },
   "outputs": [
    {
     "ename": "TypeError",
     "evalue": "req_arg() missing 1 required positional argument: 'q'",
     "output_type": "error",
     "traceback": [
      "\u001b[0;31m---------------------------------------------------------------------------\u001b[0m",
      "\u001b[0;31mTypeError\u001b[0m                                 Traceback (most recent call last)",
      "\u001b[0;32m<ipython-input-35-b9d29c31ac68>\u001b[0m in \u001b[0;36m<module>\u001b[0;34m\u001b[0m\n\u001b[1;32m      1\u001b[0m \u001b[0;31m# Try the above with only the first 2 parameters\u001b[0m\u001b[0;34m\u001b[0m\u001b[0;34m\u001b[0m\u001b[0;34m\u001b[0m\u001b[0m\n\u001b[0;32m----> 2\u001b[0;31m \u001b[0mprint\u001b[0m\u001b[0;34m(\u001b[0m\u001b[0;34m'All parameters are {}...'\u001b[0m\u001b[0;34m.\u001b[0m\u001b[0mformat\u001b[0m\u001b[0;34m(\u001b[0m\u001b[0mreq_arg\u001b[0m\u001b[0;34m(\u001b[0m\u001b[0;34m'req'\u001b[0m\u001b[0;34m,\u001b[0m \u001b[0;34m'uir'\u001b[0m\u001b[0;34m)\u001b[0m\u001b[0;34m)\u001b[0m\u001b[0;34m)\u001b[0m\u001b[0;34m\u001b[0m\u001b[0;34m\u001b[0m\u001b[0m\n\u001b[0m",
      "\u001b[0;31mTypeError\u001b[0m: req_arg() missing 1 required positional argument: 'q'"
     ]
    }
   ],
   "source": [
    "# Try the above with only the first 2 parameters\n",
    "# print('All parameters are {}...'.format(fun_with_req_arg('req', 'uired')))"
   ]
  },
  {
   "cell_type": "markdown",
   "metadata": {},
   "source": [
    "### Default arguments"
   ]
  },
  {
   "cell_type": "code",
   "execution_count": 47,
   "metadata": {},
   "outputs": [
    {
     "name": "stdout",
     "output_type": "stream",
     "text": [
      "This month is February.\n",
      "The last month in the year is December.\n"
     ]
    }
   ],
   "source": [
    "# Default arguments - use default value for the parameters if input is not specified.\n",
    "\n",
    "def fun_with_default_args(r, t='ember'):\n",
    "    out = r + t\n",
    "    return out\n",
    "\n",
    "print('This month is {}.'.format(fun_with_default_args('Febr', 'uary')))\n",
    "print('The last month in the year is {}.'.format(fun_with_default_args('Dec')))    "
   ]
  },
  {
   "cell_type": "markdown",
   "metadata": {},
   "source": [
    "##### Note: default parameters must come after any positional arguments in the function definition!"
   ]
  },
  {
   "cell_type": "code",
   "execution_count": 44,
   "metadata": {
    "scrolled": true
   },
   "outputs": [
    {
     "ename": "SyntaxError",
     "evalue": "non-default argument follows default argument (<ipython-input-44-48ee49e9e2f7>, line 1)",
     "output_type": "error",
     "traceback": [
      "\u001b[0;36m  File \u001b[0;32m\"<ipython-input-44-48ee49e9e2f7>\"\u001b[0;36m, line \u001b[0;32m1\u001b[0m\n\u001b[0;31m    def fun_with_default_args(t='ember', r):\u001b[0m\n\u001b[0m                             ^\u001b[0m\n\u001b[0;31mSyntaxError\u001b[0m\u001b[0;31m:\u001b[0m non-default argument follows default argument\n"
     ]
    }
   ],
   "source": [
    "def fun_with_default_args(t='ember', r):\n",
    "    out = r + t\n",
    "    return out"
   ]
  },
  {
   "cell_type": "markdown",
   "metadata": {},
   "source": [
    "### Keyword arguments"
   ]
  },
  {
   "cell_type": "code",
   "execution_count": 41,
   "metadata": {},
   "outputs": [
    {
     "name": "stdout",
     "output_type": "stream",
     "text": [
      "All parameters are required...\n",
      "and the order does not matter!\n"
     ]
    }
   ],
   "source": [
    "# Keyword arguments - position doesn't matter!\n",
    "\n",
    "def fun_with_req_arg(o, p, q):\n",
    "    out = o + p + q\n",
    "    return out\n",
    "\n",
    "print('All parameters are {}...'.format(fun_with_req_arg(q = 'ed', o ='req', p = 'uir')))\n",
    "print('and the order does not {}!'.format(fun_with_req_arg('ma', 'tt', 'er')))"
   ]
  },
  {
   "cell_type": "code",
   "execution_count": 45,
   "metadata": {
    "scrolled": true
   },
   "outputs": [
    {
     "ename": "TypeError",
     "evalue": "fun_with_req_arg() missing 1 required positional argument: 'p'",
     "output_type": "error",
     "traceback": [
      "\u001b[0;31m---------------------------------------------------------------------------\u001b[0m",
      "\u001b[0;31mTypeError\u001b[0m                                 Traceback (most recent call last)",
      "\u001b[0;32m<ipython-input-45-0035d47d0d3c>\u001b[0m in \u001b[0;36m<module>\u001b[0;34m\u001b[0m\n\u001b[0;32m----> 1\u001b[0;31m \u001b[0mprint\u001b[0m\u001b[0;34m(\u001b[0m\u001b[0;34m'All parameters are {}...'\u001b[0m\u001b[0;34m.\u001b[0m\u001b[0mformat\u001b[0m\u001b[0;34m(\u001b[0m\u001b[0mfun_with_req_arg\u001b[0m\u001b[0;34m(\u001b[0m\u001b[0mq\u001b[0m \u001b[0;34m=\u001b[0m \u001b[0;34m'ed'\u001b[0m\u001b[0;34m,\u001b[0m \u001b[0mo\u001b[0m \u001b[0;34m=\u001b[0m\u001b[0;34m'req'\u001b[0m\u001b[0;34m)\u001b[0m\u001b[0;34m)\u001b[0m\u001b[0;34m)\u001b[0m\u001b[0;34m\u001b[0m\u001b[0;34m\u001b[0m\u001b[0m\n\u001b[0m",
      "\u001b[0;31mTypeError\u001b[0m: fun_with_req_arg() missing 1 required positional argument: 'p'"
     ]
    }
   ],
   "source": [
    "# Let's see if it recognizes correctly the missing parameter\n",
    "print('All parameters are {}...'.format(fun_with_req_arg(q = 'ed', o ='req')))"
   ]
  },
  {
   "cell_type": "markdown",
   "metadata": {},
   "source": [
    "### Arbitrary arguments"
   ]
  },
  {
   "cell_type": "code",
   "execution_count": 56,
   "metadata": {},
   "outputs": [
    {
     "name": "stdout",
     "output_type": "stream",
     "text": [
      "Workshop 'Python for beginners' has the following attendees: Kathryn, Chris, Carol, Alex, Isabel.\n"
     ]
    }
   ],
   "source": [
    "# Arbitrary arguments - when you are not sure in advance how many arguments will be passed to the function\n",
    "\n",
    "def attendees(a, b, *names):\n",
    "    out = 'Workshop ' + a + ' has the following ' + b + ': '\n",
    "    for idx, name in enumerate(names):\n",
    "        if idx < len(names) - 1:\n",
    "            out += name + ', '\n",
    "        else:\n",
    "            out += name + '.'    \n",
    "    return out\n",
    "\n",
    "workshop_attendees = attendees(\"'Python for beginners'\", 'attendees', 'Kathryn', 'Chris', 'Carol', 'Alex', 'Isabel') \n",
    "# works with any number of names\n",
    "print(workshop_attendees)"
   ]
  },
  {
   "cell_type": "markdown",
   "metadata": {},
   "source": [
    "### A few notes about importing modules and functions"
   ]
  },
  {
   "cell_type": "markdown",
   "metadata": {},
   "source": [
    "Soon, you will want to use additional Python libraries since they can offer you implementations of functions that you don't need anymore to write yourself.  \n",
    "<br>You can 'import' a library, i.e., some pre-made code, in the following way:\n",
    "<br>**import math as mt** \n",
    "<br>or as\n",
    "<br>**import math as m**\n",
    "<br>\n",
    "<br>This makes available all the math functionality, and allows it to be referenced by a shorthand 'mt' or 'm', depending how you decide to shorten the library name. \n",
    "<br>\n",
    "<br>It is also possible to import just one specific function from a module if that is all you need. Sometimes this can be quicker and use less memory. For instance:\n",
    "<br>**from math import factorial**\n",
    "<br>\n",
    "<br>We'll see examples of these in practice over the coming weeks."
   ]
  },
  {
   "cell_type": "markdown",
   "metadata": {},
   "source": [
    "### Reading from Files"
   ]
  },
  {
   "cell_type": "markdown",
   "metadata": {},
   "source": [
    "So far, we have used input either provided within the code or input by the user.  In practice when working with data, it is likely that you will be working with data in files.  There are a variety of ways in which the data could be structured and stored - we will introduce the basics as most other approaches will use similar methods and functions.  The general approach is:\n",
    " - open a file (i.e., create a pointer to the file)\n",
    " - read the contents of the file, i.e., load it into memory to 'do' something with it\n",
    " - close the file"
   ]
  },
  {
   "cell_type": "markdown",
   "metadata": {},
   "source": [
    "Very often, data comes as text files - a basic, but widely used format.  "
   ]
  },
  {
   "cell_type": "code",
   "execution_count": 58,
   "metadata": {
    "scrolled": true
   },
   "outputs": [
    {
     "name": "stdout",
     "output_type": "stream",
     "text": [
      "They can really make you mad\n",
      "Other things just make you swear and curse\n",
      "When you're chewing on life's gristle\n",
      "Don't grumble, give a whistle\n",
      "And this'll help things turn out for the best\n",
      "And always look on the bright side of life\n",
      "Always look on the light side of life\n"
     ]
    }
   ],
   "source": [
    "# Let's have a look at a data file that we prepared earlier\n",
    "\n",
    "with open('datafiles/bright.txt') as filepath:  # the file is stored in a subdirectory called 'datafiles'\n",
    "    file_data = filepath.read()  # all the file is read \n",
    "print(file_data)"
   ]
  },
  {
   "cell_type": "markdown",
   "metadata": {},
   "source": [
    "##### Note: the file above is located in a 'relative path' to the working directory.  If your file is somewhere else completely then may need to use 'absolute path', i.e., the full path of the file to tell Python where to look.  "
   ]
  },
  {
   "cell_type": "code",
   "execution_count": 60,
   "metadata": {},
   "outputs": [
    {
     "name": "stdout",
     "output_type": "stream",
     "text": [
      "They can really make you mad\n",
      "Other things just make you swear and curse\n",
      "When you're chewing on life's gristle\n",
      "Don't grumble, give a whistle\n",
      "And this'll help things turn out for the best\n",
      "And always look on the bright side of life\n",
      "Always look on the light side of life\n"
     ]
    }
   ],
   "source": [
    "# Let's review the previous example\n",
    "import os\n",
    "input_file = os.path.join(os.path.abspath(''), 'datafiles', 'bright.txt')\n",
    "with open(input_file) as f:  # the file is stored in a subdirectory saved into the variable 'input_file'\n",
    "    file_data = f.read()  # all the file is read \n",
    "print(file_data)"
   ]
  },
  {
   "cell_type": "code",
   "execution_count": null,
   "metadata": {},
   "outputs": [],
   "source": [
    "# Python trick (does not work in Jupyter notebooks!): \n",
    "# Use os.path.dirname(__file__) to point to the directory where the current script is\n",
    "import os\n",
    "input_file = os.path.join(os.path.dirname(__file__), 'datafiles', 'bright.txt')\n",
    "with open(input_file) as f:  # the file is stored in a subdirectory saved into the variable 'input_file'\n",
    "    file_data = f.read()  # all the file is read \n",
    "print(file_data)"
   ]
  },
  {
   "cell_type": "markdown",
   "metadata": {},
   "source": [
    "##### Homework: try the above example in PyCharm CE."
   ]
  },
  {
   "cell_type": "markdown",
   "metadata": {},
   "source": [
    "##### Note: the following code would produce the same result, but the construction using 'with' is safer since you don't need to remember to close the file. "
   ]
  },
  {
   "cell_type": "code",
   "execution_count": 61,
   "metadata": {},
   "outputs": [
    {
     "name": "stdout",
     "output_type": "stream",
     "text": [
      "They can really make you mad\n",
      "Other things just make you swear and curse\n",
      "When you're chewing on life's gristle\n",
      "Don't grumble, give a whistle\n",
      "And this'll help things turn out for the best\n",
      "And always look on the bright side of life\n",
      "Always look on the light side of life\n"
     ]
    }
   ],
   "source": [
    "filename = open('datafiles/bright.txt')\n",
    "file_data = filename.read()\n",
    "print(file_data)\n",
    "filename.close()"
   ]
  },
  {
   "cell_type": "markdown",
   "metadata": {},
   "source": [
    "There are a few other methods for reading in data from a text file that are worth being aware of:\n",
    "- read(): as above; read and return in the whole file as a single string\n",
    "- read(n): Read and return a string of n characters\n",
    "- readline(): Read and return the next line of the file\n",
    "- readlines(): Read and return a list of strings, each representing a single line in a file.  "
   ]
  },
  {
   "cell_type": "markdown",
   "metadata": {},
   "source": [
    "Let's have a closer look at the last one method, **readlines()**."
   ]
  },
  {
   "cell_type": "code",
   "execution_count": 64,
   "metadata": {
    "scrolled": true
   },
   "outputs": [
    {
     "name": "stdout",
     "output_type": "stream",
     "text": [
      "['They can really make you mad\\n', 'Other things just make you swear and curse\\n', \"When you're chewing on life's gristle\\n\", \"Don't grumble, give a whistle\\n\", \"And this'll help things turn out for the best\\n\", 'And always look on the bright side of life\\n', 'Always look on the light side of life']\n"
     ]
    }
   ],
   "source": [
    "with open('datafiles/bright.txt') as filepath: \n",
    "    file_data = filepath.readlines()  \n",
    "print(file_data)"
   ]
  },
  {
   "cell_type": "markdown",
   "metadata": {},
   "source": [
    "Now let's check the output type."
   ]
  },
  {
   "cell_type": "code",
   "execution_count": 65,
   "metadata": {},
   "outputs": [
    {
     "name": "stdout",
     "output_type": "stream",
     "text": [
      "<class 'list'>\n"
     ]
    }
   ],
   "source": [
    "print(type(file_data))"
   ]
  },
  {
   "cell_type": "markdown",
   "metadata": {},
   "source": [
    "Ok, so the output is a list, but it's really hard to read.  Let's print it nicely, line by line."
   ]
  },
  {
   "cell_type": "code",
   "execution_count": 66,
   "metadata": {},
   "outputs": [
    {
     "name": "stdout",
     "output_type": "stream",
     "text": [
      "They can really make you mad\n",
      "\n",
      "Other things just make you swear and curse\n",
      "\n",
      "When you're chewing on life's gristle\n",
      "\n",
      "Don't grumble, give a whistle\n",
      "\n",
      "And this'll help things turn out for the best\n",
      "\n",
      "And always look on the bright side of life\n",
      "\n",
      "Always look on the light side of life\n"
     ]
    }
   ],
   "source": [
    "with open('datafiles/bright.txt') as filepath: \n",
    "    lines = filepath.readlines()  \n",
    "\n",
    "for line in lines:\n",
    "    print(line)\n",
    "    #print(line.rstrip())"
   ]
  },
  {
   "cell_type": "markdown",
   "metadata": {},
   "source": [
    "##### Note: we'll play more with reading files in the exercises and in the future tutorials."
   ]
  }
 ],
 "metadata": {
  "kernelspec": {
   "display_name": "Python 3",
   "language": "python",
   "name": "python3"
  },
  "language_info": {
   "codemirror_mode": {
    "name": "ipython",
    "version": 3
   },
   "file_extension": ".py",
   "mimetype": "text/x-python",
   "name": "python",
   "nbconvert_exporter": "python",
   "pygments_lexer": "ipython3",
   "version": "3.7.4"
  }
 },
 "nbformat": 4,
 "nbformat_minor": 2
}
