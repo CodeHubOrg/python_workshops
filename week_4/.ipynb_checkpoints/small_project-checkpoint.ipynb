{
 "cells": [
  {
   "cell_type": "markdown",
   "metadata": {},
   "source": [
    "## Extra: read input from user and write it to file"
   ]
  },
  {
   "cell_type": "markdown",
   "metadata": {},
   "source": [
    "Imagine you are given an assignment where you are supposed to keep track of customer sign-ins. \n",
    "<br>\n",
    "<br>\n",
    "When a customer signs in for the first time in the system, his/her data will be added to the file of customers. The data is saved into a .txt file. \n",
    "<br>\n",
    "**Important**: if a customer signs in a 2nd, 3rd etc. time, this is detected and the system entries are not modified.\n",
    "<br>\n",
    "<br>\n",
    "The information asked from the customer is the name, email address and address. The information from each customer should be inserted into a new line at the end of the .txt file. These should each be saved in a different column, on a new line, which goes at the end of the .txt file. The columns are each 30 characters long, except the address column, which is 30 characters long.\n",
    "<br>\n",
    "<br>\n",
    "Each time a new line is added, sort the entire entries in the .txt file according to alphabetic order of the first name, e.g.:\n",
    "<br>\n",
    "<br>\n",
    "John Smith &emsp;&emsp;&emsp; john.smith@gmail.com &emsp;&emsp;&emsp; 10 Down Road, Bristol BS01SB, UK\n",
    "<br>\n",
    "William Taylor &emsp;&ensp;&nbsp;  william.taylor@gmail.com &emsp;&ensp;&ensp; 3 Bristol Road, Bristol BS59ZT, UK\n",
    "<br>"
   ]
  },
  {
   "cell_type": "code",
   "execution_count": null,
   "metadata": {},
   "outputs": [],
   "source": [
    "# Your code here\n"
   ]
  }
 ],
 "metadata": {
  "kernelspec": {
   "display_name": "Python 3",
   "language": "python",
   "name": "python3"
  },
  "language_info": {
   "codemirror_mode": {
    "name": "ipython",
    "version": 3
   },
   "file_extension": ".py",
   "mimetype": "text/x-python",
   "name": "python",
   "nbconvert_exporter": "python",
   "pygments_lexer": "ipython3",
   "version": "3.7.4"
  }
 },
 "nbformat": 4,
 "nbformat_minor": 2
}
