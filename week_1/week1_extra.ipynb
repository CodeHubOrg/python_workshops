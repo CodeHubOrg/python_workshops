{
 "cells": [
  {
   "cell_type": "markdown",
   "metadata": {},
   "source": [
    "# Week 1 extra"
   ]
  },
  {
   "cell_type": "markdown",
   "metadata": {},
   "source": [
    "##### Operators and types\n",
    "##### We have already used Operators, ie special tokens that represent computations like addition, multiplication and division. The values the operator works on are called operands.\n",
    "##### 'Integer' is a whole number which is expressed without any decimal places, eg 1, 6, 23, etc.  'Floating point' number has numbers after the decimal point - even zero counts, eg 1.3, 6.278, 23.0 etc\n",
    "##### In Python 3 the division operator / produces a floating point result (even if the result is an integer; 4/2 is 2.0). If you want truncated division, which ignores the remainder, you can use the // operator (for example, 5//2 is 2).   "
   ]
  },
  {
   "cell_type": "markdown",
   "metadata": {},
   "source": [
    "##### What do you expect the following to produce - try before you run it?"
   ]
  },
  {
   "cell_type": "code",
   "execution_count": null,
   "metadata": {},
   "outputs": [],
   "source": [
    "print(9 / 5)\n",
    "print(5 / 9)\n",
    "print(9 // 5)"
   ]
  },
  {
   "cell_type": "markdown",
   "metadata": {},
   "source": [
    "##### The truncated division operator, //, also works on floating point numbers. It truncates to the nearest integer, but still produces a floating point result. Thus 7.0 // 3.0 is 2.0.  What do you expect the following to produce - try before you run it?"
   ]
  },
  {
   "cell_type": "code",
   "execution_count": null,
   "metadata": {},
   "outputs": [],
   "source": [
    "print(7.0 / 3.0)\n",
    "print(7.0 // 3.0)\n"
   ]
  },
  {
   "cell_type": "markdown",
   "metadata": {},
   "source": [
    "##### The modulus operator, sometimes also called the remainder operator or integer remainder operator works on integers and yields the remainder when the first operand is divided by the second. In Python, the modulus operator is a percent sign (%). What will the following produce?"
   ]
  },
  {
   "cell_type": "code",
   "execution_count": null,
   "metadata": {},
   "outputs": [],
   "source": [
    "print(7 % 3)  "
   ]
  },
  {
   "cell_type": "markdown",
   "metadata": {},
   "source": [
    "##### What do you think the following will produce:\n",
    "- print(18 / 4)\n",
    "- print(18.0 // 4)\n",
    "- print(18 % 4)\n",
    "\n",
    "##### Now check your answers by writing some Python code"
   ]
  },
  {
   "cell_type": "markdown",
   "metadata": {},
   "source": [
    "##### 'Integers' and 'floats' are both 'Data Types' in Python.  Another common one is 'string', ie a sequence of letters.  You (and the interpreter) can identify strings because they are enclosed in quotation marks.  For example, 'Hello World' is a String.  The Data Type of a value determines how Python stores and uses that variable and, sometimes, it is often useful to know what Data Type a variable is - confusion on this point is a common source of programing errors."
   ]
  },
  {
   "cell_type": "markdown",
   "metadata": {},
   "source": [
    "##### Python has a function called type which can tell you the Data Type of a variable.  For example:"
   ]
  },
  {
   "cell_type": "code",
   "execution_count": null,
   "metadata": {},
   "outputs": [],
   "source": [
    "a = 12.0\n",
    "type_a = type(a)\n",
    "print('a is',a ,'and the type of a is', type_a)\n",
    "\n",
    "b = int(a)\n",
    "type_b = type(b)\n",
    "print('b is',b ,'and the type of b is', type_b)"
   ]
  },
  {
   "cell_type": "markdown",
   "metadata": {},
   "source": [
    "##### Can you predict what the following cell will produce, before running it?"
   ]
  },
  {
   "cell_type": "code",
   "execution_count": null,
   "metadata": {},
   "outputs": [],
   "source": [
    "print(type(\"Hello, World!\"))\n",
    "print(type(17))\n",
    "print(\"Hello, World\")\n",
    "print(type(3.2))"
   ]
  },
  {
   "cell_type": "markdown",
   "metadata": {},
   "source": [
    "##### What about the following cell - they look like numbers, but they are in quotation marks like strings.:\n"
   ]
  },
  {
   "cell_type": "code",
   "execution_count": null,
   "metadata": {},
   "outputs": [],
   "source": [
    "print(type(\"17\"))\n",
    "print(type(\"3.2\"))"
   ]
  },
  {
   "cell_type": "markdown",
   "metadata": {},
   "source": [
    "##### They’re strings!\n",
    "\n",
    "##### Strings in Python can be enclosed in either single quotes (') or double quotes (\"), or three of each (''' or \"\"\")"
   ]
  },
  {
   "cell_type": "markdown",
   "metadata": {},
   "source": [
    "##### If a variable is assigned to a number or string, then the type function will also work on the variable, eg"
   ]
  },
  {
   "cell_type": "code",
   "execution_count": null,
   "metadata": {},
   "outputs": [],
   "source": [
    "message = \"What's up, Doc?\"\n",
    "n = 17\n",
    "pi = 3.14159\n",
    "\n",
    "print(type(message))\n",
    "print(type(n))\n",
    "print(type(pi))"
   ]
  },
  {
   "cell_type": "markdown",
   "metadata": {},
   "source": [
    "##### If you have got this far, you are clearly quite experienced already!  Hence, open up Pycharm and see if you can create a project and a python file; reproduce one of the exercises you have done during this session in that file.  Another way of Python programming, and one which is particularly useful for more complex programmes when you need to do debugging.  More on this in a later workshop."
   ]
  },
  {
   "cell_type": "markdown",
   "metadata": {},
   "source": [
    "##### If you want more practice (& get on in advance of next time) go to the material under 'Python_information' notebook"
   ]
  }
 ],
 "metadata": {
  "kernelspec": {
   "display_name": "Python 3",
   "language": "python",
   "name": "python3"
  },
  "language_info": {
   "codemirror_mode": {
    "name": "ipython",
    "version": 3
   },
   "file_extension": ".py",
   "mimetype": "text/x-python",
   "name": "python",
   "nbconvert_exporter": "python",
   "pygments_lexer": "ipython3",
   "version": "3.7.4"
  }
 },
 "nbformat": 4,
 "nbformat_minor": 2
}
