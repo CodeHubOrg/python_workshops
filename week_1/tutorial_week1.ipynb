{
 "cells": [
  {
   "cell_type": "markdown",
   "metadata": {},
   "source": [
    "__IMPORTANT INFO__\n",
    "<br>\n",
    "Note that you can find all the workshop materials under the following link, each session being marked as \"week_x\":\n",
    "<br>\n",
    "<br>\n",
    "&nbsp;&nbsp;&nbsp;&nbsp;&nbsp;&nbsp;&nbsp;&nbsp;&nbsp;&nbsp;&nbsp;&nbsp;[https://github.com/CodeHubOrg/python_workshops](https://github.com/CodeHubOrg/python_workshops)\n",
    "<br>\n",
    "<br>\n",
    "Download the data files by clicking on the 'Clone or download' green button, choose 'Download ZIP', then unzip from your downloads folder. We will update the material before each session."
   ]
  },
  {
   "cell_type": "markdown",
   "metadata": {},
   "source": [
    "# An Introduction to Python\n",
    "This workshop is divided into 5 parts:\n",
    "* An overview of the workshops\n",
    "* An introduction to how to install Python and a few Python tools on your machine using Anaconda\n",
    "* An short guide to using Jupyter notebooks\n",
    "* A short guide to using the PyCharm (for Anaconda) editor\n",
    "* A quick overview of the more important Python packages for data science projects"
   ]
  },
  {
   "cell_type": "markdown",
   "metadata": {},
   "source": [
    "# Part 1. Python Workshops"
   ]
  },
  {
   "cell_type": "markdown",
   "metadata": {},
   "source": [
    "|       |        |                                             |                                                     |\n",
    "|:------|:-------|:--------------------------------------------|:----------------------------------------------------|\n",
    "|   1   |15.01.20|Setting up the Python environment            |Overview of workshops                                |\n",
    "|       |        |                                             |Python installation                                  |\n",
    "|       |        |                                             |Anaconda                                             | \n",
    "|       |        |                                             |Jupyter notebooks                                    | \n",
    "|       |        |                                             |PyCharm IDE for debugging                            | \n",
    "|       |        |                                             |Jupyter notebooks                                    |\n",
    "|       |        |                                             |Packages and environments                            | "
   ]
  },
  {
   "cell_type": "markdown",
   "metadata": {},
   "source": [
    "|       |        |                                             |               &nbsp;&nbsp;&nbsp;&nbsp;&nbsp;&nbsp;&nbsp;&nbsp;&nbsp;&nbsp;&nbsp;&nbsp;&nbsp;&nbsp;&nbsp;&nbsp;&nbsp;&nbsp;&nbsp; &nbsp;&nbsp;&nbsp;&nbsp;&nbsp;&nbsp;&nbsp;&nbsp;&nbsp;&nbsp;&nbsp;&nbsp;&nbsp;&nbsp;&nbsp;&nbsp;&nbsp;&nbsp;&nbsp; &nbsp;&nbsp;&nbsp;&nbsp;&nbsp;&nbsp;&nbsp;&nbsp;&nbsp;&nbsp;&nbsp;&nbsp;&nbsp;&nbsp;&nbsp;&nbsp;&nbsp;&nbsp;&nbsp; &nbsp;&nbsp;&nbsp;&nbsp;&nbsp;&nbsp;&nbsp;&nbsp;&nbsp;&nbsp;&nbsp;&nbsp;&nbsp;&nbsp;&nbsp;&nbsp;&nbsp;               |\n",
    "|:------|:-------|:--------------------------------------------|:----------------------------------------------------|\n",
    "|   2   |29.01.20|Data structures                              |Data types (string, integer, float)                  |\n",
    "|       |        |                                             |Lists                                                | \n",
    "|       |        |                                             |Dictionaries                                         |\n",
    "|       |        |                                             |Arrays                                               |"
   ]
  },
  {
   "cell_type": "markdown",
   "metadata": {},
   "source": [
    "|       |        |                                             |               &nbsp;&nbsp;&nbsp;&nbsp;&nbsp;&nbsp;&nbsp;&nbsp;&nbsp;&nbsp;&nbsp;&nbsp;&nbsp;&nbsp;&nbsp;&nbsp;&nbsp;&nbsp;&nbsp; &nbsp;&nbsp;&nbsp;&nbsp;&nbsp;&nbsp;&nbsp;&nbsp;&nbsp;&nbsp;&nbsp;&nbsp;&nbsp;&nbsp;&nbsp;&nbsp;&nbsp;&nbsp;&nbsp; &nbsp;&nbsp;&nbsp;&nbsp;&nbsp;&nbsp;&nbsp;&nbsp;&nbsp;&nbsp;&nbsp;&nbsp;&nbsp;&nbsp;&nbsp;&nbsp;                     |\n",
    "|:------|:-------|:--------------------------------------------|:----------------------------------------------------|\n",
    "|   3   |12.02.20|Programming fundamentals I                   |Conditionals                                         | \n",
    "|       |        |                                             |For/while loops                                      | \n",
    "|       |        |                                             |Try/except statements                                | "
   ]
  },
  {
   "cell_type": "markdown",
   "metadata": {},
   "source": [
    "|       |        |                                             |               &nbsp;&nbsp;&nbsp;&nbsp;&nbsp;&nbsp;&nbsp;&nbsp;&nbsp;&nbsp;&nbsp;&nbsp;&nbsp;&nbsp;&nbsp;&nbsp;&nbsp;&nbsp;&nbsp; &nbsp;&nbsp;&nbsp;&nbsp;&nbsp;&nbsp;&nbsp;&nbsp;&nbsp;&nbsp;&nbsp;&nbsp;&nbsp;&nbsp;&nbsp;&nbsp;&nbsp;&nbsp;&nbsp; &nbsp;&nbsp;&nbsp;&nbsp;&nbsp;&nbsp;&nbsp; &nbsp;&nbsp;&nbsp;&nbsp;&nbsp;&nbsp;&nbsp;                                |\n",
    "|:------|:-------|:--------------------------------------------|:----------------------------------------------------|\n",
    "|   4   |26.02.20|Programming fundamentals II                  |Functions                                            | \n",
    "|       |        |                                             |Debugging in PyCharm                                 |"
   ]
  },
  {
   "cell_type": "markdown",
   "metadata": {},
   "source": [
    "|       |        |                                             |               &nbsp;&nbsp;&nbsp;&nbsp;&nbsp;&nbsp;&nbsp;&nbsp;&nbsp;&nbsp;&nbsp;&nbsp;&nbsp;&nbsp;&nbsp;&nbsp;&nbsp;&nbsp;&nbsp; &nbsp;&nbsp;&nbsp;&nbsp;&nbsp;&nbsp;&nbsp;&nbsp;&nbsp;&nbsp;&nbsp;&nbsp;&nbsp;&nbsp;&nbsp;&nbsp;&nbsp;&nbsp;&nbsp;&nbsp;&nbsp;&nbsp;&nbsp;&nbsp;&nbsp;&nbsp;&nbsp;&nbsp;&nbsp;&nbsp;&nbsp;&nbsp;&nbsp;&nbsp;&nbsp;&nbsp;&nbsp;&nbsp;&nbsp;&nbsp;                                                                                                                 |\n",
    "|:------|:-------|:--------------------------------------------|:----------------------------------------------------|\n",
    "|   5   |11.03.20|Working with data                            |Introduction to Pandas                               | \n",
    "|       |        |                                             |Loading/saving/manipulating data with Pandas         | "
   ]
  },
  {
   "cell_type": "markdown",
   "metadata": {},
   "source": [
    "|       |        |                                             |               &nbsp;&nbsp;&nbsp;&nbsp;&nbsp;&nbsp;&nbsp;&nbsp;&nbsp;&nbsp;&nbsp;&nbsp;&nbsp;&nbsp;&nbsp;&nbsp;&nbsp;&nbsp;&nbsp;&nbsp;&nbsp;&nbsp;&nbsp;&nbsp;&nbsp;&nbsp;&nbsp;&nbsp;&nbsp;&nbsp;&nbsp;&nbsp;&nbsp;&nbsp;&nbsp;&nbsp;&nbsp;&nbsp;&nbsp;&nbsp;&nbsp;&nbsp;&nbsp;&nbsp;&nbsp;&nbsp;&nbsp;&nbsp;&nbsp;&nbsp;&nbsp;&nbsp;&nbsp;&nbsp;&nbsp;&nbsp;&nbsp;&nbsp;&nbsp;&nbsp;&nbsp;&nbsp;&nbsp;&nbsp;&nbsp;&nbsp;&nbsp;&nbsp;&nbsp;&nbsp;&nbsp;&nbsp;&nbsp;&nbsp;&nbsp;&nbsp;&nbsp;&nbsp;&nbsp;&nbsp;&nbsp;&nbsp;                                                                                                 |\n",
    "|:------|:-------|:--------------------------------------------|:----------------------------------------------------|\n",
    "|   6   |25.03.20|Vizualizations                               |Introduction to Matplotlib                           |"
   ]
  },
  {
   "cell_type": "markdown",
   "metadata": {},
   "source": [
    "|       |        |                                             |               &nbsp;&nbsp;&nbsp;&nbsp;&nbsp;&nbsp;&nbsp;&nbsp;&nbsp;&nbsp;&nbsp;&nbsp;&nbsp;&nbsp;&nbsp;&nbsp;&nbsp;&nbsp;&nbsp;&nbsp;&nbsp;&nbsp;&nbsp;&nbsp;&nbsp;&nbsp;&nbsp;&nbsp;&nbsp;&nbsp;&nbsp;&nbsp;&nbsp;&nbsp;&nbsp;&nbsp;&nbsp;&nbsp;&nbsp;&nbsp;&nbsp;&nbsp;&nbsp;&nbsp;&nbsp;&nbsp;&nbsp;&nbsp;&nbsp;&nbsp;&nbsp;&nbsp;&nbsp;&nbsp;&nbsp;&nbsp;&nbsp;&nbsp;&nbsp;&nbsp;&nbsp;&nbsp;&nbsp;&nbsp;&nbsp;&nbsp;&nbsp;&nbsp;&nbsp;&nbsp;&nbsp;&nbsp;&nbsp;&nbsp;&nbsp;&nbsp;&nbsp;&nbsp;&nbsp;&nbsp;&nbsp;&nbsp;&nbsp;&nbsp;&nbsp;&nbsp;&nbsp;&nbsp;&nbsp;&nbsp;&nbsp;&nbsp;&nbsp;&nbsp;                         |\n",
    "|:------|:-------|:--------------------------------------------|:----------------------------------------------------|\n",
    "|   7   |08.04.20|Testing                                      |Test your Python code                                |"
   ]
  },
  {
   "cell_type": "markdown",
   "metadata": {},
   "source": [
    "# Part 2. Python/Python Tools Installation Guide \n",
    "We will be using Python 3.7 during this tutorial. To install Python, please use the instructions below.\n",
    "### Install Anaconda \n",
    "* go to the official Anaconda website **[https://www.anaconda.com/distribution/](https://www.anaconda.com/distribution/)** and download the installation corresponding to your machine, e.g, for MacOS:\n",
    "<img src=\"images/Screenshot1.png\" alt=\"Anaconda installation MacOS\" style=\"width: 600px;\"/>\n",
    "* Follow the installation instructions until the end. It might take a while if it's the first time you install it."
   ]
  },
  {
   "cell_type": "raw",
   "metadata": {},
   "source": [
    "### Anaconda Tools\n",
    "* Launch the Anaconda app\n",
    "<br>\n",
    "<img src=\"images/Anaconda_navigator.png\" alt=\"Launch the Anaconda navigator\" style=\"width: 600px;\"/>\n",
    "<br>\n",
    "* Browse through the available tools\n",
    "<br>\n",
    "<img src=\"images/Anaconda_tools.png\" alt=\"Anaconda tools\" style=\"width: 600px;\"/>\n",
    "<br>\n",
    "* Open a Jupyter notebook\n",
    "<br>\n",
    "<img src=\"images/Jupyter_cmd.png\" alt=\"Automatic launch of the command line\" style=\"width: 600px;\"/>\n",
    "<br>\n",
    "<img src=\"images/Jupyter_web.png\" alt=\"Jupyter notebook interface\" style=\"width: 600px;\"/>\n",
    "<br>\n",
    "<img src=\"images/Jupyter_web_WTH.png\" alt=\"Jupyter notebook\" style=\"width: 600px;\"/>"
   ]
  },
  {
   "cell_type": "markdown",
   "metadata": {},
   "source": [
    "### Install PyCharm IDE\n",
    "* Install PyCharm IDE for Anaconda from **[https://www.jetbrains.com/pycharm/promo/anaconda/](https://www.jetbrains.com/pycharm/promo/anaconda/)** since we will be using this for part 4 of the tutorial. Make sure you install the free Community Edition version!\n",
    "<br>\n",
    "* IMPORTANT: Use the recommended installation defaults if it's the first time using PyCharm.\n",
    "<br>\n",
    "<img src=\"images/Screenshot6.png\" alt=\"PyCharm installation step 1\" style=\"width: 600px;\"/>"
   ]
  },
  {
   "cell_type": "markdown",
   "metadata": {},
   "source": [
    "# Part 3. Jupyter notebooks "
   ]
  },
  {
   "cell_type": "markdown",
   "metadata": {},
   "source": [
    "## Jupyter modes"
   ]
  },
  {
   "cell_type": "markdown",
   "metadata": {},
   "source": [
    "### Command mode\n",
    "The cell is highlighted blue.\n",
    "<br>\n",
    "<img src=\"images/Jupyter_command_mode.png\" alt=\"Jupyter command mode\" style=\"width: 600px;\"/>\n",
    "### Edit mode\n",
    "The cell is highlighted green.\n",
    "<br>\n",
    "<img src=\"images/Jupyter_edit_mode.png\" alt=\"Jupyter edit mode\" style=\"width: 600px;\"/>"
   ]
  },
  {
   "cell_type": "markdown",
   "metadata": {},
   "source": [
    "## Jupyter cell types"
   ]
  },
  {
   "cell_type": "markdown",
   "metadata": {},
   "source": [
    "### Code\n",
    "<br>\n",
    "<img src=\"images/Jupyter_code.png\" alt=\"Jupyter code\" style=\"width: 600px;\"/>"
   ]
  },
  {
   "cell_type": "markdown",
   "metadata": {},
   "source": [
    "###  Markdown\n",
    "<br>\n",
    "<img src=\"images/Jupyter_markdown.png\" alt=\"Jupyter markdown\" style=\"width: 600px;\"/>"
   ]
  },
  {
   "cell_type": "markdown",
   "metadata": {},
   "source": [
    "###  Raw NBConvert\n",
    "<br>\n",
    "<img src=\"images/Jupyter_raw_nbconvert.png\" alt=\"Jupyter raw NBConvert\" style=\"width: 600px;\"/>"
   ]
  },
  {
   "cell_type": "markdown",
   "metadata": {},
   "source": [
    "## Jupyter keyboard shortcuts\n",
    "<br>\n",
    "<img src=\"images/Jupyter_keyboard_1.png\" alt=\"Jupyter keyboard 1\" style=\"width: 600px;\"/>\n",
    "<br>\n",
    "<img src=\"images/Jupyter_keyboard_2.png\" alt=\"Jupyter keyboard 2\" style=\"width: 600px;\"/>\n",
    "<br>\n",
    "<img src=\"images/Jupyter_keyboard_3.png\" alt=\"Jupyter keyboard 3\" style=\"width: 600px;\"/>\n",
    "<br>\n",
    "<img src=\"images/Jupyter_keyboard_4.png\" alt=\"Jupyter keyboard 4\" style=\"width: 600px;\"/>"
   ]
  },
  {
   "cell_type": "markdown",
   "metadata": {},
   "source": [
    "# Part 4. PyCharm for Anaconda\n",
    "### Setting up the Python environment\n",
    "* For your first Python project, use the Conda environment.\n",
    "<br>\n",
    "<img src=\"images/PyCharm_launch.png\" alt=\"PyCharm launch\" style=\"width: 600px;\"/>\n",
    "<br>\n",
    "<img src=\"images/PyCharm_create_project.png\" alt=\"PyCharm create project\" style=\"width: 600px;\"/>\n",
    "<br>\n",
    "<img src=\"images/Screenshot7.png\" alt=\"PyCharm set environment\" style=\"width: 600px;\"/>\n",
    "<br>\n",
    "* Congrats! You have created your first Python project in PyCharm! \n",
    "<br>\n",
    "* You can now try to run/debug a short example in PyCharm."
   ]
  },
  {
   "cell_type": "markdown",
   "metadata": {},
   "source": [
    "### Run a script in Pycharm\n",
    "* First, add a file to your project. The file should print a line of text of your choice to the screen.\n",
    "<br>\n",
    "<img src=\"images/PyCharm_add_python_file1.png\" alt=\"PyCharm add file\" style=\"width: 600px;\"/>\n",
    "<br>\n",
    "<img src=\"images/PyCharm_add_python_file2.png\" alt=\"PyCharm add file\" style=\"width: 600px;\"/>\n",
    "<br>\n",
    "* Run the script and check what happens.\n",
    "<br>\n",
    "<img src=\"images/PyCharm_run_python_file1.png\" alt=\"PyCharm run file 1\" style=\"width: 600px;\"/>\n",
    "<br>\n",
    "<img src=\"images/PyCharm_run_python_file2.png\" alt=\"PyCharm run file 2\" style=\"width: 600px;\"/>"
   ]
  },
  {
   "cell_type": "markdown",
   "metadata": {},
   "source": [
    "### Debug a script in Pycharm\n",
    "* Let's add a new print line and a breakpoint in front of this line. \n",
    "<br>\n",
    "<img src=\"images/PyCharm_debug_python_file1.png\" alt=\"PyCharm debug file 1\" style=\"width: 600px;\"/>\n",
    "<br>\n",
    "* Debug the file and check the variables.\n",
    "<br>\n",
    "<img src=\"images/PyCharm_debug_python_file2.png\" alt=\"PyCharm debug file 2\" style=\"width: 600px;\"/>\n",
    "<br>\n",
    "<img src=\"images/PyCharm_debug_python_file3.png\" alt=\"PyCharm debug file 3\" style=\"width: 600px;\"/>\n",
    "<br>\n",
    "<img src=\"images/PyCharm_debug_python_file4.png\" alt=\"PyCharm debug file 4\" style=\"width: 600px;\"/>"
   ]
  },
  {
   "cell_type": "markdown",
   "metadata": {},
   "source": [
    "# Part 5. Python Packages\n",
    "There are a few Python packages which are useful te get familiarized with if you plan to work on data science projects"
   ]
  },
  {
   "cell_type": "markdown",
   "metadata": {},
   "source": [
    "## Numpy\n",
    "The Numpy package is a powerful N-dimensional array object, whic allows you to do do fast operations with vectors and N-dimensional matrices. It is in particular useful for tasks which invlove linear algebra, Fourier transforms, and random number generation.\n",
    "<br>\n",
    "<img src=\"images/numpy_example.png\" alt=\"Numpy example\" style=\"width: 600px;\"/>"
   ]
  },
  {
   "cell_type": "markdown",
   "metadata": {},
   "source": [
    "## Scipy\n",
    "SciPy builds on Numpy and provides a large number of functions that operate on numpy arrays and are useful for scientific and engineering applications.\n",
    "<br>\n",
    "<img src=\"images/scipy_example_1.png\" alt=\"Scipy example 1\" style=\"width: 600px;\"/>\n",
    "<br>\n",
    "<img src=\"images/scipy_example_2.png\" alt=\"Scipy example 2\" style=\"width: 400px;\"/>\n",
    "<br>\n",
    "<img src=\"images/scipy_example_3.png\" alt=\"Scipy example 3\" style=\"width: 400px;\"/>"
   ]
  },
  {
   "cell_type": "markdown",
   "metadata": {},
   "source": [
    "## Matplotlib\n",
    "Matplotlib is a plotting package, which allows you to visualize your data.\n",
    "<br>\n",
    "<img src=\"images/matplotlib_example.png\" alt=\"Matplotlib example\" style=\"width: 600px;\"/>"
   ]
  },
  {
   "cell_type": "markdown",
   "metadata": {},
   "source": [
    "## Pandas\n",
    "The Pandas package offers data structures and operations for manipulating numerical tables and time series.\n",
    "<br>\n",
    "<img src=\"images/Pandas_example.png\" alt=\"Pandas example\" style=\"width: 600px;\"/>"
   ]
  }
 ],
 "metadata": {
  "kernelspec": {
   "display_name": "Python 3",
   "language": "python",
   "name": "python3"
  },
  "language_info": {
   "codemirror_mode": {
    "name": "ipython",
    "version": 3
   },
   "file_extension": ".py",
   "mimetype": "text/x-python",
   "name": "python",
   "nbconvert_exporter": "python",
   "pygments_lexer": "ipython3",
   "version": "3.7.4"
  }
 },
 "nbformat": 4,
 "nbformat_minor": 2
}
