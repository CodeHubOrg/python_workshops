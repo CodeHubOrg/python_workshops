{
 "cells": [
  {
   "cell_type": "markdown",
   "metadata": {},
   "source": [
    "## Data Science Bootcamp or Data Analyst Apprenticeship - see Slack Channel"
   ]
  },
  {
   "cell_type": "markdown",
   "metadata": {},
   "source": [
    "### Pandas (\"panel data\")"
   ]
  },
  {
   "cell_type": "markdown",
   "metadata": {},
   "source": [
    "The Pandas package is used to explore data, e.g.,\n",
    " - To calculate statistical values (mean, max, min etc.)\n",
    " - To clean data (remove outliers, account for missing data etc.)\n",
    " - To restructure data into a nicer format\n",
    " - To prepare data for futher processing, e.g., for classification, clustering, visualization etc.\n",
    "\n",
    "Its data manipulation syntax resembles that of Numpy array operations. The Pandas package is already installed as part of the Anaconda installation. If this is not your case, you first need to install it on your computer before switching to the exercises."
   ]
  },
  {
   "cell_type": "markdown",
   "metadata": {},
   "source": [
    "### What are pandas - series and dataframes"
   ]
  },
  {
   "cell_type": "markdown",
   "metadata": {},
   "source": [
    "Below is a short example of a 'Series' and 'DataFrame'. We won't worry too much about creating this from scratch since typically, you will use Pandas for reading in data from a given file."
   ]
  },
  {
   "cell_type": "markdown",
   "metadata": {},
   "source": [
    "#### Pandas Series\n",
    "A series is effectively a column of data."
   ]
  },
  {
   "cell_type": "code",
   "execution_count": 1,
   "metadata": {},
   "outputs": [
    {
     "name": "stdout",
     "output_type": "stream",
     "text": [
      "0    12\n",
      "1     8\n",
      "2    10\n",
      "3    11\n",
      "dtype: int64\n"
     ]
    }
   ],
   "source": [
    "import pandas as pd   # use the Pandas package and refer to it as 'pd' to save writing out\n",
    "\n",
    "data_Series = [12, 8, 10, 11]\n",
    "\n",
    "attendance = pd.Series(data_Series)\n",
    "\n",
    "print(attendance)"
   ]
  },
  {
   "cell_type": "markdown",
   "metadata": {},
   "source": [
    "We could make the labelling a bit more helpful."
   ]
  },
  {
   "cell_type": "code",
   "execution_count": 2,
   "metadata": {},
   "outputs": [
    {
     "name": "stdout",
     "output_type": "stream",
     "text": [
      "week_1    12\n",
      "week_2     8\n",
      "week_3    10\n",
      "week_4    11\n",
      "dtype: int64\n"
     ]
    }
   ],
   "source": [
    "# Add some row labels\n",
    "\n",
    "attendance_labelled = pd.Series(data_Series, index = ['week_1', 'week_2', 'week_3', 'week_4'])\n",
    "\n",
    "print(attendance_labelled)"
   ]
  },
  {
   "cell_type": "markdown",
   "metadata": {},
   "source": [
    "#### Pandas DataFrame"
   ]
  },
  {
   "cell_type": "markdown",
   "metadata": {},
   "source": [
    "A DataFrame is simply a collection of multiple Series."
   ]
  },
  {
   "cell_type": "code",
   "execution_count": 3,
   "metadata": {
    "scrolled": true
   },
   "outputs": [
    {
     "name": "stdout",
     "output_type": "stream",
     "text": [
      "        Python  Web101  AI\n",
      "week_1      12       6  11\n",
      "week_2       8      10   7\n",
      "week_3      10       8   6\n",
      "week_4      11      11   9\n"
     ]
    }
   ],
   "source": [
    "import pandas as pd   \n",
    "\n",
    "data_df = {'Python' : [12, 8, 10, 11], 'Web101' : [6, 10, 8, 11], 'AI' : [11, 7, 6, 9]}\n",
    "\n",
    "profiles = pd.DataFrame(data_df, index = ['week_1', 'week_2', 'week_3', 'week_4'])\n",
    "\n",
    "print(profiles)"
   ]
  },
  {
   "cell_type": "markdown",
   "metadata": {},
   "source": [
    "Note that if you don't use \"print\", the DataFrame will be printed as a table."
   ]
  },
  {
   "cell_type": "code",
   "execution_count": 4,
   "metadata": {},
   "outputs": [
    {
     "data": {
      "text/html": [
       "<div>\n",
       "<style scoped>\n",
       "    .dataframe tbody tr th:only-of-type {\n",
       "        vertical-align: middle;\n",
       "    }\n",
       "\n",
       "    .dataframe tbody tr th {\n",
       "        vertical-align: top;\n",
       "    }\n",
       "\n",
       "    .dataframe thead th {\n",
       "        text-align: right;\n",
       "    }\n",
       "</style>\n",
       "<table border=\"1\" class=\"dataframe\">\n",
       "  <thead>\n",
       "    <tr style=\"text-align: right;\">\n",
       "      <th></th>\n",
       "      <th>Python</th>\n",
       "      <th>Web101</th>\n",
       "      <th>AI</th>\n",
       "    </tr>\n",
       "  </thead>\n",
       "  <tbody>\n",
       "    <tr>\n",
       "      <td>week_1</td>\n",
       "      <td>12</td>\n",
       "      <td>6</td>\n",
       "      <td>11</td>\n",
       "    </tr>\n",
       "    <tr>\n",
       "      <td>week_2</td>\n",
       "      <td>8</td>\n",
       "      <td>10</td>\n",
       "      <td>7</td>\n",
       "    </tr>\n",
       "    <tr>\n",
       "      <td>week_3</td>\n",
       "      <td>10</td>\n",
       "      <td>8</td>\n",
       "      <td>6</td>\n",
       "    </tr>\n",
       "    <tr>\n",
       "      <td>week_4</td>\n",
       "      <td>11</td>\n",
       "      <td>11</td>\n",
       "      <td>9</td>\n",
       "    </tr>\n",
       "  </tbody>\n",
       "</table>\n",
       "</div>"
      ],
      "text/plain": [
       "        Python  Web101  AI\n",
       "week_1      12       6  11\n",
       "week_2       8      10   7\n",
       "week_3      10       8   6\n",
       "week_4      11      11   9"
      ]
     },
     "execution_count": 4,
     "metadata": {},
     "output_type": "execute_result"
    }
   ],
   "source": [
    "profiles"
   ]
  },
  {
   "cell_type": "markdown",
   "metadata": {},
   "source": [
    "### Reading in data"
   ]
  },
  {
   "cell_type": "markdown",
   "metadata": {},
   "source": [
    "We will use a local database to give you a more realistic picture of what to expect when working on a typical assignment with data manipulation, but also to promote interesting datasets. The database was chosen on the basis that it is quite small, so it is convenient for your first exercises with Pandas.\n",
    "More interesting databases can be found here: https://opendata.bristol.gov.uk/pages/homepage/"
   ]
  },
  {
   "cell_type": "markdown",
   "metadata": {},
   "source": [
    "Let us first read the data from the file and see what type it is."
   ]
  },
  {
   "cell_type": "code",
   "execution_count": 5,
   "metadata": {
    "scrolled": false
   },
   "outputs": [
    {
     "name": "stdout",
     "output_type": "stream",
     "text": [
      "<class 'pandas.core.frame.DataFrame'>\n"
     ]
    }
   ],
   "source": [
    "# Note that all the import statements should go at the top of a script\n",
    "import os\n",
    "import pandas as pd\n",
    "\n",
    "input_file = os.path.join(os.path.abspath(''), 'datafiles', 'public-toilets-community.csv')\n",
    "\n",
    "toilet_data = pd.read_csv(input_file)\n",
    "\n",
    "print(type(toilet_data))"
   ]
  },
  {
   "cell_type": "markdown",
   "metadata": {},
   "source": [
    "Since the data is already of type DataFrame, we can easily print it as a table and check what information it contains."
   ]
  },
  {
   "cell_type": "code",
   "execution_count": 6,
   "metadata": {
    "scrolled": true
   },
   "outputs": [
    {
     "data": {
      "text/html": [
       "<div>\n",
       "<style scoped>\n",
       "    .dataframe tbody tr th:only-of-type {\n",
       "        vertical-align: middle;\n",
       "    }\n",
       "\n",
       "    .dataframe tbody tr th {\n",
       "        vertical-align: top;\n",
       "    }\n",
       "\n",
       "    .dataframe thead th {\n",
       "        text-align: right;\n",
       "    }\n",
       "</style>\n",
       "<table border=\"1\" class=\"dataframe\">\n",
       "  <thead>\n",
       "    <tr style=\"text-align: right;\">\n",
       "      <th></th>\n",
       "      <th>OBJECTID</th>\n",
       "      <th>Name</th>\n",
       "      <th>Address</th>\n",
       "      <th>Postcode</th>\n",
       "      <th>Ward</th>\n",
       "      <th>Toilet opening hours</th>\n",
       "      <th>Male (no. of)</th>\n",
       "      <th>Urinals (no. of)</th>\n",
       "      <th>Female (no. of)</th>\n",
       "      <th>Unisex (no.of)</th>\n",
       "      <th>...</th>\n",
       "      <th>Automatic opening door</th>\n",
       "      <th>Pull cord monitored (Y/N/Times)</th>\n",
       "      <th>Radar Key</th>\n",
       "      <th>Baby change</th>\n",
       "      <th>Family Toilet</th>\n",
       "      <th>Automatic Public Convenience</th>\n",
       "      <th>Attended</th>\n",
       "      <th>Full Time Staffing</th>\n",
       "      <th>geo_shape</th>\n",
       "      <th>geo_point_2d</th>\n",
       "    </tr>\n",
       "  </thead>\n",
       "  <tbody>\n",
       "    <tr>\n",
       "      <td>0</td>\n",
       "      <td>52</td>\n",
       "      <td>Tesco - Callington Road</td>\n",
       "      <td>Callington Road, BS4 5AY</td>\n",
       "      <td>BS4 5AY</td>\n",
       "      <td>Brislington West</td>\n",
       "      <td>Mon 8am then 24 hours until 10pm on Sats, Sun ...</td>\n",
       "      <td>Yes</td>\n",
       "      <td>0</td>\n",
       "      <td>Yes</td>\n",
       "      <td>0.0</td>\n",
       "      <td>...</td>\n",
       "      <td>N</td>\n",
       "      <td>Yes- during open times</td>\n",
       "      <td>N</td>\n",
       "      <td>Y</td>\n",
       "      <td>N</td>\n",
       "      <td>N</td>\n",
       "      <td>NaN</td>\n",
       "      <td>N</td>\n",
       "      <td>{\"type\": \"Point\", \"coordinates\": [-2.554650233...</td>\n",
       "      <td>51.4324732718, -2.55465023322</td>\n",
       "    </tr>\n",
       "    <tr>\n",
       "      <td>1</td>\n",
       "      <td>29</td>\n",
       "      <td>Sea Walls Public Toilets</td>\n",
       "      <td>Circular Road By Sea Walls viewing Area</td>\n",
       "      <td>BS9 1ZZ</td>\n",
       "      <td>Stoke Bishop</td>\n",
       "      <td>Monday - Saunday  7:30-18:00</td>\n",
       "      <td>2</td>\n",
       "      <td>1</td>\n",
       "      <td>3</td>\n",
       "      <td>NaN</td>\n",
       "      <td>...</td>\n",
       "      <td>N</td>\n",
       "      <td>N</td>\n",
       "      <td>Y</td>\n",
       "      <td>Y</td>\n",
       "      <td>N</td>\n",
       "      <td>N</td>\n",
       "      <td>N</td>\n",
       "      <td>N</td>\n",
       "      <td>{\"type\": \"Point\", \"coordinates\": [-2.635545426...</td>\n",
       "      <td>51.4701425495, -2.63554542692</td>\n",
       "    </tr>\n",
       "    <tr>\n",
       "      <td>2</td>\n",
       "      <td>54</td>\n",
       "      <td>Avonmouth Medical Centre (Pioneer Medical Group)</td>\n",
       "      <td>1 Collins Street, Bristol</td>\n",
       "      <td>BS11 9JJ</td>\n",
       "      <td>Avonmouth &amp; Lawrence Weston</td>\n",
       "      <td>Monday-Thursday 08:00 - 18:30, Friday 08:00-17:00</td>\n",
       "      <td>0</td>\n",
       "      <td>0</td>\n",
       "      <td>0</td>\n",
       "      <td>2.0</td>\n",
       "      <td>...</td>\n",
       "      <td>N</td>\n",
       "      <td>Y during open times</td>\n",
       "      <td>N</td>\n",
       "      <td>Y</td>\n",
       "      <td>N</td>\n",
       "      <td>N</td>\n",
       "      <td>Y</td>\n",
       "      <td>Y</td>\n",
       "      <td>{\"type\": \"Point\", \"coordinates\": [-2.694532865...</td>\n",
       "      <td>51.4987516075, -2.69453286599</td>\n",
       "    </tr>\n",
       "    <tr>\n",
       "      <td>3</td>\n",
       "      <td>2081</td>\n",
       "      <td>Ridingleaze Medical Centre (Pioneer Medical Gr...</td>\n",
       "      <td>Ridingleaze, Lawrence Weston</td>\n",
       "      <td>BS11 0QE</td>\n",
       "      <td>Avonmouth &amp; Lawrence Weston</td>\n",
       "      <td>Monday- Friday 08:00 - 18:30</td>\n",
       "      <td>0</td>\n",
       "      <td>0</td>\n",
       "      <td>0</td>\n",
       "      <td>1.0</td>\n",
       "      <td>...</td>\n",
       "      <td>N</td>\n",
       "      <td>no</td>\n",
       "      <td>N</td>\n",
       "      <td>N</td>\n",
       "      <td>N</td>\n",
       "      <td>N</td>\n",
       "      <td>NaN</td>\n",
       "      <td>NaN</td>\n",
       "      <td>{\"type\": \"Point\", \"coordinates\": [-2.659817532...</td>\n",
       "      <td>51.5004455574, -2.65981753253</td>\n",
       "    </tr>\n",
       "    <tr>\n",
       "      <td>4</td>\n",
       "      <td>57</td>\n",
       "      <td>Barton Hill Settlement</td>\n",
       "      <td>41-43 Ducie Road, BS5 0AX</td>\n",
       "      <td>BS5 0AX</td>\n",
       "      <td>Lawrence Hill</td>\n",
       "      <td>Monday - Friday 9:00 - 16:00</td>\n",
       "      <td>2</td>\n",
       "      <td>NaN</td>\n",
       "      <td>2</td>\n",
       "      <td>0.0</td>\n",
       "      <td>...</td>\n",
       "      <td>N</td>\n",
       "      <td>Yes- during open time</td>\n",
       "      <td>N</td>\n",
       "      <td>Y</td>\n",
       "      <td>N</td>\n",
       "      <td>N</td>\n",
       "      <td>Y</td>\n",
       "      <td>Y</td>\n",
       "      <td>{\"type\": \"Point\", \"coordinates\": [-2.563674974...</td>\n",
       "      <td>51.4562494756, -2.5636749747</td>\n",
       "    </tr>\n",
       "    <tr>\n",
       "      <td>...</td>\n",
       "      <td>...</td>\n",
       "      <td>...</td>\n",
       "      <td>...</td>\n",
       "      <td>...</td>\n",
       "      <td>...</td>\n",
       "      <td>...</td>\n",
       "      <td>...</td>\n",
       "      <td>...</td>\n",
       "      <td>...</td>\n",
       "      <td>...</td>\n",
       "      <td>...</td>\n",
       "      <td>...</td>\n",
       "      <td>...</td>\n",
       "      <td>...</td>\n",
       "      <td>...</td>\n",
       "      <td>...</td>\n",
       "      <td>...</td>\n",
       "      <td>...</td>\n",
       "      <td>...</td>\n",
       "      <td>...</td>\n",
       "      <td>...</td>\n",
       "    </tr>\n",
       "    <tr>\n",
       "      <td>102</td>\n",
       "      <td>641</td>\n",
       "      <td>Ambition Lawrence Weston, Lawrence Weston Yout...</td>\n",
       "      <td>Lawrence Weston Road, Long Cross, Bristol</td>\n",
       "      <td>BS11 0RX</td>\n",
       "      <td>Avonmouth &amp; Lawrence Weston</td>\n",
       "      <td>Monday to Friday 09:00-16:00 with ad-hoc addit...</td>\n",
       "      <td>NaN</td>\n",
       "      <td>NaN</td>\n",
       "      <td>NaN</td>\n",
       "      <td>NaN</td>\n",
       "      <td>...</td>\n",
       "      <td>NaN</td>\n",
       "      <td>NaN</td>\n",
       "      <td>NaN</td>\n",
       "      <td>NaN</td>\n",
       "      <td>NaN</td>\n",
       "      <td>NaN</td>\n",
       "      <td>NaN</td>\n",
       "      <td>NaN</td>\n",
       "      <td>{\"type\": \"Point\", \"coordinates\": [-2.653822353...</td>\n",
       "      <td>51.5049424918, -2.65382235353</td>\n",
       "    </tr>\n",
       "    <tr>\n",
       "      <td>103</td>\n",
       "      <td>1745</td>\n",
       "      <td>Helios - Sea Mills Surgery</td>\n",
       "      <td>2 Riverleaze</td>\n",
       "      <td>BS9 2HL</td>\n",
       "      <td>Stoke Bishop</td>\n",
       "      <td>Monday-Friday 08:00-18:30</td>\n",
       "      <td>0</td>\n",
       "      <td>0</td>\n",
       "      <td>0</td>\n",
       "      <td>1.0</td>\n",
       "      <td>...</td>\n",
       "      <td>Y</td>\n",
       "      <td>yes during opening hours</td>\n",
       "      <td>N</td>\n",
       "      <td>Y</td>\n",
       "      <td>N</td>\n",
       "      <td>N</td>\n",
       "      <td>Y</td>\n",
       "      <td>Y</td>\n",
       "      <td>{\"type\": \"Point\", \"coordinates\": [-2.650086369...</td>\n",
       "      <td>51.4849119244, -2.65008636941</td>\n",
       "    </tr>\n",
       "    <tr>\n",
       "      <td>104</td>\n",
       "      <td>2417</td>\n",
       "      <td>Merrywood Practice</td>\n",
       "      <td>Knowle Health Park, Downton Road</td>\n",
       "      <td>BS4 1WH</td>\n",
       "      <td>Filwood</td>\n",
       "      <td>08:30-18:30 Monday-Friday</td>\n",
       "      <td>2</td>\n",
       "      <td>0</td>\n",
       "      <td>2</td>\n",
       "      <td>0.0</td>\n",
       "      <td>...</td>\n",
       "      <td>Y</td>\n",
       "      <td>yes</td>\n",
       "      <td>N</td>\n",
       "      <td>Y</td>\n",
       "      <td>N</td>\n",
       "      <td>N</td>\n",
       "      <td>NaN</td>\n",
       "      <td>Y</td>\n",
       "      <td>{\"type\": \"Point\", \"coordinates\": [-2.596459550...</td>\n",
       "      <td>51.4280468206, -2.59645955096</td>\n",
       "    </tr>\n",
       "    <tr>\n",
       "      <td>105</td>\n",
       "      <td>70</td>\n",
       "      <td>Morrison's - Hartcliffe</td>\n",
       "      <td>Hareclive Rd, Petersons Avenue, Hartcliffe</td>\n",
       "      <td>BS14 0BE</td>\n",
       "      <td>Hartcliffe &amp; Withywood</td>\n",
       "      <td>7am - 10pm</td>\n",
       "      <td>2</td>\n",
       "      <td>3</td>\n",
       "      <td>3</td>\n",
       "      <td>NaN</td>\n",
       "      <td>...</td>\n",
       "      <td>NaN</td>\n",
       "      <td>Y during open hours</td>\n",
       "      <td>N</td>\n",
       "      <td>Y</td>\n",
       "      <td>N</td>\n",
       "      <td>N</td>\n",
       "      <td>Y</td>\n",
       "      <td>Y</td>\n",
       "      <td>{\"type\": \"Point\", \"coordinates\": [-2.599634281...</td>\n",
       "      <td>51.405200404, -2.59963428185</td>\n",
       "    </tr>\n",
       "    <tr>\n",
       "      <td>106</td>\n",
       "      <td>5153</td>\n",
       "      <td>the Life Boat</td>\n",
       "      <td>25 High St, Bristol</td>\n",
       "      <td>BS11 0DX</td>\n",
       "      <td>Avonmouth &amp; Lawrence Weston</td>\n",
       "      <td>Monday - Saturday 10:00 - 23:00  Sunday 12:00 ...</td>\n",
       "      <td>1</td>\n",
       "      <td>1</td>\n",
       "      <td>1</td>\n",
       "      <td>NaN</td>\n",
       "      <td>...</td>\n",
       "      <td>N</td>\n",
       "      <td>NaN</td>\n",
       "      <td>N</td>\n",
       "      <td>N</td>\n",
       "      <td>N</td>\n",
       "      <td>NaN</td>\n",
       "      <td>Y</td>\n",
       "      <td>Y</td>\n",
       "      <td>{\"type\": \"Point\", \"coordinates\": [-2.675368178...</td>\n",
       "      <td>51.4890035948, -2.67536817895</td>\n",
       "    </tr>\n",
       "  </tbody>\n",
       "</table>\n",
       "<p>107 rows × 23 columns</p>\n",
       "</div>"
      ],
      "text/plain": [
       "     OBJECTID                                               Name  \\\n",
       "0          52                            Tesco - Callington Road   \n",
       "1          29                           Sea Walls Public Toilets   \n",
       "2          54   Avonmouth Medical Centre (Pioneer Medical Group)   \n",
       "3        2081  Ridingleaze Medical Centre (Pioneer Medical Gr...   \n",
       "4          57                             Barton Hill Settlement   \n",
       "..        ...                                                ...   \n",
       "102       641  Ambition Lawrence Weston, Lawrence Weston Yout...   \n",
       "103      1745                         Helios - Sea Mills Surgery   \n",
       "104      2417                                 Merrywood Practice   \n",
       "105        70                            Morrison's - Hartcliffe   \n",
       "106      5153                                      the Life Boat   \n",
       "\n",
       "                                        Address  Postcode  \\\n",
       "0                      Callington Road, BS4 5AY   BS4 5AY   \n",
       "1       Circular Road By Sea Walls viewing Area   BS9 1ZZ   \n",
       "2                     1 Collins Street, Bristol  BS11 9JJ   \n",
       "3                  Ridingleaze, Lawrence Weston  BS11 0QE   \n",
       "4                     41-43 Ducie Road, BS5 0AX   BS5 0AX   \n",
       "..                                          ...       ...   \n",
       "102   Lawrence Weston Road, Long Cross, Bristol  BS11 0RX   \n",
       "103                                2 Riverleaze   BS9 2HL   \n",
       "104            Knowle Health Park, Downton Road   BS4 1WH   \n",
       "105  Hareclive Rd, Petersons Avenue, Hartcliffe  BS14 0BE   \n",
       "106                         25 High St, Bristol  BS11 0DX   \n",
       "\n",
       "                            Ward  \\\n",
       "0               Brislington West   \n",
       "1                   Stoke Bishop   \n",
       "2    Avonmouth & Lawrence Weston   \n",
       "3    Avonmouth & Lawrence Weston   \n",
       "4                  Lawrence Hill   \n",
       "..                           ...   \n",
       "102  Avonmouth & Lawrence Weston   \n",
       "103                 Stoke Bishop   \n",
       "104                      Filwood   \n",
       "105       Hartcliffe & Withywood   \n",
       "106  Avonmouth & Lawrence Weston   \n",
       "\n",
       "                                  Toilet opening hours Male (no. of)  \\\n",
       "0    Mon 8am then 24 hours until 10pm on Sats, Sun ...           Yes   \n",
       "1                         Monday - Saunday  7:30-18:00             2   \n",
       "2    Monday-Thursday 08:00 - 18:30, Friday 08:00-17:00             0   \n",
       "3                         Monday- Friday 08:00 - 18:30             0   \n",
       "4                         Monday - Friday 9:00 - 16:00             2   \n",
       "..                                                 ...           ...   \n",
       "102  Monday to Friday 09:00-16:00 with ad-hoc addit...           NaN   \n",
       "103                          Monday-Friday 08:00-18:30             0   \n",
       "104                          08:30-18:30 Monday-Friday             2   \n",
       "105                                         7am - 10pm             2   \n",
       "106  Monday - Saturday 10:00 - 23:00  Sunday 12:00 ...             1   \n",
       "\n",
       "    Urinals (no. of) Female (no. of)  Unisex (no.of)  ...  \\\n",
       "0                  0             Yes             0.0  ...   \n",
       "1                  1               3             NaN  ...   \n",
       "2                  0               0             2.0  ...   \n",
       "3                  0               0             1.0  ...   \n",
       "4                NaN               2             0.0  ...   \n",
       "..               ...             ...             ...  ...   \n",
       "102              NaN             NaN             NaN  ...   \n",
       "103                0               0             1.0  ...   \n",
       "104                0               2             0.0  ...   \n",
       "105                3               3             NaN  ...   \n",
       "106                1               1             NaN  ...   \n",
       "\n",
       "    Automatic opening door Pull cord monitored (Y/N/Times) Radar Key  \\\n",
       "0                        N          Yes- during open times         N   \n",
       "1                        N                               N         Y   \n",
       "2                        N             Y during open times         N   \n",
       "3                        N                              no         N   \n",
       "4                        N           Yes- during open time         N   \n",
       "..                     ...                             ...       ...   \n",
       "102                    NaN                             NaN       NaN   \n",
       "103                      Y        yes during opening hours         N   \n",
       "104                      Y                             yes         N   \n",
       "105                    NaN             Y during open hours         N   \n",
       "106                      N                             NaN         N   \n",
       "\n",
       "    Baby change Family Toilet Automatic Public Convenience Attended  \\\n",
       "0             Y             N                            N      NaN   \n",
       "1             Y             N                            N        N   \n",
       "2             Y             N                            N        Y   \n",
       "3             N             N                            N      NaN   \n",
       "4             Y             N                            N        Y   \n",
       "..          ...           ...                          ...      ...   \n",
       "102         NaN           NaN                          NaN      NaN   \n",
       "103           Y             N                            N        Y   \n",
       "104           Y             N                            N      NaN   \n",
       "105           Y             N                            N        Y   \n",
       "106           N             N                          NaN        Y   \n",
       "\n",
       "    Full Time Staffing                                          geo_shape  \\\n",
       "0                    N  {\"type\": \"Point\", \"coordinates\": [-2.554650233...   \n",
       "1                    N  {\"type\": \"Point\", \"coordinates\": [-2.635545426...   \n",
       "2                    Y  {\"type\": \"Point\", \"coordinates\": [-2.694532865...   \n",
       "3                  NaN  {\"type\": \"Point\", \"coordinates\": [-2.659817532...   \n",
       "4                    Y  {\"type\": \"Point\", \"coordinates\": [-2.563674974...   \n",
       "..                 ...                                                ...   \n",
       "102                NaN  {\"type\": \"Point\", \"coordinates\": [-2.653822353...   \n",
       "103                  Y  {\"type\": \"Point\", \"coordinates\": [-2.650086369...   \n",
       "104                  Y  {\"type\": \"Point\", \"coordinates\": [-2.596459550...   \n",
       "105                  Y  {\"type\": \"Point\", \"coordinates\": [-2.599634281...   \n",
       "106                  Y  {\"type\": \"Point\", \"coordinates\": [-2.675368178...   \n",
       "\n",
       "                      geo_point_2d  \n",
       "0    51.4324732718, -2.55465023322  \n",
       "1    51.4701425495, -2.63554542692  \n",
       "2    51.4987516075, -2.69453286599  \n",
       "3    51.5004455574, -2.65981753253  \n",
       "4     51.4562494756, -2.5636749747  \n",
       "..                             ...  \n",
       "102  51.5049424918, -2.65382235353  \n",
       "103  51.4849119244, -2.65008636941  \n",
       "104  51.4280468206, -2.59645955096  \n",
       "105   51.405200404, -2.59963428185  \n",
       "106  51.4890035948, -2.67536817895  \n",
       "\n",
       "[107 rows x 23 columns]"
      ]
     },
     "execution_count": 6,
     "metadata": {},
     "output_type": "execute_result"
    }
   ],
   "source": [
    "toilet_data"
   ]
  },
  {
   "cell_type": "markdown",
   "metadata": {},
   "source": [
    "Note that the printed table doesn't contain all rows, but only the first and last 5 out of a total of 107 rows."
   ]
  },
  {
   "cell_type": "markdown",
   "metadata": {},
   "source": [
    "Let's say we are only interested in quickly checking the first rows of the dataset. We can use x.head(n) to print the first *n* rows, where *x* is the DataFrame variable (by default, n=5)."
   ]
  },
  {
   "cell_type": "code",
   "execution_count": 7,
   "metadata": {
    "scrolled": true
   },
   "outputs": [
    {
     "data": {
      "text/html": [
       "<div>\n",
       "<style scoped>\n",
       "    .dataframe tbody tr th:only-of-type {\n",
       "        vertical-align: middle;\n",
       "    }\n",
       "\n",
       "    .dataframe tbody tr th {\n",
       "        vertical-align: top;\n",
       "    }\n",
       "\n",
       "    .dataframe thead th {\n",
       "        text-align: right;\n",
       "    }\n",
       "</style>\n",
       "<table border=\"1\" class=\"dataframe\">\n",
       "  <thead>\n",
       "    <tr style=\"text-align: right;\">\n",
       "      <th></th>\n",
       "      <th>OBJECTID</th>\n",
       "      <th>Name</th>\n",
       "      <th>Address</th>\n",
       "      <th>Postcode</th>\n",
       "      <th>Ward</th>\n",
       "      <th>Toilet opening hours</th>\n",
       "      <th>Male (no. of)</th>\n",
       "      <th>Urinals (no. of)</th>\n",
       "      <th>Female (no. of)</th>\n",
       "      <th>Unisex (no.of)</th>\n",
       "      <th>...</th>\n",
       "      <th>Automatic opening door</th>\n",
       "      <th>Pull cord monitored (Y/N/Times)</th>\n",
       "      <th>Radar Key</th>\n",
       "      <th>Baby change</th>\n",
       "      <th>Family Toilet</th>\n",
       "      <th>Automatic Public Convenience</th>\n",
       "      <th>Attended</th>\n",
       "      <th>Full Time Staffing</th>\n",
       "      <th>geo_shape</th>\n",
       "      <th>geo_point_2d</th>\n",
       "    </tr>\n",
       "  </thead>\n",
       "  <tbody>\n",
       "    <tr>\n",
       "      <td>0</td>\n",
       "      <td>52</td>\n",
       "      <td>Tesco - Callington Road</td>\n",
       "      <td>Callington Road, BS4 5AY</td>\n",
       "      <td>BS4 5AY</td>\n",
       "      <td>Brislington West</td>\n",
       "      <td>Mon 8am then 24 hours until 10pm on Sats, Sun ...</td>\n",
       "      <td>Yes</td>\n",
       "      <td>0</td>\n",
       "      <td>Yes</td>\n",
       "      <td>0.0</td>\n",
       "      <td>...</td>\n",
       "      <td>N</td>\n",
       "      <td>Yes- during open times</td>\n",
       "      <td>N</td>\n",
       "      <td>Y</td>\n",
       "      <td>N</td>\n",
       "      <td>N</td>\n",
       "      <td>NaN</td>\n",
       "      <td>N</td>\n",
       "      <td>{\"type\": \"Point\", \"coordinates\": [-2.554650233...</td>\n",
       "      <td>51.4324732718, -2.55465023322</td>\n",
       "    </tr>\n",
       "    <tr>\n",
       "      <td>1</td>\n",
       "      <td>29</td>\n",
       "      <td>Sea Walls Public Toilets</td>\n",
       "      <td>Circular Road By Sea Walls viewing Area</td>\n",
       "      <td>BS9 1ZZ</td>\n",
       "      <td>Stoke Bishop</td>\n",
       "      <td>Monday - Saunday  7:30-18:00</td>\n",
       "      <td>2</td>\n",
       "      <td>1</td>\n",
       "      <td>3</td>\n",
       "      <td>NaN</td>\n",
       "      <td>...</td>\n",
       "      <td>N</td>\n",
       "      <td>N</td>\n",
       "      <td>Y</td>\n",
       "      <td>Y</td>\n",
       "      <td>N</td>\n",
       "      <td>N</td>\n",
       "      <td>N</td>\n",
       "      <td>N</td>\n",
       "      <td>{\"type\": \"Point\", \"coordinates\": [-2.635545426...</td>\n",
       "      <td>51.4701425495, -2.63554542692</td>\n",
       "    </tr>\n",
       "    <tr>\n",
       "      <td>2</td>\n",
       "      <td>54</td>\n",
       "      <td>Avonmouth Medical Centre (Pioneer Medical Group)</td>\n",
       "      <td>1 Collins Street, Bristol</td>\n",
       "      <td>BS11 9JJ</td>\n",
       "      <td>Avonmouth &amp; Lawrence Weston</td>\n",
       "      <td>Monday-Thursday 08:00 - 18:30, Friday 08:00-17:00</td>\n",
       "      <td>0</td>\n",
       "      <td>0</td>\n",
       "      <td>0</td>\n",
       "      <td>2.0</td>\n",
       "      <td>...</td>\n",
       "      <td>N</td>\n",
       "      <td>Y during open times</td>\n",
       "      <td>N</td>\n",
       "      <td>Y</td>\n",
       "      <td>N</td>\n",
       "      <td>N</td>\n",
       "      <td>Y</td>\n",
       "      <td>Y</td>\n",
       "      <td>{\"type\": \"Point\", \"coordinates\": [-2.694532865...</td>\n",
       "      <td>51.4987516075, -2.69453286599</td>\n",
       "    </tr>\n",
       "    <tr>\n",
       "      <td>3</td>\n",
       "      <td>2081</td>\n",
       "      <td>Ridingleaze Medical Centre (Pioneer Medical Gr...</td>\n",
       "      <td>Ridingleaze, Lawrence Weston</td>\n",
       "      <td>BS11 0QE</td>\n",
       "      <td>Avonmouth &amp; Lawrence Weston</td>\n",
       "      <td>Monday- Friday 08:00 - 18:30</td>\n",
       "      <td>0</td>\n",
       "      <td>0</td>\n",
       "      <td>0</td>\n",
       "      <td>1.0</td>\n",
       "      <td>...</td>\n",
       "      <td>N</td>\n",
       "      <td>no</td>\n",
       "      <td>N</td>\n",
       "      <td>N</td>\n",
       "      <td>N</td>\n",
       "      <td>N</td>\n",
       "      <td>NaN</td>\n",
       "      <td>NaN</td>\n",
       "      <td>{\"type\": \"Point\", \"coordinates\": [-2.659817532...</td>\n",
       "      <td>51.5004455574, -2.65981753253</td>\n",
       "    </tr>\n",
       "    <tr>\n",
       "      <td>4</td>\n",
       "      <td>57</td>\n",
       "      <td>Barton Hill Settlement</td>\n",
       "      <td>41-43 Ducie Road, BS5 0AX</td>\n",
       "      <td>BS5 0AX</td>\n",
       "      <td>Lawrence Hill</td>\n",
       "      <td>Monday - Friday 9:00 - 16:00</td>\n",
       "      <td>2</td>\n",
       "      <td>NaN</td>\n",
       "      <td>2</td>\n",
       "      <td>0.0</td>\n",
       "      <td>...</td>\n",
       "      <td>N</td>\n",
       "      <td>Yes- during open time</td>\n",
       "      <td>N</td>\n",
       "      <td>Y</td>\n",
       "      <td>N</td>\n",
       "      <td>N</td>\n",
       "      <td>Y</td>\n",
       "      <td>Y</td>\n",
       "      <td>{\"type\": \"Point\", \"coordinates\": [-2.563674974...</td>\n",
       "      <td>51.4562494756, -2.5636749747</td>\n",
       "    </tr>\n",
       "  </tbody>\n",
       "</table>\n",
       "<p>5 rows × 23 columns</p>\n",
       "</div>"
      ],
      "text/plain": [
       "   OBJECTID                                               Name  \\\n",
       "0        52                            Tesco - Callington Road   \n",
       "1        29                           Sea Walls Public Toilets   \n",
       "2        54   Avonmouth Medical Centre (Pioneer Medical Group)   \n",
       "3      2081  Ridingleaze Medical Centre (Pioneer Medical Gr...   \n",
       "4        57                             Barton Hill Settlement   \n",
       "\n",
       "                                   Address  Postcode  \\\n",
       "0                 Callington Road, BS4 5AY   BS4 5AY   \n",
       "1  Circular Road By Sea Walls viewing Area   BS9 1ZZ   \n",
       "2                1 Collins Street, Bristol  BS11 9JJ   \n",
       "3             Ridingleaze, Lawrence Weston  BS11 0QE   \n",
       "4                41-43 Ducie Road, BS5 0AX   BS5 0AX   \n",
       "\n",
       "                          Ward  \\\n",
       "0             Brislington West   \n",
       "1                 Stoke Bishop   \n",
       "2  Avonmouth & Lawrence Weston   \n",
       "3  Avonmouth & Lawrence Weston   \n",
       "4                Lawrence Hill   \n",
       "\n",
       "                                Toilet opening hours Male (no. of)  \\\n",
       "0  Mon 8am then 24 hours until 10pm on Sats, Sun ...           Yes   \n",
       "1                       Monday - Saunday  7:30-18:00             2   \n",
       "2  Monday-Thursday 08:00 - 18:30, Friday 08:00-17:00             0   \n",
       "3                       Monday- Friday 08:00 - 18:30             0   \n",
       "4                       Monday - Friday 9:00 - 16:00             2   \n",
       "\n",
       "  Urinals (no. of) Female (no. of)  Unisex (no.of)  ...  \\\n",
       "0                0             Yes             0.0  ...   \n",
       "1                1               3             NaN  ...   \n",
       "2                0               0             2.0  ...   \n",
       "3                0               0             1.0  ...   \n",
       "4              NaN               2             0.0  ...   \n",
       "\n",
       "  Automatic opening door Pull cord monitored (Y/N/Times) Radar Key  \\\n",
       "0                      N          Yes- during open times         N   \n",
       "1                      N                               N         Y   \n",
       "2                      N             Y during open times         N   \n",
       "3                      N                              no         N   \n",
       "4                      N           Yes- during open time         N   \n",
       "\n",
       "  Baby change Family Toilet Automatic Public Convenience Attended  \\\n",
       "0           Y             N                            N      NaN   \n",
       "1           Y             N                            N        N   \n",
       "2           Y             N                            N        Y   \n",
       "3           N             N                            N      NaN   \n",
       "4           Y             N                            N        Y   \n",
       "\n",
       "  Full Time Staffing                                          geo_shape  \\\n",
       "0                  N  {\"type\": \"Point\", \"coordinates\": [-2.554650233...   \n",
       "1                  N  {\"type\": \"Point\", \"coordinates\": [-2.635545426...   \n",
       "2                  Y  {\"type\": \"Point\", \"coordinates\": [-2.694532865...   \n",
       "3                NaN  {\"type\": \"Point\", \"coordinates\": [-2.659817532...   \n",
       "4                  Y  {\"type\": \"Point\", \"coordinates\": [-2.563674974...   \n",
       "\n",
       "                    geo_point_2d  \n",
       "0  51.4324732718, -2.55465023322  \n",
       "1  51.4701425495, -2.63554542692  \n",
       "2  51.4987516075, -2.69453286599  \n",
       "3  51.5004455574, -2.65981753253  \n",
       "4   51.4562494756, -2.5636749747  \n",
       "\n",
       "[5 rows x 23 columns]"
      ]
     },
     "execution_count": 7,
     "metadata": {},
     "output_type": "execute_result"
    }
   ],
   "source": [
    "toilet_data.head()"
   ]
  },
  {
   "cell_type": "code",
   "execution_count": 8,
   "metadata": {},
   "outputs": [
    {
     "data": {
      "text/html": [
       "<div>\n",
       "<style scoped>\n",
       "    .dataframe tbody tr th:only-of-type {\n",
       "        vertical-align: middle;\n",
       "    }\n",
       "\n",
       "    .dataframe tbody tr th {\n",
       "        vertical-align: top;\n",
       "    }\n",
       "\n",
       "    .dataframe thead th {\n",
       "        text-align: right;\n",
       "    }\n",
       "</style>\n",
       "<table border=\"1\" class=\"dataframe\">\n",
       "  <thead>\n",
       "    <tr style=\"text-align: right;\">\n",
       "      <th></th>\n",
       "      <th>OBJECTID</th>\n",
       "      <th>Name</th>\n",
       "      <th>Address</th>\n",
       "      <th>Postcode</th>\n",
       "      <th>Ward</th>\n",
       "      <th>Toilet opening hours</th>\n",
       "      <th>Male (no. of)</th>\n",
       "      <th>Urinals (no. of)</th>\n",
       "      <th>Female (no. of)</th>\n",
       "      <th>Unisex (no.of)</th>\n",
       "      <th>...</th>\n",
       "      <th>Automatic opening door</th>\n",
       "      <th>Pull cord monitored (Y/N/Times)</th>\n",
       "      <th>Radar Key</th>\n",
       "      <th>Baby change</th>\n",
       "      <th>Family Toilet</th>\n",
       "      <th>Automatic Public Convenience</th>\n",
       "      <th>Attended</th>\n",
       "      <th>Full Time Staffing</th>\n",
       "      <th>geo_shape</th>\n",
       "      <th>geo_point_2d</th>\n",
       "    </tr>\n",
       "  </thead>\n",
       "  <tbody>\n",
       "    <tr>\n",
       "      <td>0</td>\n",
       "      <td>52</td>\n",
       "      <td>Tesco - Callington Road</td>\n",
       "      <td>Callington Road, BS4 5AY</td>\n",
       "      <td>BS4 5AY</td>\n",
       "      <td>Brislington West</td>\n",
       "      <td>Mon 8am then 24 hours until 10pm on Sats, Sun ...</td>\n",
       "      <td>Yes</td>\n",
       "      <td>0</td>\n",
       "      <td>Yes</td>\n",
       "      <td>0.0</td>\n",
       "      <td>...</td>\n",
       "      <td>N</td>\n",
       "      <td>Yes- during open times</td>\n",
       "      <td>N</td>\n",
       "      <td>Y</td>\n",
       "      <td>N</td>\n",
       "      <td>N</td>\n",
       "      <td>NaN</td>\n",
       "      <td>N</td>\n",
       "      <td>{\"type\": \"Point\", \"coordinates\": [-2.554650233...</td>\n",
       "      <td>51.4324732718, -2.55465023322</td>\n",
       "    </tr>\n",
       "    <tr>\n",
       "      <td>1</td>\n",
       "      <td>29</td>\n",
       "      <td>Sea Walls Public Toilets</td>\n",
       "      <td>Circular Road By Sea Walls viewing Area</td>\n",
       "      <td>BS9 1ZZ</td>\n",
       "      <td>Stoke Bishop</td>\n",
       "      <td>Monday - Saunday  7:30-18:00</td>\n",
       "      <td>2</td>\n",
       "      <td>1</td>\n",
       "      <td>3</td>\n",
       "      <td>NaN</td>\n",
       "      <td>...</td>\n",
       "      <td>N</td>\n",
       "      <td>N</td>\n",
       "      <td>Y</td>\n",
       "      <td>Y</td>\n",
       "      <td>N</td>\n",
       "      <td>N</td>\n",
       "      <td>N</td>\n",
       "      <td>N</td>\n",
       "      <td>{\"type\": \"Point\", \"coordinates\": [-2.635545426...</td>\n",
       "      <td>51.4701425495, -2.63554542692</td>\n",
       "    </tr>\n",
       "  </tbody>\n",
       "</table>\n",
       "<p>2 rows × 23 columns</p>\n",
       "</div>"
      ],
      "text/plain": [
       "   OBJECTID                      Name  \\\n",
       "0        52   Tesco - Callington Road   \n",
       "1        29  Sea Walls Public Toilets   \n",
       "\n",
       "                                   Address Postcode              Ward  \\\n",
       "0                 Callington Road, BS4 5AY  BS4 5AY  Brislington West   \n",
       "1  Circular Road By Sea Walls viewing Area  BS9 1ZZ      Stoke Bishop   \n",
       "\n",
       "                                Toilet opening hours Male (no. of)  \\\n",
       "0  Mon 8am then 24 hours until 10pm on Sats, Sun ...           Yes   \n",
       "1                       Monday - Saunday  7:30-18:00             2   \n",
       "\n",
       "  Urinals (no. of) Female (no. of)  Unisex (no.of)  ...  \\\n",
       "0                0             Yes             0.0  ...   \n",
       "1                1               3             NaN  ...   \n",
       "\n",
       "  Automatic opening door Pull cord monitored (Y/N/Times) Radar Key  \\\n",
       "0                      N          Yes- during open times         N   \n",
       "1                      N                               N         Y   \n",
       "\n",
       "  Baby change Family Toilet Automatic Public Convenience Attended  \\\n",
       "0           Y             N                            N      NaN   \n",
       "1           Y             N                            N        N   \n",
       "\n",
       "  Full Time Staffing                                          geo_shape  \\\n",
       "0                  N  {\"type\": \"Point\", \"coordinates\": [-2.554650233...   \n",
       "1                  N  {\"type\": \"Point\", \"coordinates\": [-2.635545426...   \n",
       "\n",
       "                    geo_point_2d  \n",
       "0  51.4324732718, -2.55465023322  \n",
       "1  51.4701425495, -2.63554542692  \n",
       "\n",
       "[2 rows x 23 columns]"
      ]
     },
     "execution_count": 8,
     "metadata": {},
     "output_type": "execute_result"
    }
   ],
   "source": [
    "toilet_data.head(2)"
   ]
  },
  {
   "cell_type": "markdown",
   "metadata": {},
   "source": [
    "Similarly, let's say we are only interested in quickly checking the last rows of the dataset. We can use x.tail(n) to print the last *n* rows, where *x* is the DataFrame variable (by default, n=5)."
   ]
  },
  {
   "cell_type": "code",
   "execution_count": 10,
   "metadata": {},
   "outputs": [
    {
     "data": {
      "text/html": [
       "<div>\n",
       "<style scoped>\n",
       "    .dataframe tbody tr th:only-of-type {\n",
       "        vertical-align: middle;\n",
       "    }\n",
       "\n",
       "    .dataframe tbody tr th {\n",
       "        vertical-align: top;\n",
       "    }\n",
       "\n",
       "    .dataframe thead th {\n",
       "        text-align: right;\n",
       "    }\n",
       "</style>\n",
       "<table border=\"1\" class=\"dataframe\">\n",
       "  <thead>\n",
       "    <tr style=\"text-align: right;\">\n",
       "      <th></th>\n",
       "      <th>OBJECTID</th>\n",
       "      <th>Name</th>\n",
       "      <th>Address</th>\n",
       "      <th>Postcode</th>\n",
       "      <th>Ward</th>\n",
       "      <th>Toilet opening hours</th>\n",
       "      <th>Male (no. of)</th>\n",
       "      <th>Urinals (no. of)</th>\n",
       "      <th>Female (no. of)</th>\n",
       "      <th>Unisex (no.of)</th>\n",
       "      <th>...</th>\n",
       "      <th>Automatic opening door</th>\n",
       "      <th>Pull cord monitored (Y/N/Times)</th>\n",
       "      <th>Radar Key</th>\n",
       "      <th>Baby change</th>\n",
       "      <th>Family Toilet</th>\n",
       "      <th>Automatic Public Convenience</th>\n",
       "      <th>Attended</th>\n",
       "      <th>Full Time Staffing</th>\n",
       "      <th>geo_shape</th>\n",
       "      <th>geo_point_2d</th>\n",
       "    </tr>\n",
       "  </thead>\n",
       "  <tbody>\n",
       "    <tr>\n",
       "      <td>102</td>\n",
       "      <td>641</td>\n",
       "      <td>Ambition Lawrence Weston, Lawrence Weston Yout...</td>\n",
       "      <td>Lawrence Weston Road, Long Cross, Bristol</td>\n",
       "      <td>BS11 0RX</td>\n",
       "      <td>Avonmouth &amp; Lawrence Weston</td>\n",
       "      <td>Monday to Friday 09:00-16:00 with ad-hoc addit...</td>\n",
       "      <td>NaN</td>\n",
       "      <td>NaN</td>\n",
       "      <td>NaN</td>\n",
       "      <td>NaN</td>\n",
       "      <td>...</td>\n",
       "      <td>NaN</td>\n",
       "      <td>NaN</td>\n",
       "      <td>NaN</td>\n",
       "      <td>NaN</td>\n",
       "      <td>NaN</td>\n",
       "      <td>NaN</td>\n",
       "      <td>NaN</td>\n",
       "      <td>NaN</td>\n",
       "      <td>{\"type\": \"Point\", \"coordinates\": [-2.653822353...</td>\n",
       "      <td>51.5049424918, -2.65382235353</td>\n",
       "    </tr>\n",
       "    <tr>\n",
       "      <td>103</td>\n",
       "      <td>1745</td>\n",
       "      <td>Helios - Sea Mills Surgery</td>\n",
       "      <td>2 Riverleaze</td>\n",
       "      <td>BS9 2HL</td>\n",
       "      <td>Stoke Bishop</td>\n",
       "      <td>Monday-Friday 08:00-18:30</td>\n",
       "      <td>0</td>\n",
       "      <td>0</td>\n",
       "      <td>0</td>\n",
       "      <td>1.0</td>\n",
       "      <td>...</td>\n",
       "      <td>Y</td>\n",
       "      <td>yes during opening hours</td>\n",
       "      <td>N</td>\n",
       "      <td>Y</td>\n",
       "      <td>N</td>\n",
       "      <td>N</td>\n",
       "      <td>Y</td>\n",
       "      <td>Y</td>\n",
       "      <td>{\"type\": \"Point\", \"coordinates\": [-2.650086369...</td>\n",
       "      <td>51.4849119244, -2.65008636941</td>\n",
       "    </tr>\n",
       "    <tr>\n",
       "      <td>104</td>\n",
       "      <td>2417</td>\n",
       "      <td>Merrywood Practice</td>\n",
       "      <td>Knowle Health Park, Downton Road</td>\n",
       "      <td>BS4 1WH</td>\n",
       "      <td>Filwood</td>\n",
       "      <td>08:30-18:30 Monday-Friday</td>\n",
       "      <td>2</td>\n",
       "      <td>0</td>\n",
       "      <td>2</td>\n",
       "      <td>0.0</td>\n",
       "      <td>...</td>\n",
       "      <td>Y</td>\n",
       "      <td>yes</td>\n",
       "      <td>N</td>\n",
       "      <td>Y</td>\n",
       "      <td>N</td>\n",
       "      <td>N</td>\n",
       "      <td>NaN</td>\n",
       "      <td>Y</td>\n",
       "      <td>{\"type\": \"Point\", \"coordinates\": [-2.596459550...</td>\n",
       "      <td>51.4280468206, -2.59645955096</td>\n",
       "    </tr>\n",
       "    <tr>\n",
       "      <td>105</td>\n",
       "      <td>70</td>\n",
       "      <td>Morrison's - Hartcliffe</td>\n",
       "      <td>Hareclive Rd, Petersons Avenue, Hartcliffe</td>\n",
       "      <td>BS14 0BE</td>\n",
       "      <td>Hartcliffe &amp; Withywood</td>\n",
       "      <td>7am - 10pm</td>\n",
       "      <td>2</td>\n",
       "      <td>3</td>\n",
       "      <td>3</td>\n",
       "      <td>NaN</td>\n",
       "      <td>...</td>\n",
       "      <td>NaN</td>\n",
       "      <td>Y during open hours</td>\n",
       "      <td>N</td>\n",
       "      <td>Y</td>\n",
       "      <td>N</td>\n",
       "      <td>N</td>\n",
       "      <td>Y</td>\n",
       "      <td>Y</td>\n",
       "      <td>{\"type\": \"Point\", \"coordinates\": [-2.599634281...</td>\n",
       "      <td>51.405200404, -2.59963428185</td>\n",
       "    </tr>\n",
       "    <tr>\n",
       "      <td>106</td>\n",
       "      <td>5153</td>\n",
       "      <td>the Life Boat</td>\n",
       "      <td>25 High St, Bristol</td>\n",
       "      <td>BS11 0DX</td>\n",
       "      <td>Avonmouth &amp; Lawrence Weston</td>\n",
       "      <td>Monday - Saturday 10:00 - 23:00  Sunday 12:00 ...</td>\n",
       "      <td>1</td>\n",
       "      <td>1</td>\n",
       "      <td>1</td>\n",
       "      <td>NaN</td>\n",
       "      <td>...</td>\n",
       "      <td>N</td>\n",
       "      <td>NaN</td>\n",
       "      <td>N</td>\n",
       "      <td>N</td>\n",
       "      <td>N</td>\n",
       "      <td>NaN</td>\n",
       "      <td>Y</td>\n",
       "      <td>Y</td>\n",
       "      <td>{\"type\": \"Point\", \"coordinates\": [-2.675368178...</td>\n",
       "      <td>51.4890035948, -2.67536817895</td>\n",
       "    </tr>\n",
       "  </tbody>\n",
       "</table>\n",
       "<p>5 rows × 23 columns</p>\n",
       "</div>"
      ],
      "text/plain": [
       "     OBJECTID                                               Name  \\\n",
       "102       641  Ambition Lawrence Weston, Lawrence Weston Yout...   \n",
       "103      1745                         Helios - Sea Mills Surgery   \n",
       "104      2417                                 Merrywood Practice   \n",
       "105        70                            Morrison's - Hartcliffe   \n",
       "106      5153                                      the Life Boat   \n",
       "\n",
       "                                        Address  Postcode  \\\n",
       "102   Lawrence Weston Road, Long Cross, Bristol  BS11 0RX   \n",
       "103                                2 Riverleaze   BS9 2HL   \n",
       "104            Knowle Health Park, Downton Road   BS4 1WH   \n",
       "105  Hareclive Rd, Petersons Avenue, Hartcliffe  BS14 0BE   \n",
       "106                         25 High St, Bristol  BS11 0DX   \n",
       "\n",
       "                            Ward  \\\n",
       "102  Avonmouth & Lawrence Weston   \n",
       "103                 Stoke Bishop   \n",
       "104                      Filwood   \n",
       "105       Hartcliffe & Withywood   \n",
       "106  Avonmouth & Lawrence Weston   \n",
       "\n",
       "                                  Toilet opening hours Male (no. of)  \\\n",
       "102  Monday to Friday 09:00-16:00 with ad-hoc addit...           NaN   \n",
       "103                          Monday-Friday 08:00-18:30             0   \n",
       "104                          08:30-18:30 Monday-Friday             2   \n",
       "105                                         7am - 10pm             2   \n",
       "106  Monday - Saturday 10:00 - 23:00  Sunday 12:00 ...             1   \n",
       "\n",
       "    Urinals (no. of) Female (no. of)  Unisex (no.of)  ...  \\\n",
       "102              NaN             NaN             NaN  ...   \n",
       "103                0               0             1.0  ...   \n",
       "104                0               2             0.0  ...   \n",
       "105                3               3             NaN  ...   \n",
       "106                1               1             NaN  ...   \n",
       "\n",
       "    Automatic opening door Pull cord monitored (Y/N/Times) Radar Key  \\\n",
       "102                    NaN                             NaN       NaN   \n",
       "103                      Y        yes during opening hours         N   \n",
       "104                      Y                             yes         N   \n",
       "105                    NaN             Y during open hours         N   \n",
       "106                      N                             NaN         N   \n",
       "\n",
       "    Baby change Family Toilet Automatic Public Convenience Attended  \\\n",
       "102         NaN           NaN                          NaN      NaN   \n",
       "103           Y             N                            N        Y   \n",
       "104           Y             N                            N      NaN   \n",
       "105           Y             N                            N        Y   \n",
       "106           N             N                          NaN        Y   \n",
       "\n",
       "    Full Time Staffing                                          geo_shape  \\\n",
       "102                NaN  {\"type\": \"Point\", \"coordinates\": [-2.653822353...   \n",
       "103                  Y  {\"type\": \"Point\", \"coordinates\": [-2.650086369...   \n",
       "104                  Y  {\"type\": \"Point\", \"coordinates\": [-2.596459550...   \n",
       "105                  Y  {\"type\": \"Point\", \"coordinates\": [-2.599634281...   \n",
       "106                  Y  {\"type\": \"Point\", \"coordinates\": [-2.675368178...   \n",
       "\n",
       "                      geo_point_2d  \n",
       "102  51.5049424918, -2.65382235353  \n",
       "103  51.4849119244, -2.65008636941  \n",
       "104  51.4280468206, -2.59645955096  \n",
       "105   51.405200404, -2.59963428185  \n",
       "106  51.4890035948, -2.67536817895  \n",
       "\n",
       "[5 rows x 23 columns]"
      ]
     },
     "execution_count": 10,
     "metadata": {},
     "output_type": "execute_result"
    }
   ],
   "source": [
    "toilet_data.tail()"
   ]
  },
  {
   "cell_type": "code",
   "execution_count": 11,
   "metadata": {},
   "outputs": [
    {
     "data": {
      "text/html": [
       "<div>\n",
       "<style scoped>\n",
       "    .dataframe tbody tr th:only-of-type {\n",
       "        vertical-align: middle;\n",
       "    }\n",
       "\n",
       "    .dataframe tbody tr th {\n",
       "        vertical-align: top;\n",
       "    }\n",
       "\n",
       "    .dataframe thead th {\n",
       "        text-align: right;\n",
       "    }\n",
       "</style>\n",
       "<table border=\"1\" class=\"dataframe\">\n",
       "  <thead>\n",
       "    <tr style=\"text-align: right;\">\n",
       "      <th></th>\n",
       "      <th>OBJECTID</th>\n",
       "      <th>Name</th>\n",
       "      <th>Address</th>\n",
       "      <th>Postcode</th>\n",
       "      <th>Ward</th>\n",
       "      <th>Toilet opening hours</th>\n",
       "      <th>Male (no. of)</th>\n",
       "      <th>Urinals (no. of)</th>\n",
       "      <th>Female (no. of)</th>\n",
       "      <th>Unisex (no.of)</th>\n",
       "      <th>...</th>\n",
       "      <th>Automatic opening door</th>\n",
       "      <th>Pull cord monitored (Y/N/Times)</th>\n",
       "      <th>Radar Key</th>\n",
       "      <th>Baby change</th>\n",
       "      <th>Family Toilet</th>\n",
       "      <th>Automatic Public Convenience</th>\n",
       "      <th>Attended</th>\n",
       "      <th>Full Time Staffing</th>\n",
       "      <th>geo_shape</th>\n",
       "      <th>geo_point_2d</th>\n",
       "    </tr>\n",
       "  </thead>\n",
       "  <tbody>\n",
       "    <tr>\n",
       "      <td>105</td>\n",
       "      <td>70</td>\n",
       "      <td>Morrison's - Hartcliffe</td>\n",
       "      <td>Hareclive Rd, Petersons Avenue, Hartcliffe</td>\n",
       "      <td>BS14 0BE</td>\n",
       "      <td>Hartcliffe &amp; Withywood</td>\n",
       "      <td>7am - 10pm</td>\n",
       "      <td>2</td>\n",
       "      <td>3</td>\n",
       "      <td>3</td>\n",
       "      <td>NaN</td>\n",
       "      <td>...</td>\n",
       "      <td>NaN</td>\n",
       "      <td>Y during open hours</td>\n",
       "      <td>N</td>\n",
       "      <td>Y</td>\n",
       "      <td>N</td>\n",
       "      <td>N</td>\n",
       "      <td>Y</td>\n",
       "      <td>Y</td>\n",
       "      <td>{\"type\": \"Point\", \"coordinates\": [-2.599634281...</td>\n",
       "      <td>51.405200404, -2.59963428185</td>\n",
       "    </tr>\n",
       "    <tr>\n",
       "      <td>106</td>\n",
       "      <td>5153</td>\n",
       "      <td>the Life Boat</td>\n",
       "      <td>25 High St, Bristol</td>\n",
       "      <td>BS11 0DX</td>\n",
       "      <td>Avonmouth &amp; Lawrence Weston</td>\n",
       "      <td>Monday - Saturday 10:00 - 23:00  Sunday 12:00 ...</td>\n",
       "      <td>1</td>\n",
       "      <td>1</td>\n",
       "      <td>1</td>\n",
       "      <td>NaN</td>\n",
       "      <td>...</td>\n",
       "      <td>N</td>\n",
       "      <td>NaN</td>\n",
       "      <td>N</td>\n",
       "      <td>N</td>\n",
       "      <td>N</td>\n",
       "      <td>NaN</td>\n",
       "      <td>Y</td>\n",
       "      <td>Y</td>\n",
       "      <td>{\"type\": \"Point\", \"coordinates\": [-2.675368178...</td>\n",
       "      <td>51.4890035948, -2.67536817895</td>\n",
       "    </tr>\n",
       "  </tbody>\n",
       "</table>\n",
       "<p>2 rows × 23 columns</p>\n",
       "</div>"
      ],
      "text/plain": [
       "     OBJECTID                     Name  \\\n",
       "105        70  Morrison's - Hartcliffe   \n",
       "106      5153            the Life Boat   \n",
       "\n",
       "                                        Address  Postcode  \\\n",
       "105  Hareclive Rd, Petersons Avenue, Hartcliffe  BS14 0BE   \n",
       "106                         25 High St, Bristol  BS11 0DX   \n",
       "\n",
       "                            Ward  \\\n",
       "105       Hartcliffe & Withywood   \n",
       "106  Avonmouth & Lawrence Weston   \n",
       "\n",
       "                                  Toilet opening hours Male (no. of)  \\\n",
       "105                                         7am - 10pm             2   \n",
       "106  Monday - Saturday 10:00 - 23:00  Sunday 12:00 ...             1   \n",
       "\n",
       "    Urinals (no. of) Female (no. of)  Unisex (no.of)  ...  \\\n",
       "105                3               3             NaN  ...   \n",
       "106                1               1             NaN  ...   \n",
       "\n",
       "    Automatic opening door Pull cord monitored (Y/N/Times) Radar Key  \\\n",
       "105                    NaN             Y during open hours         N   \n",
       "106                      N                             NaN         N   \n",
       "\n",
       "    Baby change Family Toilet Automatic Public Convenience Attended  \\\n",
       "105           Y             N                            N        Y   \n",
       "106           N             N                          NaN        Y   \n",
       "\n",
       "    Full Time Staffing                                          geo_shape  \\\n",
       "105                  Y  {\"type\": \"Point\", \"coordinates\": [-2.599634281...   \n",
       "106                  Y  {\"type\": \"Point\", \"coordinates\": [-2.675368178...   \n",
       "\n",
       "                      geo_point_2d  \n",
       "105   51.405200404, -2.59963428185  \n",
       "106  51.4890035948, -2.67536817895  \n",
       "\n",
       "[2 rows x 23 columns]"
      ]
     },
     "execution_count": 11,
     "metadata": {},
     "output_type": "execute_result"
    }
   ],
   "source": [
    "toilet_data.tail(2)"
   ]
  },
  {
   "cell_type": "markdown",
   "metadata": {},
   "source": [
    "##### We can see that there is an 'OBJECTID' which (from reading the documentation) I know is a unique identifier for each location.  Hence, it makes sense to use that as our row index - but first we need to check whether there are any duplicates in the column; if so, then it won't work as an index.  "
   ]
  },
  {
   "cell_type": "code",
   "execution_count": 12,
   "metadata": {},
   "outputs": [
    {
     "name": "stdout",
     "output_type": "stream",
     "text": [
      "False\n"
     ]
    }
   ],
   "source": [
    "test = toilet_data['OBJECTID'].duplicated().any() # returns True if any duplicates, False otherwise\n",
    "print(test)"
   ]
  },
  {
   "cell_type": "markdown",
   "metadata": {},
   "source": [
    "##### Good - now we can read in the DataFrame again, but using the first column as an index column:"
   ]
  },
  {
   "cell_type": "code",
   "execution_count": null,
   "metadata": {},
   "outputs": [],
   "source": [
    "toilet_data = pd.read_csv(input_file, index_col = [0]) # ie use first column as the index\n",
    "toilet_df = pd.DataFrame(toilet_data)\n",
    "toilet_df.head()"
   ]
  },
  {
   "cell_type": "markdown",
   "metadata": {},
   "source": [
    "##### That's all there is to it - the data is now in a DataFrame and ready to be examined.  Similarly, can easily read in from JSON or SQL databases (for those who are familiar with them)"
   ]
  },
  {
   "cell_type": "markdown",
   "metadata": {},
   "source": [
    "### Examining the data"
   ]
  },
  {
   "cell_type": "markdown",
   "metadata": {},
   "source": [
    "##### Looking at the first few rows wasn't very helpful - too much information so not nicely laid out.  First command that is normally run on a new dataset is .info()"
   ]
  },
  {
   "cell_type": "code",
   "execution_count": null,
   "metadata": {},
   "outputs": [],
   "source": [
    "toilet_df.info()"
   ]
  },
  {
   "cell_type": "markdown",
   "metadata": {},
   "source": [
    "### Cleaning and manipulating the data"
   ]
  },
  {
   "cell_type": "markdown",
   "metadata": {},
   "source": [
    "##### Let's assume that we want to look at the spread of publicly available toilets by post-code so we can see which areas need further work to encourage businesses to join the scheme.  We will want to know when the are open and whether there are both female and accessible toilets by postcode.  The steps we will follow are:\n",
    " - Remove columns that are clearly not necessary\n",
    " - Look more closely at the data to see if there is any clearly wrong or missing - decide what to do about it\n",
    " - Have a look at data by postcode\n",
    " - Save as a file so that hard work isn't lost!"
   ]
  },
  {
   "cell_type": "code",
   "execution_count": null,
   "metadata": {},
   "outputs": [],
   "source": [
    "# the drop() function can be used to drop a column\n",
    "\n",
    "df_rd = toilet_df.drop(\"Ward\", axis = 1) # axis = 1 means we are dropping column; use axis = 0 to drop rows\n",
    "df_rd.info()\n"
   ]
  },
  {
   "cell_type": "markdown",
   "metadata": {},
   "source": [
    "##### Good - \"ward\" is no longer appearing in our new dataframe.  However:\n",
    " - we'd really like to remove many columns at the same time, and\n",
    " - if we create a new dataframe every time we make a change then we will end up using lots of memory.  It would be better to change the existing dataframe - so long as recreating it isn't a problem in the event of mistakes!!"
   ]
  },
  {
   "cell_type": "code",
   "execution_count": null,
   "metadata": {},
   "outputs": [],
   "source": [
    "# We'll do both of these steps together\n",
    "# Put column headings in a list, and use inplace =True as an argument\n",
    "\n",
    "df_rd.drop([\"Changing Place\", \"Name\",\"Address\", \"Automatic opening door\", \"Pull cord monitored (Y/N/Times)\",\"Male (no. of)\",\n",
    "              \"Urinals (no. of)\",\"Radar Key\",\"Unisex (no.of)\",\"Accessibility info\",\n",
    "              \"Baby change\", \"Family Toilet\", \"Automatic Public Convenience\", \"Attended\", \"Full Time Staffing\", \n",
    "              \"geo_shape\", \"geo_point_2d\"], axis = 1, inplace = True)\n",
    "\n"
   ]
  },
  {
   "cell_type": "code",
   "execution_count": null,
   "metadata": {},
   "outputs": [],
   "source": [
    "# Let's look at the result\n",
    "df_rd"
   ]
  },
  {
   "cell_type": "markdown",
   "metadata": {},
   "source": [
    "##### I've been rather drastic - I might have wanted to look a bit more carefully at some of the columns before deleting them in real life, but it will do as an example.  \n",
    "#####  At this stage, I think I will save a copy so that if I stop work and pick it up again later, I don't have to re-run all the previous cells: it's not particularly an issue for this example, but it could be if you are looking at the Air Quality dataset which has several sensors sending hourly data for many years!"
   ]
  },
  {
   "cell_type": "code",
   "execution_count": null,
   "metadata": {},
   "outputs": [],
   "source": [
    "# Similar code to reading in the file\n",
    "import os\n",
    "\n",
    "output_file = os.path.join(os.path.abspath(''), 'datafiles', 'dataset_acc.csv')\n",
    "df_rd.to_csv(output_file)"
   ]
  },
  {
   "cell_type": "markdown",
   "metadata": {},
   "source": [
    "##### So now I'll re-import pandas library, so that if I want to pick up my work at a later stage, then I can start from here."
   ]
  },
  {
   "cell_type": "code",
   "execution_count": null,
   "metadata": {},
   "outputs": [],
   "source": [
    "import pandas as pd\n",
    "import os\n",
    "\n",
    "input_filev1 = os.path.join(os.path.abspath(''), 'datafiles', 'dataset_acc.csv')\n",
    "\n",
    "acc_data = pd.read_csv(input_filev1, index_col = [0])\n",
    "\n",
    "acc_data                         "
   ]
  },
  {
   "cell_type": "markdown",
   "metadata": {},
   "source": [
    "##### Let's have a look at some of the functions that are available in pandas"
   ]
  },
  {
   "cell_type": "code",
   "execution_count": null,
   "metadata": {},
   "outputs": [],
   "source": [
    "acc_data.describe()"
   ]
  },
  {
   "cell_type": "markdown",
   "metadata": {},
   "source": [
    "#####  top is the most frequent value in that column.  freq is the frequency with which the 'top' value appears (eg, 2 is that most frequent number of female toilets available and there are 19 locations with this number)"
   ]
  },
  {
   "cell_type": "markdown",
   "metadata": {},
   "source": [
    "##### However, I am a little surprised that more characteristics aren't shown as a result of the describe() function - I'd normally expect to see the mean, 25% percentile, min and max for numeric columns.However, I can see from the .info() output that some of the columns are of type 'object' and this is a sign that they contain mixed types, eg, integer and strings.  Let's have a closer look - first at the female column."
   ]
  },
  {
   "cell_type": "code",
   "execution_count": null,
   "metadata": {},
   "outputs": [],
   "source": [
    "acc_data.info() # as before"
   ]
  },
  {
   "cell_type": "code",
   "execution_count": null,
   "metadata": {},
   "outputs": [],
   "source": [
    "acc_data['Female (no. of)'].unique() # gives the number of unique values in the column (aka pandas Series)"
   ]
  },
  {
   "cell_type": "markdown",
   "metadata": {},
   "source": [
    "##### Even better, we can see the frequency with which each of these occur, as follows"
   ]
  },
  {
   "cell_type": "code",
   "execution_count": null,
   "metadata": {},
   "outputs": [],
   "source": [
    "acc_data['Female (no. of)'].value_counts() # gives the frequency of each value"
   ]
  },
  {
   "cell_type": "code",
   "execution_count": null,
   "metadata": {},
   "outputs": [],
   "source": [
    "acc_data.isna().sum() # gives the total instances of either blank, None or NaN"
   ]
  },
  {
   "cell_type": "markdown",
   "metadata": {},
   "source": [
    "##### So, putting these together I can deduce that for the Female Column:\n",
    "- there are 107 rows, of which 25 are either blank or NaN, and 87 have values\n",
    "- there is 1 value each for 'No' and 'Yes'\n",
    "- the values are actually being held as strings (presumably why the .describe() function didn't return a wealth of information!\n",
    "\n",
    "##### First we'll get rid of the NaN: we don't know why they are NaN as we don't know about the source of the data I'd probably want to either do more digging or, if that wasn't possible, leave them as NaN.  However, in the interests of showing some functionality of pandas, I'll replace them all with 99.  "
   ]
  },
  {
   "cell_type": "code",
   "execution_count": null,
   "metadata": {},
   "outputs": [],
   "source": [
    "acc_data['Female (no. of)'].fillna(99, inplace = True) # Fills all NaN & blanks with 99.\n",
    "\n",
    "acc_data # Let's have a look and see if the NaN has gone"
   ]
  },
  {
   "cell_type": "markdown",
   "metadata": {},
   "source": [
    "##### OK - looks promising.  Let's just double check by looking at the number of NaNs and the frequency with which values appear"
   ]
  },
  {
   "cell_type": "code",
   "execution_count": null,
   "metadata": {},
   "outputs": [],
   "source": [
    "acc_data.isna().sum()"
   ]
  },
  {
   "cell_type": "code",
   "execution_count": null,
   "metadata": {},
   "outputs": [],
   "source": [
    "acc_data['Female (no. of)'].value_counts() "
   ]
  },
  {
   "cell_type": "markdown",
   "metadata": {},
   "source": [
    "##### Now let's address the 'Yes' and 'No' and the fact that the apparent integers are actually strings - all in one step.\n",
    "##### The .map(XYZ) function applies whatever is defined by XYZ to every value in a panda series.  Let's use this to convert all 'yes' and 'no's.  We won't do it inplace this time as it's quite a drastic change to make and it might go wrong and spoil the existing DataFrame, so let's create another column to capture te output."
   ]
  },
  {
   "cell_type": "code",
   "execution_count": null,
   "metadata": {},
   "outputs": [],
   "source": [
    "def yes_no(x):\n",
    "    if x == 'Yes':\n",
    "        x = 1\n",
    "    elif x == 'No':\n",
    "        x = 0\n",
    "    elif type(x) == str:\n",
    "        x = int(x)\n",
    "    return x\n",
    "\n",
    "acc_data['Female'] = acc_data['Female (no. of)'].map(yes_no) # changes yes to 1 and no to 0.  "
   ]
  },
  {
   "cell_type": "code",
   "execution_count": null,
   "metadata": {},
   "outputs": [],
   "source": [
    "\n",
    "acc_data['Female'].value_counts() # now let's check by looking at the frequency"
   ]
  },
  {
   "cell_type": "markdown",
   "metadata": {},
   "source": [
    "##### Looks good.  Now let's look at the DataFrame and the .describe() function to see if the results are any different."
   ]
  },
  {
   "cell_type": "code",
   "execution_count": null,
   "metadata": {},
   "outputs": [],
   "source": [
    "acc_data"
   ]
  },
  {
   "cell_type": "code",
   "execution_count": null,
   "metadata": {},
   "outputs": [],
   "source": [
    "acc_data.describe()"
   ]
  },
  {
   "cell_type": "markdown",
   "metadata": {},
   "source": [
    "##### Better (don't forget that there are 25 values of 99, which is purely illustrative data)."
   ]
  },
  {
   "cell_type": "markdown",
   "metadata": {},
   "source": [
    "##### So, now we can get rid of the Female (no. of) column, as follows:"
   ]
  },
  {
   "cell_type": "code",
   "execution_count": null,
   "metadata": {},
   "outputs": [],
   "source": [
    "acc_data.drop('Female (no. of)', axis = 1, inplace = True)"
   ]
  },
  {
   "cell_type": "markdown",
   "metadata": {},
   "source": [
    "##### Now we need to do the same for the information on Accessible toilets.  We already know that there are no blanks, so we just need to see how many  Yes and No's there are"
   ]
  },
  {
   "cell_type": "code",
   "execution_count": null,
   "metadata": {},
   "outputs": [],
   "source": [
    "acc_data['Accessible (no. of)'].value_counts()"
   ]
  },
  {
   "cell_type": "code",
   "execution_count": null,
   "metadata": {},
   "outputs": [],
   "source": [
    "# A few small differences to the previous map() function, but very similar\n",
    "def yes(x):\n",
    "    if x.lower() == 'yes':\n",
    "        x = 1\n",
    "    elif type(x) == str:\n",
    "        x = int(x)\n",
    "    return x\n",
    "\n",
    "acc_data['Acc'] = acc_data['Accessible (no. of)'].map(yes) # changes yes to 1 and no to 0.  "
   ]
  },
  {
   "cell_type": "code",
   "execution_count": null,
   "metadata": {},
   "outputs": [],
   "source": [
    "acc_data['Acc'].value_counts()"
   ]
  },
  {
   "cell_type": "code",
   "execution_count": null,
   "metadata": {},
   "outputs": [],
   "source": [
    "# Just give the DataFrame a once-over before deleting the redundant column\n",
    "acc_data"
   ]
  },
  {
   "cell_type": "code",
   "execution_count": null,
   "metadata": {},
   "outputs": [],
   "source": [
    "acc_data.drop('Accessible (no. of)', axis = 1, inplace = True)"
   ]
  },
  {
   "cell_type": "code",
   "execution_count": null,
   "metadata": {},
   "outputs": [],
   "source": [
    "acc_data.describe()"
   ]
  },
  {
   "cell_type": "markdown",
   "metadata": {},
   "source": [
    "### Grouping"
   ]
  },
  {
   "cell_type": "markdown",
   "metadata": {},
   "source": [
    "##### Finally, let's look at 'groupby' - the ability to take combinations of rows or columns if it helps with analysis.  For example, a company might have a number of transactions for each customer, and they all need to be added together to look at the total sales distribution by customer\n",
    "##### In this case we want to see how the toilets are distributed around the city so grouping by Postcode seems sensible - though probably only based on the first 3 or 4 digits.  It will be easier to remove the last 3 digits of the postcode rather than select the first 3 or 4 digits.  Remember slicing of strings?"
   ]
  },
  {
   "cell_type": "code",
   "execution_count": null,
   "metadata": {},
   "outputs": [],
   "source": [
    "def last_three(string):\n",
    "    return string[:-4] # note that I've removed 4 characters so that the whitespace is removed as well\n",
    "\n",
    "acc_data['postcode_v1'] = acc_data['Postcode'].map(last_three)\n",
    "acc_data"
   ]
  },
  {
   "cell_type": "code",
   "execution_count": null,
   "metadata": {},
   "outputs": [],
   "source": [
    "grouped = acc_data.groupby(['postcode_v1']).sum()\n",
    "grouped"
   ]
  },
  {
   "cell_type": "markdown",
   "metadata": {},
   "source": [
    "###### So the Female column doesn't look particularly sensible because we used 99 instead of blanks - you can improve on this in the exercises.  You would also want to carry out some sanity checking on the result to make sure that things like count, sum, mean etc are consistent with the original data, ie the code hasn't gone wrong somewhere!"
   ]
  },
  {
   "cell_type": "code",
   "execution_count": null,
   "metadata": {},
   "outputs": [],
   "source": []
  }
 ],
 "metadata": {
  "kernelspec": {
   "display_name": "Python 3",
   "language": "python",
   "name": "python3"
  },
  "language_info": {
   "codemirror_mode": {
    "name": "ipython",
    "version": 3
   },
   "file_extension": ".py",
   "mimetype": "text/x-python",
   "name": "python",
   "nbconvert_exporter": "python",
   "pygments_lexer": "ipython3",
   "version": "3.7.4"
  }
 },
 "nbformat": 4,
 "nbformat_minor": 2
}
