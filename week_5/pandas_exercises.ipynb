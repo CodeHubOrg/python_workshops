{
 "cells": [
  {
   "cell_type": "markdown",
   "metadata": {},
   "source": [
    "### Exercises using Pandas"
   ]
  },
  {
   "cell_type": "markdown",
   "metadata": {},
   "source": [
    "### Further investigation of community toilet provision"
   ]
  },
  {
   "cell_type": "markdown",
   "metadata": {},
   "source": [
    " Revisit the example given in the tutorial and use a solution that is better than '99' for the NaNs.  Decide, in principle, how you think that wrong/missing values should be treated, e.g., drop the rows altogether, use the mean of all other values, assume the same as male etc. \n",
    " \n",
    "Pick two methods - one which is the easiest from a Pandas perspective and one which, in your view, would give the most appropriate result.  Work through both methods and then compare the results."
   ]
  },
  {
   "cell_type": "code",
   "execution_count": null,
   "metadata": {},
   "outputs": [],
   "source": [
    "# Your code here:\n",
    "\n"
   ]
  },
  {
   "cell_type": "markdown",
   "metadata": {},
   "source": [
    "### Mortgage lending company - applicants' data"
   ]
  },
  {
   "cell_type": "markdown",
   "metadata": {},
   "source": [
    "There is another dataset in the /datafile directory, called 'homes.csv'.  It contains data about potential buyers' income levels, credit rating, type of employment etc - the first step is to become familiar with the data.  Carry out the following steps to examine the data.\n",
    " - print out the first 5 rows\n",
    " - print out the last 5 rows\n",
    " - how many rows are in the dataset\n",
    " - how many columns are in the datset and what are the titles"
   ]
  },
  {
   "cell_type": "code",
   "execution_count": null,
   "metadata": {},
   "outputs": [],
   "source": [
    "# Your code here:\n"
   ]
  },
  {
   "cell_type": "markdown",
   "metadata": {},
   "source": [
    "Hopefully, the above steps have given you a broad feel for whar sort of information is present in the dataset.  Now let's be a bit more quantitative about it and investigate:\n",
    " - get some basic statistics (eg mean, 25th percentile etc) on each of the numeric columns\n",
    " - find the range of values present for each of the non-numeric columns"
   ]
  },
  {
   "cell_type": "code",
   "execution_count": null,
   "metadata": {},
   "outputs": [],
   "source": [
    "# Your code here:\n"
   ]
  },
  {
   "cell_type": "markdown",
   "metadata": {},
   "source": [
    "So now let's see what we might be able to learn from the data.  Investigate the following:\n",
    " - how does the averyage loan amount vary by the property area (hint: use grouping on Property_Area)?\n",
    " - does the type of Education appear to be correlated with whether a loan is granted?\n",
    " - do loans tend to get granted more to males or to females?"
   ]
  },
  {
   "cell_type": "code",
   "execution_count": null,
   "metadata": {},
   "outputs": [],
   "source": [
    "# Your code here:\n"
   ]
  },
  {
   "cell_type": "markdown",
   "metadata": {},
   "source": [
    "There are many more investigations that could be carried out on the data looking at correlations (possible causations!?).  Make your own list of hypotheses that you might have about the data - and then see if you can test them out"
   ]
  },
  {
   "cell_type": "markdown",
   "metadata": {},
   "source": [
    "Your hypotheses here:\n"
   ]
  },
  {
   "cell_type": "code",
   "execution_count": null,
   "metadata": {},
   "outputs": [],
   "source": [
    "# Your code here:\n"
   ]
  }
 ],
 "metadata": {
  "kernelspec": {
   "display_name": "Python 3",
   "language": "python",
   "name": "python3"
  },
  "language_info": {
   "codemirror_mode": {
    "name": "ipython",
    "version": 3
   },
   "file_extension": ".py",
   "mimetype": "text/x-python",
   "name": "python",
   "nbconvert_exporter": "python",
   "pygments_lexer": "ipython3",
   "version": "3.7.4"
  }
 },
 "nbformat": 4,
 "nbformat_minor": 2
}
