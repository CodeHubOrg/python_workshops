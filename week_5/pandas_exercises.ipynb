{
 "cells": [
  {
   "cell_type": "markdown",
   "metadata": {},
   "source": [
    "### Exercises using Pandas"
   ]
  },
  {
   "cell_type": "markdown",
   "metadata": {},
   "source": [
    "### Further investigation of community toilet provision"
   ]
  },
  {
   "cell_type": "markdown",
   "metadata": {},
   "source": [
    "Revisit the example given in the tutorial and use a solution that is better than '99' for replacing the NaNs.  Decide, in principle, how you think wrong/missing values should be treated, e.g., drop the rows altogether, use the mean of all other values, assume the same values as for male toilets etc. \n",
    " \n",
    "Pick two methods - one which is the easiest from a Pandas perspective and one which, in your view, would give the most appropriate result. Work through both methods and compare the results."
   ]
  },
  {
   "cell_type": "code",
   "execution_count": 1,
   "metadata": {},
   "outputs": [],
   "source": [
    "# Your code here:\n",
    "\n"
   ]
  },
  {
   "cell_type": "markdown",
   "metadata": {},
   "source": [
    "### Mortgage lending company - applicants' data"
   ]
  },
  {
   "cell_type": "markdown",
   "metadata": {},
   "source": [
    "There is another dataset in the */datafiles* directory, called *'homes.csv'*. It contains data about potential buyers' income levels, credit rating, type of employment etc. "
   ]
  },
  {
   "cell_type": "markdown",
   "metadata": {},
   "source": [
    "The first step is to become familiar with the data. To do this, print out:\n",
    " - the first 5 rows\n",
    " - the last 5 rows\n",
    " - the number of rows \n",
    " - the number of columns and their names"
   ]
  },
  {
   "cell_type": "code",
   "execution_count": 2,
   "metadata": {},
   "outputs": [],
   "source": [
    "# Your code here:\n"
   ]
  },
  {
   "cell_type": "markdown",
   "metadata": {},
   "source": [
    "Hopefully, the above steps have given you an idea about the sort of information in the dataset. "
   ]
  },
  {
   "cell_type": "markdown",
   "metadata": {},
   "source": [
    "Now let's try to extract more detailed information about it and print out:\n",
    " - some basic statistics (e.g., mean, 25th percentile etc.) on each of the numeric columns\n",
    " - the range of values present for each of the non-numeric columns"
   ]
  },
  {
   "cell_type": "code",
   "execution_count": 3,
   "metadata": {},
   "outputs": [],
   "source": [
    "# Your code here:\n"
   ]
  },
  {
   "cell_type": "markdown",
   "metadata": {},
   "source": [
    "Let's see what else we might be able to learn from the data. Investigate the following:\n",
    " - how does the average loan amount vary by the property area: (hint: use grouping on *Property_Area*)\n",
    " - does the type of Education appear to be correlated with the success of a loan being granted?\n",
    " - do loans tend to get granted more often to males than to females?"
   ]
  },
  {
   "cell_type": "code",
   "execution_count": 4,
   "metadata": {},
   "outputs": [],
   "source": [
    "# Your code here:\n"
   ]
  },
  {
   "cell_type": "markdown",
   "metadata": {},
   "source": [
    "There are many more investigations that could be carried out on the data looking at correlations (possible causations!?).  Make your own list of hypotheses that you might have about the data - and then see if you can test them out."
   ]
  },
  {
   "cell_type": "markdown",
   "metadata": {},
   "source": [
    "Your hypotheses here:\n"
   ]
  },
  {
   "cell_type": "code",
   "execution_count": 5,
   "metadata": {},
   "outputs": [],
   "source": [
    "# Your code here:\n"
   ]
  }
 ],
 "metadata": {
  "kernelspec": {
   "display_name": "Python 3",
   "language": "python",
   "name": "python3"
  },
  "language_info": {
   "codemirror_mode": {
    "name": "ipython",
    "version": 3
   },
   "file_extension": ".py",
   "mimetype": "text/x-python",
   "name": "python",
   "nbconvert_exporter": "python",
   "pygments_lexer": "ipython3",
   "version": "3.7.4"
  }
 },
 "nbformat": 4,
 "nbformat_minor": 2
}
