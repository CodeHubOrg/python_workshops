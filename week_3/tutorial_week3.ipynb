{
 "cells": [
  {
   "cell_type": "markdown",
   "metadata": {},
   "source": [
    "## IMPORTANT INFO\n",
    "<br>\n",
    "Note that you can find all the workshop materials under the following link, each session being marked as \"week_x\":\n",
    "<br>\n",
    "<br>\n",
    "&nbsp;&nbsp;&nbsp;&nbsp;&nbsp;&nbsp;&nbsp;&nbsp;&nbsp;&nbsp;&nbsp;&nbsp;[https://github.com/CodeHubOrg/python_workshops](https://github.com/CodeHubOrg/python_workshops)\n",
    "<br>\n",
    "<br>\n",
    "Download the data files by clicking on the 'Clone or download' green button, choose 'Download ZIP', then unzip from your downloads folder. We will update the material before each session."
   ]
  },
  {
   "cell_type": "markdown",
   "metadata": {},
   "source": [
    "## 'Simple' looping through a list"
   ]
  },
  {
   "cell_type": "code",
   "execution_count": null,
   "metadata": {},
   "outputs": [],
   "source": [
    "# Remember lists?\n",
    "wines = ['chianti', 'merlot', 'pinot noir', 'bordeaux']\n",
    "for wine in wines:\n",
    "    print(wine)"
   ]
  },
  {
   "cell_type": "markdown",
   "metadata": {},
   "source": [
    "#### Points to note:  \n",
    "* wine takes on a different value for each loop\n",
    "* colon after the 'for statement' - often forgotten at first!\n",
    "* indent is *really* important: use 4 spaces, rather than tab if not using Jupyter Notebooks\n",
    "* it is common to use singular for the variable name and plural for the list name, but any names are possible, eg"
   ]
  },
  {
   "cell_type": "code",
   "execution_count": null,
   "metadata": {},
   "outputs": [],
   "source": [
    "wines = ['chianti', 'merlot', 'pinot noir', 'bordeaux']\n",
    "for i in wines:\n",
    "    print(i)"
   ]
  },
  {
   "cell_type": "markdown",
   "metadata": {},
   "source": [
    "#### The code in each loop can be as simple, or as complicated, as you want"
   ]
  },
  {
   "cell_type": "code",
   "execution_count": null,
   "metadata": {},
   "outputs": [],
   "source": [
    "# Let's print something a bit longer\n",
    "wines = ['chianti', 'merlot', 'pinot noir', 'bordeaux']\n",
    "for glass in wines:\n",
    "    print('I would like a glass of',glass)"
   ]
  },
  {
   "cell_type": "code",
   "execution_count": null,
   "metadata": {},
   "outputs": [],
   "source": [
    "# ...and a bit more complicated\n",
    "wines = ['chianti', 'merlot', 'pinot noir', 'bordeaux']\n",
    "for glass in wines:\n",
    "    print('I would like a glass of',glass)\n",
    "    print('The number of letters in', glass, 'is', len(glass))"
   ]
  },
  {
   "cell_type": "markdown",
   "metadata": {},
   "source": [
    "#### After the for loop, the programme just continues "
   ]
  },
  {
   "cell_type": "code",
   "execution_count": null,
   "metadata": {},
   "outputs": [],
   "source": [
    "wines = ['chianti', 'merlot', 'pinot noir', 'bordeaux']\n",
    "for glass in wines:\n",
    "    print('I would like a glass of',glass)\n",
    "print(\"I'm feeling a bit drunk\")"
   ]
  },
  {
   "cell_type": "markdown",
   "metadata": {},
   "source": [
    "## Using the range() function"
   ]
  },
  {
   "cell_type": "markdown",
   "metadata": {},
   "source": [
    "##### range() is a very useful was of creating a list of numbers"
   ]
  },
  {
   "cell_type": "code",
   "execution_count": null,
   "metadata": {},
   "outputs": [],
   "source": [
    "list_of_numbers = list(range(1, 6))\n",
    "print(list_of_numbers)"
   ]
  },
  {
   "cell_type": "markdown",
   "metadata": {},
   "source": [
    "##### Points to note:\n",
    "* If no starting point is defined, then '0' will be used by default\n",
    "* Can also specify the spacing between numbers in a list"
   ]
  },
  {
   "cell_type": "code",
   "execution_count": null,
   "metadata": {},
   "outputs": [],
   "source": [
    "list_of_numbers = list(range(2, 10, 3))\n",
    "print((list_of_numbers))"
   ]
  },
  {
   "cell_type": "markdown",
   "metadata": {},
   "source": [
    "##### Other useful functions on lists of numbers:\n",
    "* min()\n",
    "* max()\n",
    "* sum()\n",
    "* len()"
   ]
  },
  {
   "cell_type": "code",
   "execution_count": null,
   "metadata": {},
   "outputs": [],
   "source": [
    "# For example:\n",
    "print(min(list_of_numbers))"
   ]
  },
  {
   "cell_type": "markdown",
   "metadata": {},
   "source": [
    "## Conditionals: if, elif and else statements"
   ]
  },
  {
   "cell_type": "markdown",
   "metadata": {},
   "source": [
    "##### The concept of a conditional is well known, if it is raining I will take an umbrella.  In python:"
   ]
  },
  {
   "cell_type": "code",
   "execution_count": null,
   "metadata": {},
   "outputs": [],
   "source": [
    "weather = \"rain\"\n",
    "\n",
    "if weather == \"rain\":\n",
    "    print(\"I need to take my umbrella\")\n",
    "else:\n",
    "    print(\"I'll leave my umbrella at home\")"
   ]
  },
  {
   "cell_type": "markdown",
   "metadata": {},
   "source": [
    "##### The == phrase is a test for equality ('equality operator').  It's very common - also a common source of mistakes!\n",
    "##### Things to be careful with:\n",
    "* == not =\n",
    "* colons\n",
    "* 4 space indent\n",
    "* capitals matter\n",
    "##### Let's play to see what happens when these go wrong:"
   ]
  },
  {
   "cell_type": "code",
   "execution_count": null,
   "metadata": {},
   "outputs": [],
   "source": [
    "weather = \"cold\"\n",
    "\n",
    "if weather == \"cold\":\n",
    "    print(\"I need to take my coat\")\n",
    "else:\n",
    "    print(\"I'll leave my coat at home\")"
   ]
  },
  {
   "cell_type": "markdown",
   "metadata": {},
   "source": [
    "##### What about numerical tests - much the same, but now we can compare numbers for greater or smaller as well as equality:"
   ]
  },
  {
   "cell_type": "code",
   "execution_count": null,
   "metadata": {},
   "outputs": [],
   "source": [
    "temp = 11\n",
    "\n",
    "if temp <= 10:\n",
    "    print(\"I need to take my coat\")\n",
    "else:\n",
    "    print(\"I'll leave my coat at home\")"
   ]
  },
  {
   "cell_type": "markdown",
   "metadata": {},
   "source": [
    "##### What if there are several options?"
   ]
  },
  {
   "cell_type": "code",
   "execution_count": null,
   "metadata": {},
   "outputs": [],
   "source": [
    "temp = 4\n",
    "\n",
    "if temp <= 5:\n",
    "    print(\"I need to take my duffle coat\")\n",
    "elif temp <= 12:\n",
    "    print(\"I need to take my jacket\")\n",
    "else:\n",
    "    print(\"I'll leave all coats at home\")"
   ]
  },
  {
   "cell_type": "markdown",
   "metadata": {},
   "source": [
    "##### Testing if something is in a list, eg names, destinations, "
   ]
  },
  {
   "cell_type": "code",
   "execution_count": null,
   "metadata": {},
   "outputs": [],
   "source": [
    "cars = ['bmw', 'ford', 'tesla', 'renault']\n",
    "\n",
    "sample = 'bmw'\n",
    "\n",
    "if sample in cars:\n",
    "    print(sample, 'is in my list of cars')\n",
    "else:\n",
    "    print(sample, 'does not appear in my list of cars')"
   ]
  },
  {
   "cell_type": "markdown",
   "metadata": {},
   "source": [
    "##### Sometimes it is convenient to ignore upper/lower case differences, eg a user may have entered a wrongly-capitalised item.  There are many\n",
    "##### ways of addressing this, eg ensure the list is all lower case and then convert any tests to lower case:"
   ]
  },
  {
   "cell_type": "code",
   "execution_count": null,
   "metadata": {},
   "outputs": [],
   "source": [
    "cars = ['bmw', 'ford', 'tesla', 'renault']\n",
    "\n",
    "sample = 'Bmw'\n",
    "\n",
    "if sample.lower() in cars:\n",
    "    print(sample, 'is in my list of cars')\n",
    "else:\n",
    "    print(sample, 'does not appear in my list of cars')"
   ]
  },
  {
   "cell_type": "markdown",
   "metadata": {},
   "source": [
    "### Checking whether a list is empty"
   ]
  },
  {
   "cell_type": "markdown",
   "metadata": {},
   "source": [
    "##### Typically, the data and information you are working with has not been created by you - it may be generated by another part of the programme, provided by a user, extracted from the web etc.  In such cases, you will find it useful to check whether there is something in the list before using it - there might be an error"
   ]
  },
  {
   "cell_type": "code",
   "execution_count": 3,
   "metadata": {},
   "outputs": [
    {
     "name": "stdout",
     "output_type": "stream",
     "text": [
      "bmw\n",
      "ford\n",
      "tesla\n",
      "renault\n"
     ]
    }
   ],
   "source": [
    "cars = ['bmw', 'ford', 'tesla', 'renault']\n",
    "\n",
    "if cars:\n",
    "    for car in cars:\n",
    "        print(car)\n",
    "else:\n",
    "    print('There are no cars in the list; is this correct?')"
   ]
  },
  {
   "cell_type": "markdown",
   "metadata": {},
   "source": [
    "### Boolean expressions: expressions which are either True or False"
   ]
  },
  {
   "cell_type": "markdown",
   "metadata": {},
   "source": [
    "##### Boolean expressions (or Boolean types) is a term which you may read about - effectively, the code above is already using them implicitly.\n",
    "##### If (expression is True do X) else (do Y)"
   ]
  },
  {
   "cell_type": "code",
   "execution_count": null,
   "metadata": {},
   "outputs": [],
   "source": []
  }
 ],
 "metadata": {
  "kernelspec": {
   "display_name": "Python 3",
   "language": "python",
   "name": "python3"
  },
  "language_info": {
   "codemirror_mode": {
    "name": "ipython",
    "version": 3
   },
   "file_extension": ".py",
   "mimetype": "text/x-python",
   "name": "python",
   "nbconvert_exporter": "python",
   "pygments_lexer": "ipython3",
   "version": "3.7.4"
  }
 },
 "nbformat": 4,
 "nbformat_minor": 2
}
