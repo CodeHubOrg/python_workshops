{
 "cells": [
  {
   "cell_type": "markdown",
   "metadata": {},
   "source": [
    "## IMPORTANT INFO\n",
    "<br>\n",
    "Note that you can find all the workshop materials under the following link, each session being marked as \"week_x\":\n",
    "<br>\n",
    "<br>\n",
    "&nbsp;&nbsp;&nbsp;&nbsp;&nbsp;&nbsp;&nbsp;&nbsp;&nbsp;&nbsp;&nbsp;&nbsp;[https://github.com/CodeHubOrg/python_workshops](https://github.com/CodeHubOrg/python_workshops)\n",
    "<br>\n",
    "<br>\n",
    "Download the data files by clicking on the 'Clone or download' green button, choose 'Download ZIP', then unzip from your downloads folder. We will update the material before each session."
   ]
  },
  {
   "cell_type": "markdown",
   "metadata": {},
   "source": [
    "## 'Simple' looping through a list"
   ]
  },
  {
   "cell_type": "code",
   "execution_count": null,
   "metadata": {},
   "outputs": [],
   "source": [
    "# Remember lists?\n",
    "wines = ['chianti', 'merlot', 'pinot noir', 'bordeaux']\n",
    "for wine in wines:\n",
    "    print(wine)"
   ]
  },
  {
   "cell_type": "markdown",
   "metadata": {},
   "source": [
    "#### Points to note:  \n",
    "* wine takes on a different value for each loop\n",
    "* colon after the 'for statement' - often forgotten at first!\n",
    "* indent is *really* important: use 4 spaces, rather than tab if not using Jupyter Notebooks\n",
    "* it is common to use singular for the variable name and plural for the list name, but any names are possible, eg"
   ]
  },
  {
   "cell_type": "code",
   "execution_count": null,
   "metadata": {},
   "outputs": [],
   "source": [
    "wines = ['chianti', 'merlot', 'pinot noir', 'bordeaux']\n",
    "for i in wines:\n",
    "    print(i)"
   ]
  },
  {
   "cell_type": "markdown",
   "metadata": {},
   "source": [
    "#### The code in each loop can be as simple, or as complicated, as you want"
   ]
  },
  {
   "cell_type": "code",
   "execution_count": null,
   "metadata": {},
   "outputs": [],
   "source": [
    "# Let's print something a bit longer\n",
    "wines = ['chianti', 'merlot', 'pinot noir', 'bordeaux']\n",
    "for glass in wines:\n",
    "    print('I would like a glass of',glass)"
   ]
  },
  {
   "cell_type": "code",
   "execution_count": null,
   "metadata": {},
   "outputs": [],
   "source": [
    "# ...and a bit more complicated\n",
    "wines = ['chianti', 'merlot', 'pinot noir', 'bordeaux']\n",
    "for glass in wines:\n",
    "    print('I would like a glass of',glass)\n",
    "    print('The number of letters in', glass, 'is', len(glass))"
   ]
  },
  {
   "cell_type": "markdown",
   "metadata": {},
   "source": [
    "#### After the for loop, the programme just continues "
   ]
  },
  {
   "cell_type": "code",
   "execution_count": null,
   "metadata": {},
   "outputs": [],
   "source": [
    "wines = ['chianti', 'merlot', 'pinot noir', 'bordeaux']\n",
    "for glass in wines:\n",
    "    print('I would like a glass of',glass)\n",
    "print(\"I'm feeling a bit drunk\")"
   ]
  },
  {
   "cell_type": "markdown",
   "metadata": {},
   "source": [
    "## Using the range() function"
   ]
  },
  {
   "cell_type": "markdown",
   "metadata": {},
   "source": [
    "##### range() is a very useful was of creating a list of numbers"
   ]
  },
  {
   "cell_type": "code",
   "execution_count": null,
   "metadata": {},
   "outputs": [],
   "source": [
    "list_of_numbers = list(range(1, 6))\n",
    "print(list_of_numbers)"
   ]
  },
  {
   "cell_type": "markdown",
   "metadata": {},
   "source": [
    "##### Points to note:\n",
    "* If no starting point is defined, then '0' will be used by default\n",
    "* Can also specify the spacing between numbers in a list"
   ]
  },
  {
   "cell_type": "code",
   "execution_count": null,
   "metadata": {},
   "outputs": [],
   "source": [
    "list_of_numbers = list(range(2, 10, 3))\n",
    "print((list_of_numbers))"
   ]
  },
  {
   "cell_type": "markdown",
   "metadata": {},
   "source": [
    "##### Other useful functions on lists of numbers:\n",
    "* min()\n",
    "* max()\n",
    "* sum()\n",
    "* len()"
   ]
  },
  {
   "cell_type": "code",
   "execution_count": null,
   "metadata": {},
   "outputs": [],
   "source": [
    "# For example:\n",
    "print(min(list_of_numbers))"
   ]
  },
  {
   "cell_type": "code",
   "execution_count": null,
   "metadata": {},
   "outputs": [],
   "source": []
  }
 ],
 "metadata": {
  "kernelspec": {
   "display_name": "Python 3",
   "language": "python",
   "name": "python3"
  },
  "language_info": {
   "codemirror_mode": {
    "name": "ipython",
    "version": 3
   },
   "file_extension": ".py",
   "mimetype": "text/x-python",
   "name": "python",
   "nbconvert_exporter": "python",
   "pygments_lexer": "ipython3",
   "version": "3.7.4"
  }
 },
 "nbformat": 4,
 "nbformat_minor": 2
}
