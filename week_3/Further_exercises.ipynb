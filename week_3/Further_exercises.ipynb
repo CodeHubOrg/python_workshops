{
 "cells": [
  {
   "cell_type": "markdown",
   "metadata": {},
   "source": [
    "## More challenging exercises"
   ]
  },
  {
   "cell_type": "markdown",
   "metadata": {},
   "source": [
    "##### We can convert Centigrade to Farenheit by multiplying temp in C by (9 / 5) and then adding 32.  For example, 37 C = 37 * 9 / 5 + 32 = 98.6 F.   \n",
    "##### Create a list of numbers which represent temperatures in Centigrade.  Then for each temperature, convert it to Farenheit and print out the result, such as 'The temperature 37 C is 98.6 in Farenheit'"
   ]
  },
  {
   "cell_type": "code",
   "execution_count": null,
   "metadata": {},
   "outputs": [],
   "source": [
    "# Your code in this cell:\n"
   ]
  },
  {
   "cell_type": "markdown",
   "metadata": {},
   "source": [
    "##### Create a list of numbers using the range function - any length or spacing - and print it out.  \n",
    "##### Can you calculate the sum of the numbers in your list, without using the sum() function?  (Hint: create a variable with a value of zero, then use a for loop to step through each number in your list, adding it onto the variable in turn (ie 'accumulate').\n",
    "##### Finally, check your result with the sum() function"
   ]
  },
  {
   "cell_type": "code",
   "execution_count": null,
   "metadata": {},
   "outputs": [],
   "source": []
  }
 ],
 "metadata": {
  "kernelspec": {
   "display_name": "Python 3",
   "language": "python",
   "name": "python3"
  },
  "language_info": {
   "codemirror_mode": {
    "name": "ipython",
    "version": 3
   },
   "file_extension": ".py",
   "mimetype": "text/x-python",
   "name": "python",
   "nbconvert_exporter": "python",
   "pygments_lexer": "ipython3",
   "version": "3.7.4"
  }
 },
 "nbformat": 4,
 "nbformat_minor": 2
}
