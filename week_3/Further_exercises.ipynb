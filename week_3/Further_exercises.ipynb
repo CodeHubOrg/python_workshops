{
 "cells": [
  {
   "cell_type": "markdown",
   "metadata": {},
   "source": [
    "## More challenging exercises"
   ]
  },
  {
   "cell_type": "markdown",
   "metadata": {},
   "source": [
    "##### We can convert Centigrade to Farenheit by multiplying temp in C by (9 / 5) and then adding 32.  For example, 37 C = 37 * 9 / 5 + 32 = 98.6 F.   \n",
    "##### Create a list of numbers which represent temperatures in Centigrade.  Then for each temperature, convert it to Farenheit and print out the result, such as 'The temperature 37 C is 98.6 in Farenheit'"
   ]
  },
  {
   "cell_type": "code",
   "execution_count": null,
   "metadata": {},
   "outputs": [],
   "source": [
    "# Your code in this cell:\n"
   ]
  },
  {
   "cell_type": "markdown",
   "metadata": {},
   "source": [
    "##### Create a list of numbers using the range function - any length or spacing - and print it out.  \n",
    "##### Can you calculate the sum of the numbers in your list, without using the sum() function?  (Hint: create a variable with a value of zero, then use a for loop to step through each number in your list, adding it onto the variable in turn (ie 'accumulate').\n",
    "##### Finally, check your result with the sum() function"
   ]
  },
  {
   "cell_type": "code",
   "execution_count": null,
   "metadata": {},
   "outputs": [],
   "source": [
    "# Your code in this cell:\n"
   ]
  },
  {
   "cell_type": "markdown",
   "metadata": {},
   "source": [
    "##### You are given a list of cars below.   Can you count how many of the cars consist of more than 3 characters?  (hint in the cell below)"
   ]
  },
  {
   "cell_type": "code",
   "execution_count": null,
   "metadata": {},
   "outputs": [],
   "source": [
    "cars = ['tesla', 'audi', 'kia', 'porsche', 'renault', 'bmw']\n",
    "\n",
    "# your code below:\n",
    "\n"
   ]
  },
  {
   "cell_type": "markdown",
   "metadata": {},
   "source": [
    "##### Hint: Initialise a count variable to be zero.  Use a for loop to work through the name of each car.  On each loop, find the length of the name and use an if statement to test whether the length is longer than 3 characters.  If so, increase the count variable, otherwise do nothing"
   ]
  },
  {
   "cell_type": "markdown",
   "metadata": {},
   "source": [
    "##### You are given a list of air quality measurements.  Can you count how many are exceed the threshold 10?"
   ]
  },
  {
   "cell_type": "code",
   "execution_count": null,
   "metadata": {},
   "outputs": [],
   "source": [
    "air_quality = [2.3, 9, 13.4, 6.2, 15, 4.25, 8, 20, 100, 5]\n",
    "\n",
    "# your code below:\n",
    "\n"
   ]
  },
  {
   "cell_type": "markdown",
   "metadata": {},
   "source": [
    "##### It rather looks that a reading of 100 is an outlier, can you change your code so that it does a bit of data cleaning, eg if any of the readings exceed 75 then it is discarded from the list before counting how many exceed the the threshold of 10"
   ]
  },
  {
   "cell_type": "code",
   "execution_count": null,
   "metadata": {},
   "outputs": [],
   "source": []
  }
 ],
 "metadata": {
  "kernelspec": {
   "display_name": "Python 3",
   "language": "python",
   "name": "python3"
  },
  "language_info": {
   "codemirror_mode": {
    "name": "ipython",
    "version": 3
   },
   "file_extension": ".py",
   "mimetype": "text/x-python",
   "name": "python",
   "nbconvert_exporter": "python",
   "pygments_lexer": "ipython3",
   "version": "3.7.4"
  }
 },
 "nbformat": 4,
 "nbformat_minor": 2
}
