{
 "cells": [
  {
   "cell_type": "markdown",
   "metadata": {},
   "source": [
    "## IMPORTANT INFO\n",
    "<br>\n",
    "Note that you can find all the workshop materials under the following link, each session being marked as \"week_x\":\n",
    "<br>\n",
    "<br>\n",
    "&nbsp;&nbsp;&nbsp;&nbsp;&nbsp;&nbsp;&nbsp;&nbsp;&nbsp;&nbsp;&nbsp;&nbsp;[https://github.com/CodeHubOrg/python_workshops](https://github.com/CodeHubOrg/python_workshops)\n",
    "<br>\n",
    "<br>\n",
    "Download the data files by clicking on the 'Clone or download' green button, choose 'Download ZIP', then unzip from your downloads folder. We will update the material before each session."
   ]
  },
  {
   "cell_type": "markdown",
   "metadata": {},
   "source": [
    "## 'Simple' looping through a list"
   ]
  },
  {
   "cell_type": "code",
   "execution_count": 1,
   "metadata": {},
   "outputs": [
    {
     "name": "stdout",
     "output_type": "stream",
     "text": [
      "chianti\n",
      "merlot\n",
      "pinot noir\n",
      "bordeaux\n"
     ]
    }
   ],
   "source": [
    "# Remember lists?\n",
    "wines = ['chianti', 'merlot', 'pinot noir', 'bordeaux']\n",
    "for wine in wines:\n",
    "    print(wine)"
   ]
  },
  {
   "cell_type": "markdown",
   "metadata": {},
   "source": [
    "#### Points to note:  \n",
    "* wine takes on a different value for each loop\n",
    "* colon after the 'for statement' - often forgotten at first!\n",
    "* indent is *really* important: use 4 spaces, rather than tab if not using Jupyter Notebooks\n",
    "* it is common to use singular for the variable name and plural for the list name, but any names are possible, eg"
   ]
  },
  {
   "cell_type": "code",
   "execution_count": 2,
   "metadata": {},
   "outputs": [
    {
     "name": "stdout",
     "output_type": "stream",
     "text": [
      "chianti\n",
      "merlot\n",
      "pinot noir\n",
      "bordeaux\n"
     ]
    }
   ],
   "source": [
    "wines = ['chianti', 'merlot', 'pinot noir', 'bordeaux']\n",
    "for i in wines:\n",
    "    print(i)"
   ]
  },
  {
   "cell_type": "markdown",
   "metadata": {},
   "source": [
    "#### The code in each loop can be as simple, or as complicated, as you want"
   ]
  },
  {
   "cell_type": "code",
   "execution_count": 3,
   "metadata": {
    "scrolled": true
   },
   "outputs": [
    {
     "name": "stdout",
     "output_type": "stream",
     "text": [
      "I would like a glass of chianti\n",
      "I would like a glass of merlot\n",
      "I would like a glass of pinot noir\n",
      "I would like a glass of bordeaux\n"
     ]
    }
   ],
   "source": [
    "# Let's print something a bit longer\n",
    "wines = ['chianti', 'merlot', 'pinot noir', 'bordeaux']\n",
    "for glass in wines:\n",
    "    print('I would like a glass of',glass)"
   ]
  },
  {
   "cell_type": "code",
   "execution_count": 4,
   "metadata": {},
   "outputs": [
    {
     "name": "stdout",
     "output_type": "stream",
     "text": [
      "I would like a glass of chianti\n",
      "The number of letters in chianti is 7\n",
      "I would like a glass of merlot\n",
      "The number of letters in merlot is 6\n",
      "I would like a glass of pinot noir\n",
      "The number of letters in pinot noir is 10\n",
      "I would like a glass of bordeaux\n",
      "The number of letters in bordeaux is 8\n"
     ]
    }
   ],
   "source": [
    "# ...and a bit more complicated\n",
    "wines = ['chianti', 'merlot', 'pinot noir', 'bordeaux']\n",
    "for glass in wines:\n",
    "    print('I would like a glass of',glass)\n",
    "    print('The number of letters in', glass, 'is', len(glass))"
   ]
  },
  {
   "cell_type": "markdown",
   "metadata": {},
   "source": [
    "#### After the for loop, the programme just continues "
   ]
  },
  {
   "cell_type": "code",
   "execution_count": 5,
   "metadata": {},
   "outputs": [
    {
     "name": "stdout",
     "output_type": "stream",
     "text": [
      "I would like a glass of chianti\n",
      "I would like a glass of merlot\n",
      "I would like a glass of pinot noir\n",
      "I would like a glass of bordeaux\n",
      "I'm feeling a bit drunk\n"
     ]
    }
   ],
   "source": [
    "wines = ['chianti', 'merlot', 'pinot noir', 'bordeaux']\n",
    "for glass in wines:\n",
    "    print('I would like a glass of',glass)\n",
    "print(\"I'm feeling a bit drunk\")"
   ]
  },
  {
   "cell_type": "markdown",
   "metadata": {},
   "source": [
    "## Using the range() function"
   ]
  },
  {
   "cell_type": "markdown",
   "metadata": {},
   "source": [
    "##### range() is a very useful was of creating a list of numbers"
   ]
  },
  {
   "cell_type": "code",
   "execution_count": 6,
   "metadata": {},
   "outputs": [
    {
     "name": "stdout",
     "output_type": "stream",
     "text": [
      "[1, 2, 3, 4, 5]\n"
     ]
    }
   ],
   "source": [
    "list_of_numbers = list(range(1, 6))\n",
    "print(list_of_numbers)"
   ]
  },
  {
   "cell_type": "markdown",
   "metadata": {},
   "source": [
    "##### Points to note:\n",
    "* If no starting point is defined, then '0' will be used by default\n",
    "* Can also specify the spacing between numbers in a list"
   ]
  },
  {
   "cell_type": "code",
   "execution_count": 7,
   "metadata": {},
   "outputs": [
    {
     "name": "stdout",
     "output_type": "stream",
     "text": [
      "[2, 5, 8]\n"
     ]
    }
   ],
   "source": [
    "list_of_numbers = list(range(2, 10, 3))\n",
    "print((list_of_numbers))"
   ]
  },
  {
   "cell_type": "markdown",
   "metadata": {},
   "source": [
    "##### Other useful functions on lists of numbers:\n",
    "* min()\n",
    "* max()\n",
    "* sum()\n",
    "* len()"
   ]
  },
  {
   "cell_type": "code",
   "execution_count": 8,
   "metadata": {},
   "outputs": [
    {
     "name": "stdout",
     "output_type": "stream",
     "text": [
      "2\n"
     ]
    }
   ],
   "source": [
    "# For example:\n",
    "print(min(list_of_numbers))"
   ]
  },
  {
   "cell_type": "raw",
   "metadata": {},
   "source": [
    "## Conditionals: if, elif and else statements"
   ]
  },
  {
   "cell_type": "markdown",
   "metadata": {},
   "source": [
    "##### The concept of a conditional is well known, if it is raining I will take an umbrella.  In python:"
   ]
  },
  {
   "cell_type": "code",
   "execution_count": 9,
   "metadata": {},
   "outputs": [
    {
     "name": "stdout",
     "output_type": "stream",
     "text": [
      "I need to take my umbrella\n"
     ]
    }
   ],
   "source": [
    "weather = \"rain\"\n",
    "\n",
    "if weather == \"rain\":\n",
    "    print(\"I need to take my umbrella\")\n",
    "else:\n",
    "    print(\"I'll leave my umbrella at home\")"
   ]
  },
  {
   "cell_type": "markdown",
   "metadata": {},
   "source": [
    "##### The == phrase is a test for equality ('equality operator').  It's very common - also a common source of mistakes!\n",
    "##### Things to be careful with:\n",
    "* == not =\n",
    "* colons\n",
    "* 4 space indent\n",
    "* capitals matter\n",
    "##### Let's play to see what happens when these go wrong:"
   ]
  },
  {
   "cell_type": "code",
   "execution_count": 10,
   "metadata": {},
   "outputs": [
    {
     "name": "stdout",
     "output_type": "stream",
     "text": [
      "I need to take my coat\n"
     ]
    }
   ],
   "source": [
    "weather = \"cold\"\n",
    "\n",
    "if weather == \"cold\"\n",
    "    print(\"I need to take my coat\")\n",
    "else:\n",
    "    print(\"I'll leave my coat at home\")"
   ]
  },
  {
   "cell_type": "markdown",
   "metadata": {},
   "source": [
    "##### What about numerical tests - much the same, but now we can compare numbers for greater or smaller as well as equality:"
   ]
  },
  {
   "cell_type": "code",
   "execution_count": 11,
   "metadata": {},
   "outputs": [
    {
     "name": "stdout",
     "output_type": "stream",
     "text": [
      "I'll leave my coat at home\n"
     ]
    }
   ],
   "source": [
    "temp = 11\n",
    "\n",
    "if temp <= 10:\n",
    "    print(\"I need to take my coat\")\n",
    "else:\n",
    "    print(\"I'll leave my coat at home\")"
   ]
  },
  {
   "cell_type": "markdown",
   "metadata": {},
   "source": [
    "##### What if there are several options?"
   ]
  },
  {
   "cell_type": "code",
   "execution_count": 12,
   "metadata": {},
   "outputs": [
    {
     "name": "stdout",
     "output_type": "stream",
     "text": [
      "I need to take my duffle coat\n"
     ]
    }
   ],
   "source": [
    "temp = 4\n",
    "\n",
    "if temp <= 5:\n",
    "    print(\"I need to take my duffle coat\")\n",
    "elif temp <= 12:\n",
    "    print(\"I need to take my jacket\")\n",
    "else:\n",
    "    print(\"I'll leave all coats at home\")"
   ]
  },
  {
   "cell_type": "markdown",
   "metadata": {},
   "source": [
    "##### Testing if something is in a list, eg names, destinations, "
   ]
  },
  {
   "cell_type": "code",
   "execution_count": 13,
   "metadata": {},
   "outputs": [
    {
     "name": "stdout",
     "output_type": "stream",
     "text": [
      "bmw is in my list of cars\n"
     ]
    }
   ],
   "source": [
    "cars = ['bmw', 'ford', 'tesla', 'renault']\n",
    "\n",
    "sample = 'bmw'\n",
    "\n",
    "if sample in cars:\n",
    "    print(sample, 'is in my list of cars')\n",
    "else:\n",
    "    print(sample, 'does not appear in my list of cars')"
   ]
  },
  {
   "cell_type": "markdown",
   "metadata": {},
   "source": [
    "##### Sometimes it is convenient to ignore upper/lower case differences, eg a user may have entered a wrongly-capitalised item.  There are many\n",
    "##### ways of addressing this, eg ensure the list is all lower case and then convert any tests to lower case:"
   ]
  },
  {
   "cell_type": "code",
   "execution_count": 14,
   "metadata": {},
   "outputs": [
    {
     "name": "stdout",
     "output_type": "stream",
     "text": [
      "Bmw is in my list of cars\n"
     ]
    }
   ],
   "source": [
    "cars = ['bmw', 'ford', 'tesla', 'renault']\n",
    "\n",
    "sample = 'Bmw'\n",
    "\n",
    "if sample.lower() in cars:\n",
    "    print(sample, 'is in my list of cars')\n",
    "else:\n",
    "    print(sample, 'does not appear in my list of cars')"
   ]
  },
  {
   "cell_type": "markdown",
   "metadata": {},
   "source": [
    "### Checking whether a list is empty"
   ]
  },
  {
   "cell_type": "markdown",
   "metadata": {},
   "source": [
    "##### Typically, the data and information you are working with has not been created by you - it may be generated by another part of the programme, provided by a user, extracted from the web etc.  In such cases, you will find it useful to check whether there is something in the list before using it - there might be an error"
   ]
  },
  {
   "cell_type": "code",
   "execution_count": 15,
   "metadata": {},
   "outputs": [
    {
     "name": "stdout",
     "output_type": "stream",
     "text": [
      "bmw\n",
      "ford\n",
      "tesla\n",
      "renault\n"
     ]
    }
   ],
   "source": [
    "cars = ['bmw', 'ford', 'tesla', 'renault']\n",
    "\n",
    "if cars:\n",
    "    for car in cars:\n",
    "        print(car)\n",
    "else:\n",
    "    print('There are no cars in the list; is this correct?')"
   ]
  },
  {
   "cell_type": "markdown",
   "metadata": {},
   "source": [
    "### Boolean expressions: expressions which are either True or False"
   ]
  },
  {
   "cell_type": "markdown",
   "metadata": {},
   "source": [
    "##### Boolean expressions (or Boolean types) is a term which you may read about - effectively, the code above is already using them implicitly.\n",
    "##### If (expression is True do X) else (do Y)"
   ]
  },
  {
   "cell_type": "markdown",
   "metadata": {},
   "source": [
    "## While loops"
   ]
  },
  {
   "cell_type": "markdown",
   "metadata": {},
   "source": [
    "While loops are useful in particular when you cannot fix a value for the condition of stopping the code. "
   ]
  },
  {
   "cell_type": "markdown",
   "metadata": {},
   "source": [
    " For instance, when you want to stop a code once a certain value is reached, but you are not sure how many iteartions are required for this."
   ]
  },
  {
   "cell_type": "markdown",
   "metadata": {},
   "source": [
    "This is commonly used when you are trying to minimize an error and stop updating the estimated values once the error reaches a very small value."
   ]
  },
  {
   "cell_type": "code",
   "execution_count": 16,
   "metadata": {},
   "outputs": [],
   "source": [
    "a = 5"
   ]
  },
  {
   "cell_type": "code",
   "execution_count": 17,
   "metadata": {
    "scrolled": true
   },
   "outputs": [
    {
     "name": "stdout",
     "output_type": "stream",
     "text": [
      "4\n",
      "3\n",
      "2\n",
      "1\n",
      "0\n"
     ]
    }
   ],
   "source": [
    "while a > 0:\n",
    "    a = a - 1\n",
    "    print(a)"
   ]
  },
  {
   "cell_type": "markdown",
   "metadata": {},
   "source": [
    "### While break"
   ]
  },
  {
   "cell_type": "code",
   "execution_count": 18,
   "metadata": {},
   "outputs": [],
   "source": [
    "a = 10\n",
    "i = 1"
   ]
  },
  {
   "cell_type": "code",
   "execution_count": 19,
   "metadata": {},
   "outputs": [
    {
     "name": "stdout",
     "output_type": "stream",
     "text": [
      "a = 9\n",
      "i = 1\n",
      "\n",
      "a = 8\n",
      "i = 2\n",
      "\n",
      "a = 7\n",
      "i = 3\n",
      "\n",
      "a = 6\n",
      "i = 4\n",
      "\n",
      "a = 5\n",
      "i = 5\n",
      "\n"
     ]
    }
   ],
   "source": [
    "while a > 0:\n",
    "  a = a - 1\n",
    "  print('a = %d' % a)\n",
    "  print('i = %d\\n' % i)\n",
    "  if i >= 5:\n",
    "    break\n",
    "  i += 1"
   ]
  },
  {
   "cell_type": "markdown",
   "metadata": {},
   "source": [
    "### While continue"
   ]
  },
  {
   "cell_type": "code",
   "execution_count": 20,
   "metadata": {},
   "outputs": [],
   "source": [
    "a = 10\n",
    "i = 1"
   ]
  },
  {
   "cell_type": "code",
   "execution_count": 21,
   "metadata": {},
   "outputs": [
    {
     "name": "stdout",
     "output_type": "stream",
     "text": [
      "a = 9\n",
      "i = 1\n",
      "\n",
      "a = 8\n",
      "i = 2\n",
      "\n",
      "a = 7\n",
      "i = 3\n",
      "\n",
      "a = 6\n",
      "i = 4\n",
      "\n",
      "a = 5\n",
      "i = 5\n",
      "\n",
      "a = 4\n",
      "i = 5\n",
      "\n",
      "a = 3\n",
      "i = 6\n",
      "\n",
      "a = 2\n",
      "i = 7\n",
      "\n",
      "a = 1\n",
      "i = 8\n",
      "\n",
      "a = 0\n",
      "i = 9\n",
      "\n"
     ]
    }
   ],
   "source": [
    "while a > 0:\n",
    "  a = a - 1\n",
    "  print('a = %d' % a)\n",
    "  print('i = %d\\n' % i)\n",
    "  if a == 5:\n",
    "    continue\n",
    "  i += 1"
   ]
  },
  {
   "cell_type": "markdown",
   "metadata": {},
   "source": [
    "## Try except clauses"
   ]
  },
  {
   "cell_type": "markdown",
   "metadata": {},
   "source": [
    "Try except clauses are used for error handling in Python. Exceptions are caught in try blocks and handled in except blocks. \n",
    "When the expression in the try block leads to an error, the code is not stopped, but continues down in the except block. "
   ]
  },
  {
   "cell_type": "code",
   "execution_count": 22,
   "metadata": {},
   "outputs": [],
   "source": [
    "a = 6"
   ]
  },
  {
   "cell_type": "code",
   "execution_count": 23,
   "metadata": {},
   "outputs": [],
   "source": [
    "b = 4"
   ]
  },
  {
   "cell_type": "code",
   "execution_count": 24,
   "metadata": {},
   "outputs": [],
   "source": [
    "c = 'test'"
   ]
  },
  {
   "cell_type": "code",
   "execution_count": 25,
   "metadata": {},
   "outputs": [
    {
     "name": "stdout",
     "output_type": "stream",
     "text": [
      "b = 10\n"
     ]
    }
   ],
   "source": [
    "try:\n",
    "    b = b + a\n",
    "    print('b = %d' % b)\n",
    "except:\n",
    "    print('An error occured when updating b.')    "
   ]
  },
  {
   "cell_type": "code",
   "execution_count": 26,
   "metadata": {},
   "outputs": [
    {
     "name": "stdout",
     "output_type": "stream",
     "text": [
      "An error occured when updating b.\n"
     ]
    }
   ],
   "source": [
    "try:\n",
    "    b = b + c\n",
    "    print(b)\n",
    "except:\n",
    "    print('An error occured when updating b.')  "
   ]
  },
  {
   "cell_type": "markdown",
   "metadata": {},
   "source": [
    "Optionally, you can add a third block: the finally block. The expression inside this block will be executed regardless of whether an exception occured."
   ]
  },
  {
   "cell_type": "code",
   "execution_count": 27,
   "metadata": {},
   "outputs": [
    {
     "name": "stdout",
     "output_type": "stream",
     "text": [
      "b = 16\n",
      "First b update.\n"
     ]
    }
   ],
   "source": [
    "try:\n",
    "    b = b + a\n",
    "    print('b = %d' % b)\n",
    "except:\n",
    "    print('An error occured when updating b.')  \n",
    "finally:\n",
    "    print('First b update.')"
   ]
  },
  {
   "cell_type": "code",
   "execution_count": 28,
   "metadata": {},
   "outputs": [
    {
     "name": "stdout",
     "output_type": "stream",
     "text": [
      "An error occured when updating b.\n",
      "First b update.\n"
     ]
    }
   ],
   "source": [
    "try:\n",
    "    b = b + c\n",
    "    print('b = %d' % b)\n",
    "except:\n",
    "    print('An error occured when updating b.')  \n",
    "finally:\n",
    "    print('First b update.')"
   ]
  },
  {
   "cell_type": "markdown",
   "metadata": {},
   "source": [
    "### Python built-in exceptions"
   ]
  },
  {
   "cell_type": "markdown",
   "metadata": {},
   "source": [
    "Most common Python built-in exceptions:\n",
    "\n",
    "* __ValueError__\n",
    "\n",
    "Raised when a built-in operation or function receives an argument that has the\n",
    "right type but an inappropriate value.\n",
    "\n",
    "* __NameError__\n",
    "\n",
    "Raised when a local or global name is not found.\n",
    "\n",
    "* __IOError__\n",
    "\n",
    "When a file cannot be opened.\n",
    "\n",
    "* __ImportError__\n",
    "\n",
    "If Python cannot find the module.\n",
    "\n",
    "* __KeyboardInterrupt__\n",
    "\n",
    "Raised when the user hits the interrupt key (normally Control-C or Delete)."
   ]
  },
  {
   "cell_type": "markdown",
   "metadata": {},
   "source": [
    "#### Python file modes"
   ]
  },
  {
   "cell_type": "markdown",
   "metadata": {},
   "source": [
    "__Mode__  &emsp; &emsp;  __Description__\n",
    "\n",
    "* 'r' &emsp; &emsp; Open a file for reading. (default)\n",
    "\n",
    "* 'w' &emsp; &emsp; Open a file for writing. Creates a new file if it does not exist or truncates the file if it exists.\n",
    "\n",
    "* 'x' &emsp; &emsp; Open a file for exclusive creation. If the file already exists, the operation fails.\n",
    "\n",
    "* 'a' &emsp; &emsp; Open for appending at the end of the file without truncating it. Creates a new file if it does not exist.\n",
    "\n",
    "* 't' &emsp; &emsp; Open in text mode. (default)\n",
    "\n",
    "* 'b' &emsp; &emsp; Open in binary mode.\n",
    "\n",
    "* '+' &emsp; &emsp; Open a file for updating (reading and writing)"
   ]
  },
  {
   "cell_type": "code",
   "execution_count": 29,
   "metadata": {},
   "outputs": [],
   "source": [
    "file_path = 'my_test_file.txt'\n",
    "idx = 0"
   ]
  },
  {
   "cell_type": "code",
   "execution_count": 30,
   "metadata": {
    "scrolled": true
   },
   "outputs": [
    {
     "name": "stdout",
     "output_type": "stream",
     "text": [
      "Incorrect inputs for opening file.\n",
      "Try #1 to open file my_test_file.txt...\n"
     ]
    }
   ],
   "source": [
    "try:\n",
    "    idx += 1\n",
    "    my_file = open(file_path, 'p')\n",
    "    print('Successful file opening!')\n",
    "    print('Test over. Deleting file...')\n",
    "    import os\n",
    "    os.remove(file_path)\n",
    " \n",
    "except ValueError:\n",
    "    print('Incorrect inputs for opening file.')\n",
    "    \n",
    "except NameError:\n",
    "    print('Function/file not found.')\n",
    "    \n",
    "except IOError:\n",
    "    print('An error occured trying to read the file.')\n",
    "\n",
    "except ImportError:\n",
    "    print('No module found.')\n",
    "\n",
    "except KeyboardInterrupt:\n",
    "    print('You cancelled the operation.')\n",
    "\n",
    "finally:\n",
    "    print('Try #%d to open file %s...' % (idx, file_path))"
   ]
  },
  {
   "cell_type": "code",
   "execution_count": 31,
   "metadata": {},
   "outputs": [
    {
     "name": "stdout",
     "output_type": "stream",
     "text": [
      "Function/file not found.\n",
      "Try #2 to open file my_test_file.txt...\n"
     ]
    }
   ],
   "source": [
    "try:\n",
    "    idx += 1\n",
    "    my_file = open_file(file_path, 'r')\n",
    "    print('Successful file opening!')\n",
    "    print('Test over. Deleting file...')\n",
    "    import os\n",
    "    os.remove(file_path)\n",
    " \n",
    "except ValueError:\n",
    "    print('Incorrect inputs for opening file.')\n",
    "    \n",
    "except NameError:\n",
    "    print('Function/file not found.')\n",
    "    \n",
    "except IOError:\n",
    "    print('An error occured trying to read the file.')\n",
    "\n",
    "except ImportError:\n",
    "    print('No module found.')\n",
    "\n",
    "except KeyboardInterrupt:\n",
    "    print('You cancelled the operation.')\n",
    "\n",
    "finally:\n",
    "    print('Try #%d to open file %s...' % (idx, file_path))"
   ]
  },
  {
   "cell_type": "code",
   "execution_count": 32,
   "metadata": {},
   "outputs": [
    {
     "name": "stdout",
     "output_type": "stream",
     "text": [
      "Function/file not found.\n",
      "Try #3 to open file my_test_file.txt...\n"
     ]
    }
   ],
   "source": [
    "try:\n",
    "    idx += 1\n",
    "    my_file = open(file_path2, 'r')\n",
    "    print('Successful file opening!')\n",
    "    print('Test over. Deleting file...')\n",
    "    import os\n",
    "    os.remove(file_path)\n",
    " \n",
    "except ValueError:\n",
    "    print('Incorrect inputs for opening file.')\n",
    "    \n",
    "except NameError:\n",
    "    print('Function/file not found.')\n",
    "    \n",
    "except IOError:\n",
    "    print('An error occured trying to read the file.')\n",
    "\n",
    "except ImportError:\n",
    "    print('No module found.')\n",
    "\n",
    "except KeyboardInterrupt:\n",
    "    print('You cancelled the operation.')\n",
    "\n",
    "finally:\n",
    "    print('Try #%d to open file %s...' % (idx, file_path))"
   ]
  },
  {
   "cell_type": "code",
   "execution_count": 33,
   "metadata": {
    "scrolled": true
   },
   "outputs": [
    {
     "name": "stdout",
     "output_type": "stream",
     "text": [
      "An error occured trying to read the file.\n",
      "Try #4 to open file my_test_file.txt...\n"
     ]
    }
   ],
   "source": [
    "try:\n",
    "    idx += 1\n",
    "    my_file = open(file_path, 'r')\n",
    "    print('Successful file opening!')\n",
    "    print('Test over. Deleting file...')\n",
    "    import os\n",
    "    os.remove(file_path)\n",
    " \n",
    "except ValueError:\n",
    "    print('Incorrect inputs for opening file.')\n",
    "    \n",
    "except NameError:\n",
    "    print('Function/file not found.')\n",
    "    \n",
    "except IOError:\n",
    "    print('An error occured trying to read the file.')\n",
    "\n",
    "except ImportError:\n",
    "    print('No module found.')\n",
    "\n",
    "except KeyboardInterrupt:\n",
    "    print('You cancelled the operation.')\n",
    "\n",
    "finally:\n",
    "    print('Try #%d to open file %s...' % (idx, file_path))"
   ]
  },
  {
   "cell_type": "code",
   "execution_count": 34,
   "metadata": {},
   "outputs": [
    {
     "name": "stdout",
     "output_type": "stream",
     "text": [
      "Successful file opening!\n",
      "Test over. Deleting file...\n",
      "Try #5 to open file my_test_file.txt...\n"
     ]
    }
   ],
   "source": [
    "try:\n",
    "    idx += 1\n",
    "    my_file = open(file_path, 'w')\n",
    "    my_file = open(file_path, 'r')\n",
    "    print('Successful file opening!')\n",
    "    print('Test over. Deleting file...')\n",
    "    import os\n",
    "    os.remove(file_path)\n",
    " \n",
    "except ValueError:\n",
    "    print('Incorrect inputs for opening file.')\n",
    "    \n",
    "except NameError:\n",
    "    print('Function/file not found.')\n",
    "    \n",
    "except IOError:\n",
    "    print('An error occured trying to read the file.')\n",
    "\n",
    "except ImportError:\n",
    "    print('No module found.')\n",
    "\n",
    "except KeyboardInterrupt:\n",
    "    print('You cancelled the operation.')\n",
    "\n",
    "finally:\n",
    "    print('Try #%d to open file %s...' % (idx, file_path))"
   ]
  }
 ],
 "metadata": {
  "kernelspec": {
   "display_name": "Python 3",
   "language": "python",
   "name": "python3"
  },
  "language_info": {
   "codemirror_mode": {
    "name": "ipython",
    "version": 3
   },
   "file_extension": ".py",
   "mimetype": "text/x-python",
   "name": "python",
   "nbconvert_exporter": "python",
   "pygments_lexer": "ipython3",
   "version": "3.7.4"
  }
 },
 "nbformat": 4,
 "nbformat_minor": 2
}
