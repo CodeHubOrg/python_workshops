{
 "cells": [
  {
   "cell_type": "markdown",
   "metadata": {},
   "source": [
    "# For Loops and range() function"
   ]
  },
  {
   "cell_type": "code",
   "execution_count": null,
   "metadata": {},
   "outputs": [],
   "source": [
    "# Create a list of your favourite drinks - as long or as short as you like:\n",
    "\n",
    "\n",
    "# Print out the list, using a For loop:\n",
    "\n",
    "\n",
    "# Can you add another drink to the end of the list (ie following the material in week 2)\n",
    "\n",
    "\n",
    "# Now write a statement about each drink in turn, eg 'I like <tea>':  \n",
    "\n",
    "\n",
    "# Finally, add just one statement about all the drinks at the end"
   ]
  },
  {
   "cell_type": "code",
   "execution_count": null,
   "metadata": {},
   "outputs": [],
   "source": [
    "# Create a list of numbers using the range() function - let's say starting at 0 and ending on 11 in steps of 3:\n",
    "\n",
    "\n",
    "# Now, use a for loop to print out each number:\n",
    "\n",
    "\n",
    "# What are the types of the numbers you have just printed out?  Let's check your answer by using a for loop to print out \n",
    "# the type of each number:\n",
    "\n",
    "\n",
    "# Finally, can you find the average of the numbers, using the functions given in the tutorial?\n"
   ]
  },
  {
   "cell_type": "code",
   "execution_count": null,
   "metadata": {},
   "outputs": [],
   "source": []
  }
 ],
 "metadata": {
  "kernelspec": {
   "display_name": "Python 3",
   "language": "python",
   "name": "python3"
  },
  "language_info": {
   "codemirror_mode": {
    "name": "ipython",
    "version": 3
   },
   "file_extension": ".py",
   "mimetype": "text/x-python",
   "name": "python",
   "nbconvert_exporter": "python",
   "pygments_lexer": "ipython3",
   "version": "3.7.4"
  }
 },
 "nbformat": 4,
 "nbformat_minor": 2
}
