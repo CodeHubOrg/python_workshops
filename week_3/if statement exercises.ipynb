{
 "cells": [
  {
   "cell_type": "markdown",
   "metadata": {},
   "source": [
    "## if statement exercises"
   ]
  },
  {
   "cell_type": "code",
   "execution_count": null,
   "metadata": {},
   "outputs": [],
   "source": [
    "# Create a list of the names of some of the people in the workshop:\n",
    "\n",
    "\n",
    "\n",
    "# Now define another name and then create if...else... statements to see whether the name is in your list and print out \n",
    "# different statements dependent on whether the name is or isn't in the list:\n",
    "\n",
    "\n",
    "\n",
    "# Can you now adapt your code so that it will say the name is in the list even if the name is in upper case but the names\n",
    "# in the list are lower case\n",
    "\n",
    "\n"
   ]
  },
  {
   "cell_type": "markdown",
   "metadata": {},
   "source": [
    "##### In the cell below you are given a variable, x.  Create another variable, b, and set it equal to an initial value (say, 10).  Now create some tests\n",
    "##### such that:\n",
    "* if b is greater than x then the two numbers are added together and the result is printed out\n",
    "* if b is less than x then two  numbers are multiplied together and the result is printed out\n",
    "* if b equals x then x is divided by b and the result is printed out"
   ]
  },
  {
   "cell_type": "code",
   "execution_count": null,
   "metadata": {},
   "outputs": [],
   "source": [
    "x = 29\n",
    "\n",
    "# your code below:\n"
   ]
  },
  {
   "cell_type": "markdown",
   "metadata": {},
   "source": [
    "##### Try your code with different values of b and x - think about how you would go about testing that the solution is correct.\n",
    "##### What happens if b = 0?  A problem case - can you add something to your code that will 'catch' the error?"
   ]
  },
  {
   "cell_type": "code",
   "execution_count": null,
   "metadata": {},
   "outputs": [],
   "source": []
  }
 ],
 "metadata": {
  "kernelspec": {
   "display_name": "Python 3",
   "language": "python",
   "name": "python3"
  },
  "language_info": {
   "codemirror_mode": {
    "name": "ipython",
    "version": 3
   },
   "file_extension": ".py",
   "mimetype": "text/x-python",
   "name": "python",
   "nbconvert_exporter": "python",
   "pygments_lexer": "ipython3",
   "version": "3.7.4"
  }
 },
 "nbformat": 4,
 "nbformat_minor": 2
}
