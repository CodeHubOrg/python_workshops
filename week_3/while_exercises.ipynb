{
 "cells": [
  {
   "cell_type": "markdown",
   "metadata": {},
   "source": [
    "# While loops"
   ]
  },
  {
   "cell_type": "code",
   "execution_count": null,
   "metadata": {},
   "outputs": [],
   "source": [
    "# Write a while loop that prints out numbers from 1 to 12\n",
    "\n",
    "\n",
    "\n",
    "\n",
    "# Now, instead of printing out the numbers put the numbers into a list\n",
    "\n",
    "\n",
    "\n",
    "# Instead of putting all the numbers in the list, just put the odd numbers in the list\n",
    "\n",
    "\n",
    "\n"
   ]
  },
  {
   "cell_type": "code",
   "execution_count": null,
   "metadata": {},
   "outputs": [],
   "source": [
    "# Write a while loop that prints all the numbers from 0 to 8 except for 5 and 7\n",
    "\n",
    "\n"
   ]
  },
  {
   "cell_type": "markdown",
   "metadata": {},
   "source": [
    "#### The code below uses a for loop to sum the numbers in a list.  Write additional code to do the same thing but using a while loop - it should give the same answer!"
   ]
  },
  {
   "cell_type": "code",
   "execution_count": null,
   "metadata": {},
   "outputs": [],
   "source": [
    "sum_list = 0\n",
    "list_numbers = [7, 4, 21, 42]\n",
    "\n",
    "for i in list_numbers:\n",
    "    sum_list = sum_list + i\n",
    "    \n",
    "print('The sum of the list is', sum_list)\n",
    "\n",
    "\n",
    "# Your code with a while loop:\n",
    "\n"
   ]
  },
  {
   "cell_type": "markdown",
   "metadata": {},
   "source": [
    "##### A Fibonnaci Sequence looks like this: 1, 1, 2, 3, 5, 8, 13, etc, ie each number is the sum of the preceding two.  Can you print out the Fibonnaci Sequence using a while loop up to number 50."
   ]
  },
  {
   "cell_type": "code",
   "execution_count": null,
   "metadata": {},
   "outputs": [],
   "source": [
    "# Your code here:\n",
    "\n"
   ]
  }
 ],
 "metadata": {
  "kernelspec": {
   "display_name": "Python 3",
   "language": "python",
   "name": "python3"
  },
  "language_info": {
   "codemirror_mode": {
    "name": "ipython",
    "version": 3
   },
   "file_extension": ".py",
   "mimetype": "text/x-python",
   "name": "python",
   "nbconvert_exporter": "python",
   "pygments_lexer": "ipython3",
   "version": "3.7.4"
  }
 },
 "nbformat": 4,
 "nbformat_minor": 2
}
